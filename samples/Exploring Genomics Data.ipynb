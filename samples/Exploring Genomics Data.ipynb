{
 "cells": [
  {
   "cell_type": "markdown",
   "metadata": {},
   "source": [
    "# Exploring Genomic Data\n",
    "\n",
    "This notebook demonstrates working with genetic variant data stored as publicly accessible Google BigQuery datasets.\n",
    "\n",
    "Specifically, we will work with the [Illumina Platinum Genomes](https://cloud.google.com/genomics/data/platinum-genomes) data. The source data was originally in [VCF format](http://vcftools.sourceforge.net/VCF-poster.pdf), which was imported to [Google Genomics](https://cloud.google.com/genomics/) and exported to BigQuery.\n",
    "\n",
    "If you want to explore other genomics samples, see https://github.com/googlegenomics/datalab-examples. You can import them into your Google Cloud Datalab instance by uploading them from the notebook list page."
   ]
  },
  {
   "cell_type": "code",
   "execution_count": 1,
   "metadata": {},
   "outputs": [],
   "source": [
    "import google.datalab.bigquery as bq"
   ]
  },
  {
   "cell_type": "markdown",
   "metadata": {},
   "source": [
    "## Variants"
   ]
  },
  {
   "cell_type": "markdown",
   "metadata": {},
   "source": [
    "Let's start with a little bit of genomics nomenclature:\n",
    "\n",
    " * **Variant**: A region of the genome that has been identified as differing from the reference genome.\n",
    " * **Non-variant Segment**: A region of the genome that matches the reference genome. \n",
    " * **Reference Name**: The name of a reference segment of DNA. Typically, this is a chromosome, but it may be other named regions from a reference genome.\n",
    " * **Reference Bases**: The A's, C's, T's, and G's comprising the DNA of the reference genome at the site of variation.\n",
    " * **Alternate Bases**: The A's, C's, T's, and G's comprising the DNA actually found at the site of variation for the sample(s) sequenced.\n",
    " * **SNP**: A [single nucleotide polymorphism](https://en.wikipedia.org/wiki/Single-nucleotide_polymorphism) is a DNA sequence variation in which a single nucleotide — A, T, C or G — in the genome (or other shared sequence) differs between members of a biological species or paired chromosomes.\n"
   ]
  },
  {
   "cell_type": "code",
   "execution_count": 2,
   "metadata": {},
   "outputs": [
    {
     "data": {
      "text/plain": [
       "261285806"
      ]
     },
     "execution_count": 2,
     "metadata": {},
     "output_type": "execute_result"
    }
   ],
   "source": [
    "variants = bq.Table('genomics-public-data.platinum_genomes.variants')\n",
    "variants.length"
   ]
  },
  {
   "cell_type": "markdown",
   "metadata": {},
   "source": [
    "Wow, that's a lot of records!  For a detailed description of the schema, see [Understanding the BigQuery Variants Table Schema](https://cloud.google.com/genomics/v1/bigquery-variants-schema)."
   ]
  },
  {
   "cell_type": "markdown",
   "metadata": {},
   "source": [
    "## SNPs"
   ]
  },
  {
   "cell_type": "markdown",
   "metadata": {},
   "source": [
    "Next, let's take a look at a few SNPs in our data.  As mentioned in the nomenclature, SNPs are a particular kind of genetic variant. Let's create an SQL statement that can list all variant records for a single base change:"
   ]
  },
  {
   "cell_type": "code",
   "execution_count": 3,
   "metadata": {},
   "outputs": [],
   "source": [
    "%load_ext google.datalab.kernel"
   ]
  },
  {
   "cell_type": "code",
   "execution_count": 4,
   "metadata": {},
   "outputs": [],
   "source": [
    "%%bq query --name single_base\n",
    "SELECT\n",
    "  reference_name,\n",
    "  start,\n",
    "  reference_bases,\n",
    "  alternate_bases\n",
    "FROM\n",
    "  `genomics-public-data.platinum_genomes.variants`\n",
    "WHERE\n",
    "  reference_bases IN ('A','C','G','T') AND\n",
    "  ARRAY_LENGTH(alternate_bases) = 1\n",
    "LIMIT 100"
   ]
  },
  {
   "cell_type": "code",
   "execution_count": 5,
   "metadata": {},
   "outputs": [
    {
     "data": {
      "text/html": [
       "\n",
       "    <div class=\"bqtv\" id=\"1_154510072337\"><table><tr><th>reference_name</th><th>start</th><th>reference_bases</th><th>alternate_bases</th></tr><tr><td>chr14</td><td>44018132</td><td>C</td><td>['G']</td></tr><tr><td>chr8</td><td>4515415</td><td>A</td><td>['T']</td></tr><tr><td>chr7</td><td>158995897</td><td>C</td><td>['G']</td></tr><tr><td>chr5</td><td>178600223</td><td>A</td><td>['C']</td></tr><tr><td>chr14</td><td>29080321</td><td>G</td><td>['A']</td></tr><tr><td>chr10</td><td>20971204</td><td>G</td><td>['A']</td></tr><tr><td>chr2</td><td>53991706</td><td>A</td><td>['C']</td></tr><tr><td>chr13</td><td>19663322</td><td>C</td><td>['T']</td></tr><tr><td>chr21</td><td>15029525</td><td>G</td><td>['T']</td></tr><tr><td>chr13</td><td>72009601</td><td>A</td><td>['G']</td></tr><tr><td>chr2</td><td>220972928</td><td>G</td><td>['A']</td></tr><tr><td>chr9</td><td>11668890</td><td>G</td><td>['T']</td></tr><tr><td>chr3</td><td>152858193</td><td>A</td><td>['T']</td></tr><tr><td>chr4</td><td>112489775</td><td>T</td><td>['A']</td></tr><tr><td>chr4</td><td>67596217</td><td>C</td><td>['T']</td></tr><tr><td>chr6</td><td>164531154</td><td>A</td><td>['G']</td></tr><tr><td>chr15</td><td>47415760</td><td>G</td><td>['A']</td></tr><tr><td>chr2</td><td>142456061</td><td>T</td><td>['TAA']</td></tr><tr><td>chr9</td><td>22707789</td><td>T</td><td>['C']</td></tr><tr><td>chr1</td><td>14234943</td><td>T</td><td>['G']</td></tr><tr><td>chr6</td><td>6840141</td><td>G</td><td>['A']</td></tr><tr><td>chr2</td><td>89836450</td><td>G</td><td>['A']</td></tr><tr><td>chr10</td><td>32752184</td><td>G</td><td>['A']</td></tr><tr><td>chr6</td><td>70996681</td><td>C</td><td>['T']</td></tr><tr><td>chr7</td><td>51430244</td><td>C</td><td>['T']</td></tr></table></div>\n",
       "    <br />(rows: 100, time: 0.8s,     4GB processed, job: job_CxvC9jnjjRfo7-QJrqHs4iTdo9wu)<br />\n",
       "    <script src=\"/static/components/requirejs/require.js\"></script>\n",
       "    <script>\n",
       "      require.config({\n",
       "        paths: {\n",
       "          base: '/static/base',\n",
       "          d3: '//cdnjs.cloudflare.com/ajax/libs/d3/3.4.13/d3',\n",
       "          plotly: 'https://cdn.plot.ly/plotly-1.5.1.min.js?noext',\n",
       "          jquery: '//ajax.googleapis.com/ajax/libs/jquery/2.0.0/jquery.min'\n",
       "        },\n",
       "        map: {\n",
       "          '*': {\n",
       "            datalab: 'nbextensions/gcpdatalab'\n",
       "          }\n",
       "        },\n",
       "        shim: {\n",
       "          plotly: {\n",
       "            deps: ['d3', 'jquery'],\n",
       "            exports: 'plotly'\n",
       "          }\n",
       "        }\n",
       "      });\n",
       "\n",
       "      require(['datalab/charting', 'datalab/element!1_154510072337', 'base/js/events',\n",
       "          'datalab/style!/nbextensions/gcpdatalab/charting.css'],\n",
       "        function(charts, dom, events) {\n",
       "          charts.render('gcharts', dom, events, 'paged_table', [], {\"cols\": [{\"id\": \"reference_name\", \"label\": \"reference_name\", \"type\": \"string\"}, {\"id\": \"start\", \"label\": \"start\", \"type\": \"number\"}, {\"id\": \"reference_bases\", \"label\": \"reference_bases\", \"type\": \"string\"}, {\"id\": \"alternate_bases\", \"label\": \"alternate_bases\", \"type\": \"string\"}], \"rows\": [{\"c\": [{\"v\": \"chr14\"}, {\"v\": 44018132}, {\"v\": \"C\"}, {\"v\": [\"G\"]}]}, {\"c\": [{\"v\": \"chr8\"}, {\"v\": 4515415}, {\"v\": \"A\"}, {\"v\": [\"T\"]}]}, {\"c\": [{\"v\": \"chr7\"}, {\"v\": 158995897}, {\"v\": \"C\"}, {\"v\": [\"G\"]}]}, {\"c\": [{\"v\": \"chr5\"}, {\"v\": 178600223}, {\"v\": \"A\"}, {\"v\": [\"C\"]}]}, {\"c\": [{\"v\": \"chr14\"}, {\"v\": 29080321}, {\"v\": \"G\"}, {\"v\": [\"A\"]}]}, {\"c\": [{\"v\": \"chr10\"}, {\"v\": 20971204}, {\"v\": \"G\"}, {\"v\": [\"A\"]}]}, {\"c\": [{\"v\": \"chr2\"}, {\"v\": 53991706}, {\"v\": \"A\"}, {\"v\": [\"C\"]}]}, {\"c\": [{\"v\": \"chr13\"}, {\"v\": 19663322}, {\"v\": \"C\"}, {\"v\": [\"T\"]}]}, {\"c\": [{\"v\": \"chr21\"}, {\"v\": 15029525}, {\"v\": \"G\"}, {\"v\": [\"T\"]}]}, {\"c\": [{\"v\": \"chr13\"}, {\"v\": 72009601}, {\"v\": \"A\"}, {\"v\": [\"G\"]}]}, {\"c\": [{\"v\": \"chr2\"}, {\"v\": 220972928}, {\"v\": \"G\"}, {\"v\": [\"A\"]}]}, {\"c\": [{\"v\": \"chr9\"}, {\"v\": 11668890}, {\"v\": \"G\"}, {\"v\": [\"T\"]}]}, {\"c\": [{\"v\": \"chr3\"}, {\"v\": 152858193}, {\"v\": \"A\"}, {\"v\": [\"T\"]}]}, {\"c\": [{\"v\": \"chr4\"}, {\"v\": 112489775}, {\"v\": \"T\"}, {\"v\": [\"A\"]}]}, {\"c\": [{\"v\": \"chr4\"}, {\"v\": 67596217}, {\"v\": \"C\"}, {\"v\": [\"T\"]}]}, {\"c\": [{\"v\": \"chr6\"}, {\"v\": 164531154}, {\"v\": \"A\"}, {\"v\": [\"G\"]}]}, {\"c\": [{\"v\": \"chr15\"}, {\"v\": 47415760}, {\"v\": \"G\"}, {\"v\": [\"A\"]}]}, {\"c\": [{\"v\": \"chr2\"}, {\"v\": 142456061}, {\"v\": \"T\"}, {\"v\": [\"TAA\"]}]}, {\"c\": [{\"v\": \"chr9\"}, {\"v\": 22707789}, {\"v\": \"T\"}, {\"v\": [\"C\"]}]}, {\"c\": [{\"v\": \"chr1\"}, {\"v\": 14234943}, {\"v\": \"T\"}, {\"v\": [\"G\"]}]}, {\"c\": [{\"v\": \"chr6\"}, {\"v\": 6840141}, {\"v\": \"G\"}, {\"v\": [\"A\"]}]}, {\"c\": [{\"v\": \"chr2\"}, {\"v\": 89836450}, {\"v\": \"G\"}, {\"v\": [\"A\"]}]}, {\"c\": [{\"v\": \"chr10\"}, {\"v\": 32752184}, {\"v\": \"G\"}, {\"v\": [\"A\"]}]}, {\"c\": [{\"v\": \"chr6\"}, {\"v\": 70996681}, {\"v\": \"C\"}, {\"v\": [\"T\"]}]}, {\"c\": [{\"v\": \"chr7\"}, {\"v\": 51430244}, {\"v\": \"C\"}, {\"v\": [\"T\"]}]}]},\n",
       "            {\n",
       "              pageSize: 25,\n",
       "              cssClassNames:  {\n",
       "                tableRow: 'gchart-table-row',\n",
       "                headerRow: 'gchart-table-headerrow',\n",
       "                oddTableRow: 'gchart-table-oddrow',\n",
       "                selectedTableRow: 'gchart-table-selectedrow',\n",
       "                hoverTableRow: 'gchart-table-hoverrow',\n",
       "                tableCell: 'gchart-table-cell',\n",
       "                headerCell: 'gchart-table-headercell',\n",
       "                rowNumberCell: 'gchart-table-rownumcell'\n",
       "              }\n",
       "            },\n",
       "            {source_index: 0, fields: 'reference_name,start,reference_bases,alternate_bases'},\n",
       "            0,\n",
       "            100);\n",
       "        }\n",
       "      );\n",
       "    </script>\n",
       "  "
      ],
      "text/plain": [
       "QueryResultsTable job_CxvC9jnjjRfo7-QJrqHs4iTdo9wu"
      ]
     },
     "execution_count": 5,
     "metadata": {},
     "output_type": "execute_result"
    }
   ],
   "source": [
    "%bq execute --query single_base"
   ]
  },
  {
   "cell_type": "markdown",
   "metadata": {},
   "source": [
    "## Transition/Transversion Ratio"
   ]
  },
  {
   "cell_type": "markdown",
   "metadata": {},
   "source": [
    "A SNP can be further classified as either a [transition](https://en.wikipedia.org/wiki/Transition_%28genetics%29) or a [transversion](https://en.wikipedia.org/wiki/Transversion). The ratio of transitions to transversions (TiTv ratio) in humans is observed to be approximately 2.1, but this is not uniform across the genome. Let's take a closer look by computing the TiTv ratio in contiguous regions of 100,000 base pairs."
   ]
  },
  {
   "cell_type": "code",
   "execution_count": 6,
   "metadata": {},
   "outputs": [],
   "source": [
    "%%bq query --name snps\n",
    "SELECT\n",
    "  reference_name,\n",
    "  reference_bases,\n",
    "  alternate_bases,\n",
    "  CAST(FLOOR(start / 100000) AS INT64) AS windows,\n",
    "  CONCAT(reference_bases, CONCAT(CAST('->' AS STRING), ARRAY_TO_STRING(alternate_bases, ''))) AS mutation,\n",
    "  ARRAY_LENGTH(alternate_bases) AS num_alts\n",
    "FROM\n",
    "  `genomics-public-data.platinum_genomes.variants`\n",
    "WHERE reference_name IN (\"1\", \"chr1\")\n",
    "  # Limit to bi-allelic SNP variants\n",
    "  AND reference_bases IN ('A','C','G','T')\n",
    "  AND ARRAY_LENGTH(alternate_bases) = 1"
   ]
  },
  {
   "cell_type": "markdown",
   "metadata": {},
   "source": [
    "We've updated the above query to include the \"window\" in which the SNP resides, and added a new field called \"mutation\"."
   ]
  },
  {
   "cell_type": "code",
   "execution_count": 7,
   "metadata": {},
   "outputs": [
    {
     "data": {
      "text/html": [
       "\n",
       "    <div class=\"bqtv\" id=\"2_154510072695\"><table><tr><th>reference_name</th><th>reference_bases</th><th>alternate_bases</th><th>windows</th><th>mutation</th><th>num_alts</th></tr><tr><td>chr1</td><td>G</td><td>['A']</td><td>1497</td><td>G-&gt;A</td><td>1</td></tr><tr><td>chr1</td><td>G</td><td>['C']</td><td>695</td><td>G-&gt;C</td><td>1</td></tr><tr><td>chr1</td><td>A</td><td>['G']</td><td>1545</td><td>A-&gt;G</td><td>1</td></tr><tr><td>chr1</td><td>G</td><td>['A']</td><td>2158</td><td>G-&gt;A</td><td>1</td></tr><tr><td>chr1</td><td>C</td><td>['T']</td><td>599</td><td>C-&gt;T</td><td>1</td></tr><tr><td>chr1</td><td>T</td><td>['G']</td><td>545</td><td>T-&gt;G</td><td>1</td></tr><tr><td>chr1</td><td>C</td><td>['T']</td><td>468</td><td>C-&gt;T</td><td>1</td></tr><tr><td>chr1</td><td>G</td><td>['T']</td><td>2363</td><td>G-&gt;T</td><td>1</td></tr><tr><td>chr1</td><td>A</td><td>['G']</td><td>1475</td><td>A-&gt;G</td><td>1</td></tr><tr><td>chr1</td><td>G</td><td>['A']</td><td>1899</td><td>G-&gt;A</td><td>1</td></tr></table></div>\n",
       "    <br />(rows: 10, time: 0.6s,     4GB processed, job: job_NeMZagVDi9trktYoabwaN34RvrS9)<br />\n",
       "    <script src=\"/static/components/requirejs/require.js\"></script>\n",
       "    <script>\n",
       "      require.config({\n",
       "        paths: {\n",
       "          base: '/static/base',\n",
       "          d3: '//cdnjs.cloudflare.com/ajax/libs/d3/3.4.13/d3',\n",
       "          plotly: 'https://cdn.plot.ly/plotly-1.5.1.min.js?noext',\n",
       "          jquery: '//ajax.googleapis.com/ajax/libs/jquery/2.0.0/jquery.min'\n",
       "        },\n",
       "        map: {\n",
       "          '*': {\n",
       "            datalab: 'nbextensions/gcpdatalab'\n",
       "          }\n",
       "        },\n",
       "        shim: {\n",
       "          plotly: {\n",
       "            deps: ['d3', 'jquery'],\n",
       "            exports: 'plotly'\n",
       "          }\n",
       "        }\n",
       "      });\n",
       "\n",
       "      require(['datalab/charting', 'datalab/element!2_154510072695', 'base/js/events',\n",
       "          'datalab/style!/nbextensions/gcpdatalab/charting.css'],\n",
       "        function(charts, dom, events) {\n",
       "          charts.render('gcharts', dom, events, 'table', [], {\"cols\": [{\"id\": \"reference_name\", \"label\": \"reference_name\", \"type\": \"string\"}, {\"id\": \"reference_bases\", \"label\": \"reference_bases\", \"type\": \"string\"}, {\"id\": \"alternate_bases\", \"label\": \"alternate_bases\", \"type\": \"string\"}, {\"id\": \"windows\", \"label\": \"windows\", \"type\": \"number\"}, {\"id\": \"mutation\", \"label\": \"mutation\", \"type\": \"string\"}, {\"id\": \"num_alts\", \"label\": \"num_alts\", \"type\": \"number\"}], \"rows\": [{\"c\": [{\"v\": \"chr1\"}, {\"v\": \"G\"}, {\"v\": [\"A\"]}, {\"v\": 1497}, {\"v\": \"G->A\"}, {\"v\": 1}]}, {\"c\": [{\"v\": \"chr1\"}, {\"v\": \"G\"}, {\"v\": [\"C\"]}, {\"v\": 695}, {\"v\": \"G->C\"}, {\"v\": 1}]}, {\"c\": [{\"v\": \"chr1\"}, {\"v\": \"A\"}, {\"v\": [\"G\"]}, {\"v\": 1545}, {\"v\": \"A->G\"}, {\"v\": 1}]}, {\"c\": [{\"v\": \"chr1\"}, {\"v\": \"G\"}, {\"v\": [\"A\"]}, {\"v\": 2158}, {\"v\": \"G->A\"}, {\"v\": 1}]}, {\"c\": [{\"v\": \"chr1\"}, {\"v\": \"C\"}, {\"v\": [\"T\"]}, {\"v\": 599}, {\"v\": \"C->T\"}, {\"v\": 1}]}, {\"c\": [{\"v\": \"chr1\"}, {\"v\": \"T\"}, {\"v\": [\"G\"]}, {\"v\": 545}, {\"v\": \"T->G\"}, {\"v\": 1}]}, {\"c\": [{\"v\": \"chr1\"}, {\"v\": \"C\"}, {\"v\": [\"T\"]}, {\"v\": 468}, {\"v\": \"C->T\"}, {\"v\": 1}]}, {\"c\": [{\"v\": \"chr1\"}, {\"v\": \"G\"}, {\"v\": [\"T\"]}, {\"v\": 2363}, {\"v\": \"G->T\"}, {\"v\": 1}]}, {\"c\": [{\"v\": \"chr1\"}, {\"v\": \"A\"}, {\"v\": [\"G\"]}, {\"v\": 1475}, {\"v\": \"A->G\"}, {\"v\": 1}]}, {\"c\": [{\"v\": \"chr1\"}, {\"v\": \"G\"}, {\"v\": [\"A\"]}, {\"v\": 1899}, {\"v\": \"G->A\"}, {\"v\": 1}]}]},\n",
       "            {\n",
       "              pageSize: 25,\n",
       "              cssClassNames:  {\n",
       "                tableRow: 'gchart-table-row',\n",
       "                headerRow: 'gchart-table-headerrow',\n",
       "                oddTableRow: 'gchart-table-oddrow',\n",
       "                selectedTableRow: 'gchart-table-selectedrow',\n",
       "                hoverTableRow: 'gchart-table-hoverrow',\n",
       "                tableCell: 'gchart-table-cell',\n",
       "                headerCell: 'gchart-table-headercell',\n",
       "                rowNumberCell: 'gchart-table-rownumcell'\n",
       "              }\n",
       "            },\n",
       "            {source_index: 1, fields: 'reference_name,reference_bases,alternate_bases,windows,mutation,num_alts'},\n",
       "            0,\n",
       "            10);\n",
       "        }\n",
       "      );\n",
       "    </script>\n",
       "  "
      ],
      "text/plain": [
       "QueryResultsTable job_NeMZagVDi9trktYoabwaN34RvrS9"
      ]
     },
     "execution_count": 7,
     "metadata": {},
     "output_type": "execute_result"
    }
   ],
   "source": [
    "%bq sample -q snps --count 10"
   ]
  },
  {
   "cell_type": "markdown",
   "metadata": {},
   "source": [
    "Next we group and classify the SNPs within their windows."
   ]
  },
  {
   "cell_type": "code",
   "execution_count": 8,
   "metadata": {},
   "outputs": [],
   "source": [
    "%%bq query --name windows --subqueries snps\n",
    "SELECT\n",
    "  reference_name,\n",
    "  windows AS win,\n",
    "  COUNTIF(mutation IN ('A->G', 'G->A', 'C->T', 'T->C')) AS transitions,\n",
    "  COUNTIF(mutation IN ('A->C', 'C->A', 'G->T', 'T->G',\n",
    "                       'A->T', 'T->A', 'C->G', 'G->C')) AS transversions,\n",
    "  COUNT(mutation) AS num_variants_in_window\n",
    "  FROM snps\n",
    "GROUP BY\n",
    "  reference_name,\n",
    "  win"
   ]
  },
  {
   "cell_type": "code",
   "execution_count": 9,
   "metadata": {},
   "outputs": [
    {
     "data": {
      "text/html": [
       "\n",
       "    <div class=\"bqtv\" id=\"3_154510073147\"><table><tr><th>reference_name</th><th>win</th><th>transitions</th><th>transversions</th><th>num_variants_in_window</th></tr><tr><td>chr1</td><td>986</td><td>202</td><td>136</td><td>365</td></tr><tr><td>chr1</td><td>545</td><td>110</td><td>74</td><td>198</td></tr><tr><td>chr1</td><td>878</td><td>186</td><td>83</td><td>280</td></tr><tr><td>chr1</td><td>140</td><td>109</td><td>103</td><td>224</td></tr><tr><td>chr1</td><td>2436</td><td>145</td><td>110</td><td>265</td></tr><tr><td>chr1</td><td>1538</td><td>187</td><td>157</td><td>378</td></tr><tr><td>chr1</td><td>1741</td><td>141</td><td>114</td><td>277</td></tr><tr><td>chr1</td><td>233</td><td>142</td><td>112</td><td>270</td></tr><tr><td>chr1</td><td>1556</td><td>92</td><td>88</td><td>194</td></tr><tr><td>chr1</td><td>2492</td><td>152</td><td>124</td><td>283</td></tr></table></div>\n",
       "    <br />(rows: 10, time: 1.8s,     4GB processed, job: job_ngP-xa1-QXbKcFqqVnCKVxbeKAVK)<br />\n",
       "    <script src=\"/static/components/requirejs/require.js\"></script>\n",
       "    <script>\n",
       "      require.config({\n",
       "        paths: {\n",
       "          base: '/static/base',\n",
       "          d3: '//cdnjs.cloudflare.com/ajax/libs/d3/3.4.13/d3',\n",
       "          plotly: 'https://cdn.plot.ly/plotly-1.5.1.min.js?noext',\n",
       "          jquery: '//ajax.googleapis.com/ajax/libs/jquery/2.0.0/jquery.min'\n",
       "        },\n",
       "        map: {\n",
       "          '*': {\n",
       "            datalab: 'nbextensions/gcpdatalab'\n",
       "          }\n",
       "        },\n",
       "        shim: {\n",
       "          plotly: {\n",
       "            deps: ['d3', 'jquery'],\n",
       "            exports: 'plotly'\n",
       "          }\n",
       "        }\n",
       "      });\n",
       "\n",
       "      require(['datalab/charting', 'datalab/element!3_154510073147', 'base/js/events',\n",
       "          'datalab/style!/nbextensions/gcpdatalab/charting.css'],\n",
       "        function(charts, dom, events) {\n",
       "          charts.render('gcharts', dom, events, 'table', [], {\"cols\": [{\"id\": \"reference_name\", \"label\": \"reference_name\", \"type\": \"string\"}, {\"id\": \"win\", \"label\": \"win\", \"type\": \"number\"}, {\"id\": \"transitions\", \"label\": \"transitions\", \"type\": \"number\"}, {\"id\": \"transversions\", \"label\": \"transversions\", \"type\": \"number\"}, {\"id\": \"num_variants_in_window\", \"label\": \"num_variants_in_window\", \"type\": \"number\"}], \"rows\": [{\"c\": [{\"v\": \"chr1\"}, {\"v\": 986}, {\"v\": 202}, {\"v\": 136}, {\"v\": 365}]}, {\"c\": [{\"v\": \"chr1\"}, {\"v\": 545}, {\"v\": 110}, {\"v\": 74}, {\"v\": 198}]}, {\"c\": [{\"v\": \"chr1\"}, {\"v\": 878}, {\"v\": 186}, {\"v\": 83}, {\"v\": 280}]}, {\"c\": [{\"v\": \"chr1\"}, {\"v\": 140}, {\"v\": 109}, {\"v\": 103}, {\"v\": 224}]}, {\"c\": [{\"v\": \"chr1\"}, {\"v\": 2436}, {\"v\": 145}, {\"v\": 110}, {\"v\": 265}]}, {\"c\": [{\"v\": \"chr1\"}, {\"v\": 1538}, {\"v\": 187}, {\"v\": 157}, {\"v\": 378}]}, {\"c\": [{\"v\": \"chr1\"}, {\"v\": 1741}, {\"v\": 141}, {\"v\": 114}, {\"v\": 277}]}, {\"c\": [{\"v\": \"chr1\"}, {\"v\": 233}, {\"v\": 142}, {\"v\": 112}, {\"v\": 270}]}, {\"c\": [{\"v\": \"chr1\"}, {\"v\": 1556}, {\"v\": 92}, {\"v\": 88}, {\"v\": 194}]}, {\"c\": [{\"v\": \"chr1\"}, {\"v\": 2492}, {\"v\": 152}, {\"v\": 124}, {\"v\": 283}]}]},\n",
       "            {\n",
       "              pageSize: 25,\n",
       "              cssClassNames:  {\n",
       "                tableRow: 'gchart-table-row',\n",
       "                headerRow: 'gchart-table-headerrow',\n",
       "                oddTableRow: 'gchart-table-oddrow',\n",
       "                selectedTableRow: 'gchart-table-selectedrow',\n",
       "                hoverTableRow: 'gchart-table-hoverrow',\n",
       "                tableCell: 'gchart-table-cell',\n",
       "                headerCell: 'gchart-table-headercell',\n",
       "                rowNumberCell: 'gchart-table-rownumcell'\n",
       "              }\n",
       "            },\n",
       "            {source_index: 2, fields: 'reference_name,win,transitions,transversions,num_variants_in_window'},\n",
       "            0,\n",
       "            10);\n",
       "        }\n",
       "      );\n",
       "    </script>\n",
       "  "
      ],
      "text/plain": [
       "QueryResultsTable job_ngP-xa1-QXbKcFqqVnCKVxbeKAVK"
      ]
     },
     "execution_count": 9,
     "metadata": {},
     "output_type": "execute_result"
    }
   ],
   "source": [
    "%bq sample -q windows --count 10"
   ]
  },
  {
   "cell_type": "markdown",
   "metadata": {},
   "source": [
    "And finally, we compute the per-window TiTv ratio."
   ]
  },
  {
   "cell_type": "code",
   "execution_count": 10,
   "metadata": {},
   "outputs": [],
   "source": [
    "%%bq query --name titv --subqueries snps windows\n",
    "SELECT\n",
    "  reference_name,\n",
    "  win * 100000 AS window_start,\n",
    "  transitions,\n",
    "  transversions,\n",
    "  transitions/transversions AS titv,\n",
    "  num_variants_in_window\n",
    "FROM windows\n",
    "ORDER BY\n",
    "    window_start"
   ]
  },
  {
   "cell_type": "code",
   "execution_count": 11,
   "metadata": {},
   "outputs": [
    {
     "data": {
      "text/html": [
       "\n",
       "    <div class=\"bqtv\" id=\"4_154510073611\"><table><tr><th>reference_name</th><th>window_start</th><th>transitions</th><th>transversions</th><th>titv</th><th>num_variants_in_window</th></tr><tr><td>chr1</td><td>0</td><td>232</td><td>156</td><td>1.4871794871794872</td><td>397</td></tr><tr><td>chr1</td><td>100000</td><td>118</td><td>56</td><td>2.107142857142857</td><td>177</td></tr><tr><td>chr1</td><td>200000</td><td>55</td><td>37</td><td>1.4864864864864864</td><td>94</td></tr><tr><td>chr1</td><td>300000</td><td>1</td><td>8</td><td>0.125</td><td>9</td></tr><tr><td>chr1</td><td>400000</td><td>21</td><td>11</td><td>1.9090909090909092</td><td>32</td></tr><tr><td>chr1</td><td>500000</td><td>160</td><td>49</td><td>3.2653061224489797</td><td>210</td></tr><tr><td>chr1</td><td>600000</td><td>63</td><td>43</td><td>1.4651162790697674</td><td>107</td></tr><tr><td>chr1</td><td>700000</td><td>278</td><td>252</td><td>1.1031746031746033</td><td>544</td></tr><tr><td>chr1</td><td>800000</td><td>906</td><td>619</td><td>1.4636510500807753</td><td>1562</td></tr><tr><td>chr1</td><td>900000</td><td>365</td><td>300</td><td>1.2166666666666666</td><td>698</td></tr></table></div>\n",
       "    <br />(rows: 10, time: 1.6s,     4GB processed, job: job_72lh6782Pn4gSXeU1Dw5AMDc0fPL)<br />\n",
       "    <script src=\"/static/components/requirejs/require.js\"></script>\n",
       "    <script>\n",
       "      require.config({\n",
       "        paths: {\n",
       "          base: '/static/base',\n",
       "          d3: '//cdnjs.cloudflare.com/ajax/libs/d3/3.4.13/d3',\n",
       "          plotly: 'https://cdn.plot.ly/plotly-1.5.1.min.js?noext',\n",
       "          jquery: '//ajax.googleapis.com/ajax/libs/jquery/2.0.0/jquery.min'\n",
       "        },\n",
       "        map: {\n",
       "          '*': {\n",
       "            datalab: 'nbextensions/gcpdatalab'\n",
       "          }\n",
       "        },\n",
       "        shim: {\n",
       "          plotly: {\n",
       "            deps: ['d3', 'jquery'],\n",
       "            exports: 'plotly'\n",
       "          }\n",
       "        }\n",
       "      });\n",
       "\n",
       "      require(['datalab/charting', 'datalab/element!4_154510073611', 'base/js/events',\n",
       "          'datalab/style!/nbextensions/gcpdatalab/charting.css'],\n",
       "        function(charts, dom, events) {\n",
       "          charts.render('gcharts', dom, events, 'table', [], {\"cols\": [{\"id\": \"reference_name\", \"label\": \"reference_name\", \"type\": \"string\"}, {\"id\": \"window_start\", \"label\": \"window_start\", \"type\": \"number\"}, {\"id\": \"transitions\", \"label\": \"transitions\", \"type\": \"number\"}, {\"id\": \"transversions\", \"label\": \"transversions\", \"type\": \"number\"}, {\"id\": \"titv\", \"label\": \"titv\", \"type\": \"number\"}, {\"id\": \"num_variants_in_window\", \"label\": \"num_variants_in_window\", \"type\": \"number\"}], \"rows\": [{\"c\": [{\"v\": \"chr1\"}, {\"v\": 0}, {\"v\": 232}, {\"v\": 156}, {\"v\": 1.4871794871794872}, {\"v\": 397}]}, {\"c\": [{\"v\": \"chr1\"}, {\"v\": 100000}, {\"v\": 118}, {\"v\": 56}, {\"v\": 2.107142857142857}, {\"v\": 177}]}, {\"c\": [{\"v\": \"chr1\"}, {\"v\": 200000}, {\"v\": 55}, {\"v\": 37}, {\"v\": 1.4864864864864864}, {\"v\": 94}]}, {\"c\": [{\"v\": \"chr1\"}, {\"v\": 300000}, {\"v\": 1}, {\"v\": 8}, {\"v\": 0.125}, {\"v\": 9}]}, {\"c\": [{\"v\": \"chr1\"}, {\"v\": 400000}, {\"v\": 21}, {\"v\": 11}, {\"v\": 1.9090909090909092}, {\"v\": 32}]}, {\"c\": [{\"v\": \"chr1\"}, {\"v\": 500000}, {\"v\": 160}, {\"v\": 49}, {\"v\": 3.2653061224489797}, {\"v\": 210}]}, {\"c\": [{\"v\": \"chr1\"}, {\"v\": 600000}, {\"v\": 63}, {\"v\": 43}, {\"v\": 1.4651162790697674}, {\"v\": 107}]}, {\"c\": [{\"v\": \"chr1\"}, {\"v\": 700000}, {\"v\": 278}, {\"v\": 252}, {\"v\": 1.1031746031746033}, {\"v\": 544}]}, {\"c\": [{\"v\": \"chr1\"}, {\"v\": 800000}, {\"v\": 906}, {\"v\": 619}, {\"v\": 1.4636510500807753}, {\"v\": 1562}]}, {\"c\": [{\"v\": \"chr1\"}, {\"v\": 900000}, {\"v\": 365}, {\"v\": 300}, {\"v\": 1.2166666666666666}, {\"v\": 698}]}]},\n",
       "            {\n",
       "              pageSize: 25,\n",
       "              cssClassNames:  {\n",
       "                tableRow: 'gchart-table-row',\n",
       "                headerRow: 'gchart-table-headerrow',\n",
       "                oddTableRow: 'gchart-table-oddrow',\n",
       "                selectedTableRow: 'gchart-table-selectedrow',\n",
       "                hoverTableRow: 'gchart-table-hoverrow',\n",
       "                tableCell: 'gchart-table-cell',\n",
       "                headerCell: 'gchart-table-headercell',\n",
       "                rowNumberCell: 'gchart-table-rownumcell'\n",
       "              }\n",
       "            },\n",
       "            {source_index: 3, fields: 'reference_name,window_start,transitions,transversions,titv,num_variants_in_window'},\n",
       "            0,\n",
       "            10);\n",
       "        }\n",
       "      );\n",
       "    </script>\n",
       "  "
      ],
      "text/plain": [
       "QueryResultsTable job_72lh6782Pn4gSXeU1Dw5AMDc0fPL"
      ]
     },
     "execution_count": 11,
     "metadata": {},
     "output_type": "execute_result"
    }
   ],
   "source": [
    "%bq sample -q titv --count 10"
   ]
  },
  {
   "cell_type": "code",
   "execution_count": 12,
   "metadata": {},
   "outputs": [
    {
     "data": {
      "text/html": [
       "<div>\n",
       "<style scoped>\n",
       "    .dataframe tbody tr th:only-of-type {\n",
       "        vertical-align: middle;\n",
       "    }\n",
       "\n",
       "    .dataframe tbody tr th {\n",
       "        vertical-align: top;\n",
       "    }\n",
       "\n",
       "    .dataframe thead th {\n",
       "        text-align: right;\n",
       "    }\n",
       "</style>\n",
       "<table border=\"1\" class=\"dataframe\">\n",
       "  <thead>\n",
       "    <tr style=\"text-align: right;\">\n",
       "      <th></th>\n",
       "      <th>reference_name</th>\n",
       "      <th>window_start</th>\n",
       "      <th>transitions</th>\n",
       "      <th>transversions</th>\n",
       "      <th>titv</th>\n",
       "      <th>num_variants_in_window</th>\n",
       "    </tr>\n",
       "  </thead>\n",
       "  <tbody>\n",
       "    <tr>\n",
       "      <th>0</th>\n",
       "      <td>chr1</td>\n",
       "      <td>0</td>\n",
       "      <td>232</td>\n",
       "      <td>156</td>\n",
       "      <td>1.487179</td>\n",
       "      <td>397</td>\n",
       "    </tr>\n",
       "    <tr>\n",
       "      <th>1</th>\n",
       "      <td>chr1</td>\n",
       "      <td>100000</td>\n",
       "      <td>118</td>\n",
       "      <td>56</td>\n",
       "      <td>2.107143</td>\n",
       "      <td>177</td>\n",
       "    </tr>\n",
       "    <tr>\n",
       "      <th>2</th>\n",
       "      <td>chr1</td>\n",
       "      <td>200000</td>\n",
       "      <td>55</td>\n",
       "      <td>37</td>\n",
       "      <td>1.486486</td>\n",
       "      <td>94</td>\n",
       "    </tr>\n",
       "    <tr>\n",
       "      <th>3</th>\n",
       "      <td>chr1</td>\n",
       "      <td>300000</td>\n",
       "      <td>1</td>\n",
       "      <td>8</td>\n",
       "      <td>0.125000</td>\n",
       "      <td>9</td>\n",
       "    </tr>\n",
       "    <tr>\n",
       "      <th>4</th>\n",
       "      <td>chr1</td>\n",
       "      <td>400000</td>\n",
       "      <td>21</td>\n",
       "      <td>11</td>\n",
       "      <td>1.909091</td>\n",
       "      <td>32</td>\n",
       "    </tr>\n",
       "  </tbody>\n",
       "</table>\n",
       "</div>"
      ],
      "text/plain": [
       "  reference_name  window_start  transitions  transversions      titv  \\\n",
       "0           chr1             0          232            156  1.487179   \n",
       "1           chr1        100000          118             56  2.107143   \n",
       "2           chr1        200000           55             37  1.486486   \n",
       "3           chr1        300000            1              8  0.125000   \n",
       "4           chr1        400000           21             11  1.909091   \n",
       "\n",
       "   num_variants_in_window  \n",
       "0                     397  \n",
       "1                     177  \n",
       "2                      94  \n",
       "3                       9  \n",
       "4                      32  "
      ]
     },
     "execution_count": 12,
     "metadata": {},
     "output_type": "execute_result"
    }
   ],
   "source": [
    "titvRatios = titv.execute(output_options=bq.QueryOutput.dataframe()).result()\n",
    "titvRatios[:5]"
   ]
  },
  {
   "cell_type": "markdown",
   "metadata": {},
   "source": [
    "## Visualization"
   ]
  },
  {
   "cell_type": "markdown",
   "metadata": {},
   "source": [
    "Now we can take the ratios and plot them by genomic position to see how the ratio varies depending upon where it was computed within the chromosome. By default, this plot shows chromosome 1 with its gap in the center of the data corresponding to its [metacentric contromere](https://en.wikipedia.org/wiki/Centromere#Metacentric)."
   ]
  },
  {
   "cell_type": "code",
   "execution_count": 13,
   "metadata": {},
   "outputs": [
    {
     "name": "stderr",
     "output_type": "stream",
     "text": [
      "/Users/ajhamilton/notebooks/venv/lib/python3.6/site-packages/seaborn/regression.py:546: UserWarning: The `size` paramter has been renamed to `height`; please update your code.\n",
      "  warnings.warn(msg, UserWarning)\n"
     ]
    },
    {
     "ename": "ModuleNotFoundError",
     "evalue": "No module named 'statsmodels'",
     "output_type": "error",
     "traceback": [
      "\u001b[0;31m---------------------------------------------------------------------------\u001b[0m",
      "\u001b[0;31mModuleNotFoundError\u001b[0m                       Traceback (most recent call last)",
      "\u001b[0;32m<ipython-input-13-0e06458c3119>\u001b[0m in \u001b[0;36m<module>\u001b[0;34m\u001b[0m\n\u001b[1;32m      9\u001b[0m                \u001b[0mscatter_kws\u001b[0m \u001b[0;34m=\u001b[0m \u001b[0;34m{\u001b[0m \u001b[0;34m'color'\u001b[0m\u001b[0;34m:\u001b[0m \u001b[0;34m'black'\u001b[0m\u001b[0;34m,\u001b[0m \u001b[0;34m'alpha'\u001b[0m\u001b[0;34m:\u001b[0m \u001b[0;36m0.4\u001b[0m \u001b[0;34m}\u001b[0m\u001b[0;34m,\u001b[0m\u001b[0;34m\u001b[0m\u001b[0m\n\u001b[1;32m     10\u001b[0m                \u001b[0mline_kws\u001b[0m \u001b[0;34m=\u001b[0m \u001b[0;34m{\u001b[0m \u001b[0;34m'color'\u001b[0m\u001b[0;34m:\u001b[0m \u001b[0;34m'blue'\u001b[0m\u001b[0;34m,\u001b[0m \u001b[0;34m'alpha'\u001b[0m\u001b[0;34m:\u001b[0m \u001b[0;36m0.5\u001b[0m\u001b[0;34m,\u001b[0m \u001b[0;34m'lw'\u001b[0m\u001b[0;34m:\u001b[0m \u001b[0;36m4\u001b[0m \u001b[0;34m}\u001b[0m\u001b[0;34m,\u001b[0m\u001b[0;34m\u001b[0m\u001b[0m\n\u001b[0;32m---> 11\u001b[0;31m                lowess = True)\n\u001b[0m\u001b[1;32m     12\u001b[0m \u001b[0mplt\u001b[0m\u001b[0;34m.\u001b[0m\u001b[0mxlabel\u001b[0m\u001b[0;34m(\u001b[0m\u001b[0;34m'Genomic Position'\u001b[0m\u001b[0;34m,\u001b[0m \u001b[0mfontsize\u001b[0m \u001b[0;34m=\u001b[0m \u001b[0;36m14\u001b[0m\u001b[0;34m)\u001b[0m\u001b[0;34m\u001b[0m\u001b[0m\n\u001b[1;32m     13\u001b[0m \u001b[0mplt\u001b[0m\u001b[0;34m.\u001b[0m\u001b[0mylabel\u001b[0m\u001b[0;34m(\u001b[0m\u001b[0;34m'Ti/Tv Ratio'\u001b[0m\u001b[0;34m,\u001b[0m \u001b[0mfontsize\u001b[0m \u001b[0;34m=\u001b[0m \u001b[0;36m14\u001b[0m\u001b[0;34m)\u001b[0m\u001b[0;34m\u001b[0m\u001b[0m\n",
      "\u001b[0;32m~/notebooks/venv/lib/python3.6/site-packages/seaborn/regression.py\u001b[0m in \u001b[0;36mlmplot\u001b[0;34m(x, y, data, hue, col, row, palette, col_wrap, height, aspect, markers, sharex, sharey, hue_order, col_order, row_order, legend, legend_out, x_estimator, x_bins, x_ci, scatter, fit_reg, ci, n_boot, units, order, logistic, lowess, robust, logx, x_partial, y_partial, truncate, x_jitter, y_jitter, scatter_kws, line_kws, size)\u001b[0m\n\u001b[1;32m    587\u001b[0m         \u001b[0mscatter_kws\u001b[0m\u001b[0;34m=\u001b[0m\u001b[0mscatter_kws\u001b[0m\u001b[0;34m,\u001b[0m \u001b[0mline_kws\u001b[0m\u001b[0;34m=\u001b[0m\u001b[0mline_kws\u001b[0m\u001b[0;34m,\u001b[0m\u001b[0;34m\u001b[0m\u001b[0m\n\u001b[1;32m    588\u001b[0m         )\n\u001b[0;32m--> 589\u001b[0;31m     \u001b[0mfacets\u001b[0m\u001b[0;34m.\u001b[0m\u001b[0mmap_dataframe\u001b[0m\u001b[0;34m(\u001b[0m\u001b[0mregplot\u001b[0m\u001b[0;34m,\u001b[0m \u001b[0mx\u001b[0m\u001b[0;34m,\u001b[0m \u001b[0my\u001b[0m\u001b[0;34m,\u001b[0m \u001b[0;34m**\u001b[0m\u001b[0mregplot_kws\u001b[0m\u001b[0;34m)\u001b[0m\u001b[0;34m\u001b[0m\u001b[0m\n\u001b[0m\u001b[1;32m    590\u001b[0m \u001b[0;34m\u001b[0m\u001b[0m\n\u001b[1;32m    591\u001b[0m     \u001b[0;31m# Add a legend\u001b[0m\u001b[0;34m\u001b[0m\u001b[0;34m\u001b[0m\u001b[0m\n",
      "\u001b[0;32m~/notebooks/venv/lib/python3.6/site-packages/seaborn/axisgrid.py\u001b[0m in \u001b[0;36mmap_dataframe\u001b[0;34m(self, func, *args, **kwargs)\u001b[0m\n\u001b[1;32m    818\u001b[0m \u001b[0;34m\u001b[0m\u001b[0m\n\u001b[1;32m    819\u001b[0m             \u001b[0;31m# Draw the plot\u001b[0m\u001b[0;34m\u001b[0m\u001b[0;34m\u001b[0m\u001b[0m\n\u001b[0;32m--> 820\u001b[0;31m             \u001b[0mself\u001b[0m\u001b[0;34m.\u001b[0m\u001b[0m_facet_plot\u001b[0m\u001b[0;34m(\u001b[0m\u001b[0mfunc\u001b[0m\u001b[0;34m,\u001b[0m \u001b[0max\u001b[0m\u001b[0;34m,\u001b[0m \u001b[0margs\u001b[0m\u001b[0;34m,\u001b[0m \u001b[0mkwargs\u001b[0m\u001b[0;34m)\u001b[0m\u001b[0;34m\u001b[0m\u001b[0m\n\u001b[0m\u001b[1;32m    821\u001b[0m \u001b[0;34m\u001b[0m\u001b[0m\n\u001b[1;32m    822\u001b[0m         \u001b[0;31m# Finalize the annotations and layout\u001b[0m\u001b[0;34m\u001b[0m\u001b[0;34m\u001b[0m\u001b[0m\n",
      "\u001b[0;32m~/notebooks/venv/lib/python3.6/site-packages/seaborn/axisgrid.py\u001b[0m in \u001b[0;36m_facet_plot\u001b[0;34m(self, func, ax, plot_args, plot_kwargs)\u001b[0m\n\u001b[1;32m    836\u001b[0m \u001b[0;34m\u001b[0m\u001b[0m\n\u001b[1;32m    837\u001b[0m         \u001b[0;31m# Draw the plot\u001b[0m\u001b[0;34m\u001b[0m\u001b[0;34m\u001b[0m\u001b[0m\n\u001b[0;32m--> 838\u001b[0;31m         \u001b[0mfunc\u001b[0m\u001b[0;34m(\u001b[0m\u001b[0;34m*\u001b[0m\u001b[0mplot_args\u001b[0m\u001b[0;34m,\u001b[0m \u001b[0;34m**\u001b[0m\u001b[0mplot_kwargs\u001b[0m\u001b[0;34m)\u001b[0m\u001b[0;34m\u001b[0m\u001b[0m\n\u001b[0m\u001b[1;32m    839\u001b[0m \u001b[0;34m\u001b[0m\u001b[0m\n\u001b[1;32m    840\u001b[0m         \u001b[0;31m# Sort out the supporting information\u001b[0m\u001b[0;34m\u001b[0m\u001b[0;34m\u001b[0m\u001b[0m\n",
      "\u001b[0;32m~/notebooks/venv/lib/python3.6/site-packages/seaborn/regression.py\u001b[0m in \u001b[0;36mregplot\u001b[0;34m(x, y, data, x_estimator, x_bins, x_ci, scatter, fit_reg, ci, n_boot, units, order, logistic, lowess, robust, logx, x_partial, y_partial, truncate, dropna, x_jitter, y_jitter, label, color, marker, scatter_kws, line_kws, ax)\u001b[0m\n\u001b[1;32m    787\u001b[0m     \u001b[0mscatter_kws\u001b[0m\u001b[0;34m[\u001b[0m\u001b[0;34m\"marker\"\u001b[0m\u001b[0;34m]\u001b[0m \u001b[0;34m=\u001b[0m \u001b[0mmarker\u001b[0m\u001b[0;34m\u001b[0m\u001b[0m\n\u001b[1;32m    788\u001b[0m     \u001b[0mline_kws\u001b[0m \u001b[0;34m=\u001b[0m \u001b[0;34m{\u001b[0m\u001b[0;34m}\u001b[0m \u001b[0;32mif\u001b[0m \u001b[0mline_kws\u001b[0m \u001b[0;32mis\u001b[0m \u001b[0;32mNone\u001b[0m \u001b[0;32melse\u001b[0m \u001b[0mcopy\u001b[0m\u001b[0;34m.\u001b[0m\u001b[0mcopy\u001b[0m\u001b[0;34m(\u001b[0m\u001b[0mline_kws\u001b[0m\u001b[0;34m)\u001b[0m\u001b[0;34m\u001b[0m\u001b[0m\n\u001b[0;32m--> 789\u001b[0;31m     \u001b[0mplotter\u001b[0m\u001b[0;34m.\u001b[0m\u001b[0mplot\u001b[0m\u001b[0;34m(\u001b[0m\u001b[0max\u001b[0m\u001b[0;34m,\u001b[0m \u001b[0mscatter_kws\u001b[0m\u001b[0;34m,\u001b[0m \u001b[0mline_kws\u001b[0m\u001b[0;34m)\u001b[0m\u001b[0;34m\u001b[0m\u001b[0m\n\u001b[0m\u001b[1;32m    790\u001b[0m     \u001b[0;32mreturn\u001b[0m \u001b[0max\u001b[0m\u001b[0;34m\u001b[0m\u001b[0m\n\u001b[1;32m    791\u001b[0m \u001b[0;34m\u001b[0m\u001b[0m\n",
      "\u001b[0;32m~/notebooks/venv/lib/python3.6/site-packages/seaborn/regression.py\u001b[0m in \u001b[0;36mplot\u001b[0;34m(self, ax, scatter_kws, line_kws)\u001b[0m\n\u001b[1;32m    342\u001b[0m             \u001b[0mself\u001b[0m\u001b[0;34m.\u001b[0m\u001b[0mscatterplot\u001b[0m\u001b[0;34m(\u001b[0m\u001b[0max\u001b[0m\u001b[0;34m,\u001b[0m \u001b[0mscatter_kws\u001b[0m\u001b[0;34m)\u001b[0m\u001b[0;34m\u001b[0m\u001b[0m\n\u001b[1;32m    343\u001b[0m         \u001b[0;32mif\u001b[0m \u001b[0mself\u001b[0m\u001b[0;34m.\u001b[0m\u001b[0mfit_reg\u001b[0m\u001b[0;34m:\u001b[0m\u001b[0;34m\u001b[0m\u001b[0m\n\u001b[0;32m--> 344\u001b[0;31m             \u001b[0mself\u001b[0m\u001b[0;34m.\u001b[0m\u001b[0mlineplot\u001b[0m\u001b[0;34m(\u001b[0m\u001b[0max\u001b[0m\u001b[0;34m,\u001b[0m \u001b[0mline_kws\u001b[0m\u001b[0;34m)\u001b[0m\u001b[0;34m\u001b[0m\u001b[0m\n\u001b[0m\u001b[1;32m    345\u001b[0m \u001b[0;34m\u001b[0m\u001b[0m\n\u001b[1;32m    346\u001b[0m         \u001b[0;31m# Label the axes\u001b[0m\u001b[0;34m\u001b[0m\u001b[0;34m\u001b[0m\u001b[0m\n",
      "\u001b[0;32m~/notebooks/venv/lib/python3.6/site-packages/seaborn/regression.py\u001b[0m in \u001b[0;36mlineplot\u001b[0;34m(self, ax, kws)\u001b[0m\n\u001b[1;32m    387\u001b[0m \u001b[0;34m\u001b[0m\u001b[0m\n\u001b[1;32m    388\u001b[0m         \u001b[0;31m# Fit the regression model\u001b[0m\u001b[0;34m\u001b[0m\u001b[0;34m\u001b[0m\u001b[0m\n\u001b[0;32m--> 389\u001b[0;31m         \u001b[0mgrid\u001b[0m\u001b[0;34m,\u001b[0m \u001b[0myhat\u001b[0m\u001b[0;34m,\u001b[0m \u001b[0merr_bands\u001b[0m \u001b[0;34m=\u001b[0m \u001b[0mself\u001b[0m\u001b[0;34m.\u001b[0m\u001b[0mfit_regression\u001b[0m\u001b[0;34m(\u001b[0m\u001b[0max\u001b[0m\u001b[0;34m)\u001b[0m\u001b[0;34m\u001b[0m\u001b[0m\n\u001b[0m\u001b[1;32m    390\u001b[0m \u001b[0;34m\u001b[0m\u001b[0m\n\u001b[1;32m    391\u001b[0m         \u001b[0;31m# Get set default aesthetics\u001b[0m\u001b[0;34m\u001b[0m\u001b[0;34m\u001b[0m\u001b[0m\n",
      "\u001b[0;32m~/notebooks/venv/lib/python3.6/site-packages/seaborn/regression.py\u001b[0m in \u001b[0;36mfit_regression\u001b[0;34m(self, ax, x_range, grid)\u001b[0m\n\u001b[1;32m    199\u001b[0m         \u001b[0;32melif\u001b[0m \u001b[0mself\u001b[0m\u001b[0;34m.\u001b[0m\u001b[0mlowess\u001b[0m\u001b[0;34m:\u001b[0m\u001b[0;34m\u001b[0m\u001b[0m\n\u001b[1;32m    200\u001b[0m             \u001b[0mci\u001b[0m \u001b[0;34m=\u001b[0m \u001b[0;32mNone\u001b[0m\u001b[0;34m\u001b[0m\u001b[0m\n\u001b[0;32m--> 201\u001b[0;31m             \u001b[0mgrid\u001b[0m\u001b[0;34m,\u001b[0m \u001b[0myhat\u001b[0m \u001b[0;34m=\u001b[0m \u001b[0mself\u001b[0m\u001b[0;34m.\u001b[0m\u001b[0mfit_lowess\u001b[0m\u001b[0;34m(\u001b[0m\u001b[0;34m)\u001b[0m\u001b[0;34m\u001b[0m\u001b[0m\n\u001b[0m\u001b[1;32m    202\u001b[0m         \u001b[0;32melif\u001b[0m \u001b[0mself\u001b[0m\u001b[0;34m.\u001b[0m\u001b[0mrobust\u001b[0m\u001b[0;34m:\u001b[0m\u001b[0;34m\u001b[0m\u001b[0m\n\u001b[1;32m    203\u001b[0m             \u001b[0;32mfrom\u001b[0m \u001b[0mstatsmodels\u001b[0m\u001b[0;34m.\u001b[0m\u001b[0mrobust\u001b[0m\u001b[0;34m.\u001b[0m\u001b[0mrobust_linear_model\u001b[0m \u001b[0;32mimport\u001b[0m \u001b[0mRLM\u001b[0m\u001b[0;34m\u001b[0m\u001b[0m\n",
      "\u001b[0;32m~/notebooks/venv/lib/python3.6/site-packages/seaborn/regression.py\u001b[0m in \u001b[0;36mfit_lowess\u001b[0;34m(self)\u001b[0m\n\u001b[1;32m    270\u001b[0m     \u001b[0;32mdef\u001b[0m \u001b[0mfit_lowess\u001b[0m\u001b[0;34m(\u001b[0m\u001b[0mself\u001b[0m\u001b[0;34m)\u001b[0m\u001b[0;34m:\u001b[0m\u001b[0;34m\u001b[0m\u001b[0m\n\u001b[1;32m    271\u001b[0m         \u001b[0;34m\"\"\"Fit a locally-weighted regression, which returns its own grid.\"\"\"\u001b[0m\u001b[0;34m\u001b[0m\u001b[0m\n\u001b[0;32m--> 272\u001b[0;31m         \u001b[0;32mfrom\u001b[0m \u001b[0mstatsmodels\u001b[0m\u001b[0;34m.\u001b[0m\u001b[0mnonparametric\u001b[0m\u001b[0;34m.\u001b[0m\u001b[0msmoothers_lowess\u001b[0m \u001b[0;32mimport\u001b[0m \u001b[0mlowess\u001b[0m\u001b[0;34m\u001b[0m\u001b[0m\n\u001b[0m\u001b[1;32m    273\u001b[0m         \u001b[0mgrid\u001b[0m\u001b[0;34m,\u001b[0m \u001b[0myhat\u001b[0m \u001b[0;34m=\u001b[0m \u001b[0mlowess\u001b[0m\u001b[0;34m(\u001b[0m\u001b[0mself\u001b[0m\u001b[0;34m.\u001b[0m\u001b[0my\u001b[0m\u001b[0;34m,\u001b[0m \u001b[0mself\u001b[0m\u001b[0;34m.\u001b[0m\u001b[0mx\u001b[0m\u001b[0;34m)\u001b[0m\u001b[0;34m.\u001b[0m\u001b[0mT\u001b[0m\u001b[0;34m\u001b[0m\u001b[0m\n\u001b[1;32m    274\u001b[0m         \u001b[0;32mreturn\u001b[0m \u001b[0mgrid\u001b[0m\u001b[0;34m,\u001b[0m \u001b[0myhat\u001b[0m\u001b[0;34m\u001b[0m\u001b[0m\n",
      "\u001b[0;31mModuleNotFoundError\u001b[0m: No module named 'statsmodels'"
     ]
    }
   ],
   "source": [
    "import seaborn as sns\n",
    "import matplotlib.pyplot as plt\n",
    "\n",
    "g = sns.lmplot(x='window_start',\n",
    "               y='titv',\n",
    "               data = titvRatios,\n",
    "               size = 8,\n",
    "               aspect = 2,\n",
    "               scatter_kws = { 'color': 'black', 'alpha': 0.4 },\n",
    "               line_kws = { 'color': 'blue', 'alpha': 0.5, 'lw': 4 },\n",
    "               lowess = True)\n",
    "plt.xlabel('Genomic Position', fontsize = 14)  \n",
    "plt.ylabel('Ti/Tv Ratio', fontsize = 14)\n",
    "plt.title('Ti/Tv Ratio computed on %d base pair windows for %s' % (100000, ['1', 'chr1']),\n",
    "          fontsize = 18)\n",
    "plt.annotate('Centromere', xy = (1.3e8, 1.5), xytext = (1.5e8, 3), size = 14,\n",
    "             arrowprops=dict(facecolor='black', shrink=0.05))"
   ]
  },
  {
   "cell_type": "code",
   "execution_count": null,
   "metadata": {},
   "outputs": [],
   "source": []
  }
 ],
 "metadata": {
  "kernelspec": {
   "display_name": "datalab-notebooks",
   "language": "python",
   "name": "datalab-notebooks"
  },
  "language_info": {
   "codemirror_mode": {
    "name": "ipython",
    "version": 3
   },
   "file_extension": ".py",
   "mimetype": "text/x-python",
   "name": "python",
   "nbconvert_exporter": "python",
   "pygments_lexer": "ipython3",
   "version": "3.6.4"
  }
 },
 "nbformat": 4,
 "nbformat_minor": 1
}
