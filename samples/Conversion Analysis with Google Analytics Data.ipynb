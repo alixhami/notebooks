{
 "cells": [
  {
   "cell_type": "markdown",
   "metadata": {},
   "source": [
    "# Conversion Analysis with Google Analytics Data\n",
    "\n",
    "This sample notebook demonstrates working with Google Analytics page views and session data exported to Google BigQuery.\n",
    "\n",
    "Google Analytics offers BigQuery export as part of its premium offering. If you're a premium user, you have the ability to export any of your analytics views to a BigQuery dataset that you own. If you're not, you can use the Analytics API to retrieve and import the data used to generate the default Analytics dashboards.\n",
    "\n",
    "The sample data used in this notebook shares the same schema as the Google Analytics BigQuery export, but it is from a sample, pubicly available account. It is also small in size. This notebook demonstrates one possible custom analytics scenario, and is not based upon actual data.\n",
    "\n",
    "Related Links:\n",
    "\n",
    "* [BigQuery](https://cloud.google.com/bigquery/what-is-bigquery)\n",
    "* [Google Analytics](https://analytics.google.com/)\n",
    "* [Google Charting API](https://developers.google.com/chart/?hl=en) for data visualization"
   ]
  },
  {
   "cell_type": "code",
   "execution_count": 1,
   "metadata": {},
   "outputs": [],
   "source": [
    "import google.datalab.bigquery as bq"
   ]
  },
  {
   "cell_type": "markdown",
   "metadata": {},
   "source": [
    "# Understanding the Hits Data\n",
    "\n",
    "It's helpful to inspect the schema and a sample of the data we're working with."
   ]
  },
  {
   "cell_type": "code",
   "execution_count": 2,
   "metadata": {},
   "outputs": [],
   "source": [
    "%load_ext google.datalab.kernel"
   ]
  },
  {
   "cell_type": "code",
   "execution_count": 3,
   "metadata": {},
   "outputs": [
    {
     "data": {
      "text/html": [
       "\n",
       "    <div class=\"bqsv\" id=\"1_154510062625\"></div>\n",
       "    <script src=\"/static/components/requirejs/require.js\"></script>\n",
       "    <script>\n",
       "      require.config({\n",
       "        paths: {\n",
       "          base: '/static/base',\n",
       "        },\n",
       "        map: {\n",
       "          '*': {\n",
       "            datalab: 'nbextensions/gcpdatalab'\n",
       "          }\n",
       "        },\n",
       "      });\n",
       "\n",
       "      require(['datalab/bigquery', 'datalab/element!1_154510062625',\n",
       "          'datalab/style!/nbextensions/gcpdatalab/bigquery.css'],\n",
       "        function(bq, dom) {\n",
       "          bq.renderSchema(dom, [{\"name\": \"visitorId\", \"type\": \"INTEGER\", \"mode\": \"NULLABLE\"}, {\"name\": \"visitNumber\", \"type\": \"INTEGER\", \"mode\": \"NULLABLE\"}, {\"name\": \"visitId\", \"type\": \"INTEGER\", \"mode\": \"NULLABLE\"}, {\"name\": \"visitStartTime\", \"type\": \"INTEGER\", \"mode\": \"NULLABLE\"}, {\"name\": \"date\", \"type\": \"STRING\", \"mode\": \"NULLABLE\"}, {\"name\": \"totals\", \"type\": \"RECORD\", \"mode\": \"NULLABLE\", \"fields\": [{\"name\": \"visits\", \"type\": \"INTEGER\", \"mode\": \"NULLABLE\"}, {\"name\": \"hits\", \"type\": \"INTEGER\", \"mode\": \"NULLABLE\"}, {\"name\": \"pageviews\", \"type\": \"INTEGER\", \"mode\": \"NULLABLE\"}, {\"name\": \"timeOnSite\", \"type\": \"INTEGER\", \"mode\": \"NULLABLE\"}, {\"name\": \"bounces\", \"type\": \"INTEGER\", \"mode\": \"NULLABLE\"}, {\"name\": \"transactions\", \"type\": \"INTEGER\", \"mode\": \"NULLABLE\"}, {\"name\": \"transactionRevenue\", \"type\": \"INTEGER\", \"mode\": \"NULLABLE\"}, {\"name\": \"newVisits\", \"type\": \"INTEGER\", \"mode\": \"NULLABLE\"}]}, {\"name\": \"trafficSource\", \"type\": \"RECORD\", \"mode\": \"NULLABLE\", \"fields\": [{\"name\": \"referralPath\", \"type\": \"STRING\", \"mode\": \"NULLABLE\"}, {\"name\": \"campaign\", \"type\": \"STRING\", \"mode\": \"NULLABLE\"}, {\"name\": \"source\", \"type\": \"STRING\", \"mode\": \"NULLABLE\"}, {\"name\": \"medium\", \"type\": \"STRING\", \"mode\": \"NULLABLE\"}, {\"name\": \"keyword\", \"type\": \"STRING\", \"mode\": \"NULLABLE\"}, {\"name\": \"adContent\", \"type\": \"STRING\", \"mode\": \"NULLABLE\"}]}, {\"name\": \"device\", \"type\": \"RECORD\", \"mode\": \"NULLABLE\", \"fields\": [{\"name\": \"browser\", \"type\": \"STRING\", \"mode\": \"NULLABLE\"}, {\"name\": \"browserVersion\", \"type\": \"STRING\", \"mode\": \"NULLABLE\"}, {\"name\": \"operatingSystem\", \"type\": \"STRING\", \"mode\": \"NULLABLE\"}, {\"name\": \"operatingSystemVersion\", \"type\": \"STRING\", \"mode\": \"NULLABLE\"}, {\"name\": \"isMobile\", \"type\": \"BOOLEAN\", \"mode\": \"NULLABLE\"}, {\"name\": \"flashVersion\", \"type\": \"STRING\", \"mode\": \"NULLABLE\"}, {\"name\": \"javaEnabled\", \"type\": \"BOOLEAN\", \"mode\": \"NULLABLE\"}, {\"name\": \"language\", \"type\": \"STRING\", \"mode\": \"NULLABLE\"}, {\"name\": \"screenColors\", \"type\": \"STRING\", \"mode\": \"NULLABLE\"}, {\"name\": \"screenResolution\", \"type\": \"STRING\", \"mode\": \"NULLABLE\"}]}, {\"name\": \"customDimensions\", \"type\": \"RECORD\", \"mode\": \"REPEATED\", \"fields\": [{\"name\": \"index\", \"type\": \"INTEGER\", \"mode\": \"NULLABLE\"}, {\"name\": \"value\", \"type\": \"STRING\", \"mode\": \"NULLABLE\"}]}, {\"name\": \"hits\", \"type\": \"RECORD\", \"mode\": \"REPEATED\", \"fields\": [{\"name\": \"hitNumber\", \"type\": \"INTEGER\", \"mode\": \"NULLABLE\"}, {\"name\": \"time\", \"type\": \"INTEGER\", \"mode\": \"NULLABLE\"}, {\"name\": \"hour\", \"type\": \"INTEGER\", \"mode\": \"NULLABLE\"}, {\"name\": \"minute\", \"type\": \"INTEGER\", \"mode\": \"NULLABLE\"}, {\"name\": \"isSecure\", \"type\": \"BOOLEAN\", \"mode\": \"NULLABLE\"}, {\"name\": \"isInteraction\", \"type\": \"BOOLEAN\", \"mode\": \"NULLABLE\"}, {\"name\": \"referer\", \"type\": \"STRING\", \"mode\": \"NULLABLE\"}, {\"name\": \"page\", \"type\": \"RECORD\", \"mode\": \"NULLABLE\", \"fields\": [{\"name\": \"pagePath\", \"type\": \"STRING\", \"mode\": \"NULLABLE\"}, {\"name\": \"hostname\", \"type\": \"STRING\", \"mode\": \"NULLABLE\"}, {\"name\": \"pageTitle\", \"type\": \"STRING\", \"mode\": \"NULLABLE\"}, {\"name\": \"searchKeyword\", \"type\": \"STRING\", \"mode\": \"NULLABLE\"}, {\"name\": \"searchCategory\", \"type\": \"STRING\", \"mode\": \"NULLABLE\"}]}, {\"name\": \"transaction\", \"type\": \"RECORD\", \"mode\": \"NULLABLE\", \"fields\": [{\"name\": \"transactionId\", \"type\": \"STRING\", \"mode\": \"NULLABLE\"}, {\"name\": \"transactionRevenue\", \"type\": \"INTEGER\", \"mode\": \"NULLABLE\"}, {\"name\": \"transactionTax\", \"type\": \"INTEGER\", \"mode\": \"NULLABLE\"}, {\"name\": \"transactionShipping\", \"type\": \"INTEGER\", \"mode\": \"NULLABLE\"}, {\"name\": \"affiliation\", \"type\": \"STRING\", \"mode\": \"NULLABLE\"}, {\"name\": \"currencyCode\", \"type\": \"STRING\", \"mode\": \"NULLABLE\"}, {\"name\": \"localTransactionRevenue\", \"type\": \"INTEGER\", \"mode\": \"NULLABLE\"}, {\"name\": \"localTransactionTax\", \"type\": \"INTEGER\", \"mode\": \"NULLABLE\"}, {\"name\": \"localTransactionShipping\", \"type\": \"INTEGER\", \"mode\": \"NULLABLE\"}]}, {\"name\": \"item\", \"type\": \"RECORD\", \"mode\": \"NULLABLE\", \"fields\": [{\"name\": \"transactionId\", \"type\": \"STRING\", \"mode\": \"NULLABLE\"}, {\"name\": \"productName\", \"type\": \"STRING\", \"mode\": \"NULLABLE\"}, {\"name\": \"productCategory\", \"type\": \"STRING\", \"mode\": \"NULLABLE\"}, {\"name\": \"productSku\", \"type\": \"STRING\", \"mode\": \"NULLABLE\"}, {\"name\": \"itemQuantity\", \"type\": \"INTEGER\", \"mode\": \"NULLABLE\"}, {\"name\": \"itemRevenue\", \"type\": \"INTEGER\", \"mode\": \"NULLABLE\"}, {\"name\": \"currencyCode\", \"type\": \"STRING\", \"mode\": \"NULLABLE\"}, {\"name\": \"localItemRevenue\", \"type\": \"INTEGER\", \"mode\": \"NULLABLE\"}]}, {\"name\": \"contentInfo\", \"type\": \"RECORD\", \"mode\": \"NULLABLE\", \"fields\": [{\"name\": \"contentDescription\", \"type\": \"STRING\", \"mode\": \"NULLABLE\"}]}, {\"name\": \"appInfo\", \"type\": \"RECORD\", \"mode\": \"NULLABLE\", \"fields\": [{\"name\": \"name\", \"type\": \"STRING\", \"mode\": \"NULLABLE\"}, {\"name\": \"version\", \"type\": \"STRING\", \"mode\": \"NULLABLE\"}, {\"name\": \"id\", \"type\": \"STRING\", \"mode\": \"NULLABLE\"}, {\"name\": \"installerId\", \"type\": \"STRING\", \"mode\": \"NULLABLE\"}]}, {\"name\": \"exceptionInfo\", \"type\": \"RECORD\", \"mode\": \"NULLABLE\", \"fields\": [{\"name\": \"description\", \"type\": \"STRING\", \"mode\": \"NULLABLE\"}, {\"name\": \"isFatal\", \"type\": \"BOOLEAN\", \"mode\": \"NULLABLE\"}]}, {\"name\": \"eventInfo\", \"type\": \"RECORD\", \"mode\": \"NULLABLE\", \"fields\": [{\"name\": \"eventCategory\", \"type\": \"STRING\", \"mode\": \"NULLABLE\"}, {\"name\": \"eventAction\", \"type\": \"STRING\", \"mode\": \"NULLABLE\"}, {\"name\": \"eventLabel\", \"type\": \"STRING\", \"mode\": \"NULLABLE\"}, {\"name\": \"eventValue\", \"type\": \"INTEGER\", \"mode\": \"NULLABLE\"}]}, {\"name\": \"customVariables\", \"type\": \"RECORD\", \"mode\": \"REPEATED\", \"fields\": [{\"name\": \"index\", \"type\": \"INTEGER\", \"mode\": \"NULLABLE\"}, {\"name\": \"customVarName\", \"type\": \"STRING\", \"mode\": \"NULLABLE\"}, {\"name\": \"customVarValue\", \"type\": \"STRING\", \"mode\": \"NULLABLE\"}]}, {\"name\": \"customDimensions\", \"type\": \"RECORD\", \"mode\": \"REPEATED\", \"fields\": [{\"name\": \"index\", \"type\": \"INTEGER\", \"mode\": \"NULLABLE\"}, {\"name\": \"value\", \"type\": \"STRING\", \"mode\": \"NULLABLE\"}]}, {\"name\": \"customMetrics\", \"type\": \"RECORD\", \"mode\": \"REPEATED\", \"fields\": [{\"name\": \"index\", \"type\": \"INTEGER\", \"mode\": \"NULLABLE\"}, {\"name\": \"value\", \"type\": \"INTEGER\", \"mode\": \"NULLABLE\"}]}, {\"name\": \"type\", \"type\": \"STRING\", \"mode\": \"NULLABLE\"}]}, {\"name\": \"fullVisitorId\", \"type\": \"STRING\", \"mode\": \"NULLABLE\"}]);\n",
       "        }\n",
       "      );\n",
       "    </script>\n",
       "    "
      ],
      "text/plain": [
       "<IPython.core.display.HTML object>"
      ]
     },
     "execution_count": 3,
     "metadata": {},
     "output_type": "execute_result"
    }
   ],
   "source": [
    "%%bq tables describe -n \"google.com:analytics-bigquery.LondonCycleHelmet.ga_sessions_20130910\""
   ]
  },
  {
   "cell_type": "markdown",
   "metadata": {},
   "source": [
    "The Google Analytics dataset has a large schema. It should be interesting to inspect some of the data in important columns."
   ]
  },
  {
   "cell_type": "code",
   "execution_count": 4,
   "metadata": {},
   "outputs": [],
   "source": [
    "%%bq query -n sessions \n",
    "SELECT fullVisitorId, visitId, hit.hitNumber as hitNumber, hit.page.pagePath as path\n",
    "FROM `google.com:analytics-bigquery.LondonCycleHelmet.ga_sessions_20130910`\n",
    "  CROSS JOIN UNNEST(hits) as hit\n",
    "ORDER BY visitStartTime, hitNumber"
   ]
  },
  {
   "cell_type": "code",
   "execution_count": 5,
   "metadata": {},
   "outputs": [
    {
     "data": {
      "text/html": [
       "\n",
       "    <div class=\"bqtv\" id=\"2_154510062906\"><table><tr><th>fullVisitorId</th><th>visitId</th><th>hitNumber</th><th>path</th></tr><tr><td>2879713562608983525</td><td>1378803173</td><td>1</td><td>/</td></tr><tr><td>2879713562608983525</td><td>1378803173</td><td>2</td><td>/vests/</td></tr><tr><td>2879713562608983525</td><td>1378803173</td><td>3</td><td>/vests/orange.html</td></tr><tr><td>2879713562608983525</td><td>1378803173</td><td>4</td><td>/vests/orange.html</td></tr><tr><td>2879713562608983525</td><td>1378803173</td><td>5</td><td>/</td></tr><tr><td>2879713562608983525</td><td>1378803173</td><td>6</td><td>/vests/</td></tr><tr><td>2879713562608983525</td><td>1378803173</td><td>7</td><td>/vests/yellow.html</td></tr><tr><td>2879713562608983525</td><td>1378803173</td><td>8</td><td>/vests/yellow.html</td></tr><tr><td>2879713562608983525</td><td>1378803250</td><td>1</td><td>/helmets/</td></tr><tr><td>6955732612793949850</td><td>1378803356</td><td>1</td><td>/helmets/heavy.html</td></tr><tr><td>6955732612793949850</td><td>1378803356</td><td>2</td><td>/helmets/heavy.html</td></tr><tr><td>6955732612793949850</td><td>1378803356</td><td>3</td><td>/helmets/heavy.html</td></tr><tr><td>6955732612793949850</td><td>1378803356</td><td>4</td><td>/login.html</td></tr><tr><td>6955732612793949850</td><td>1378803356</td><td>5</td><td>/login.html</td></tr><tr><td>6955732612793949850</td><td>1378803356</td><td>6</td><td>/basket.html</td></tr><tr><td>6955732612793949850</td><td>1378803356</td><td>7</td><td>/shipping.html</td></tr><tr><td>6955732612793949850</td><td>1378803356</td><td>8</td><td>/billing.html</td></tr><tr><td>6955732612793949850</td><td>1378803356</td><td>9</td><td>/confirm.html</td></tr><tr><td>6955732612793949850</td><td>1378803356</td><td>10</td><td>/confirm.html</td></tr><tr><td>6955732612793949850</td><td>1378803356</td><td>11</td><td>/confirm.html</td></tr><tr><td>1677140157296205498</td><td>1378803386</td><td>1</td><td>/vests/orange.html</td></tr><tr><td>1677140157296205498</td><td>1378803386</td><td>2</td><td>/vests/orange.html</td></tr><tr><td>1677140157296205498</td><td>1378803386</td><td>3</td><td>/vests/orange.html</td></tr><tr><td>1677140157296205498</td><td>1378803386</td><td>4</td><td>/basket.html</td></tr><tr><td>1677140157296205498</td><td>1378803386</td><td>5</td><td>/login.html</td></tr></table></div>\n",
       "    <br />(rows: 362, time: 0.5s,    10KB processed, job: job_tiY-WwLqscIOjS_DOLsDLgmgV23W)<br />\n",
       "    <script src=\"/static/components/requirejs/require.js\"></script>\n",
       "    <script>\n",
       "      require.config({\n",
       "        paths: {\n",
       "          base: '/static/base',\n",
       "          d3: '//cdnjs.cloudflare.com/ajax/libs/d3/3.4.13/d3',\n",
       "          plotly: 'https://cdn.plot.ly/plotly-1.5.1.min.js?noext',\n",
       "          jquery: '//ajax.googleapis.com/ajax/libs/jquery/2.0.0/jquery.min'\n",
       "        },\n",
       "        map: {\n",
       "          '*': {\n",
       "            datalab: 'nbextensions/gcpdatalab'\n",
       "          }\n",
       "        },\n",
       "        shim: {\n",
       "          plotly: {\n",
       "            deps: ['d3', 'jquery'],\n",
       "            exports: 'plotly'\n",
       "          }\n",
       "        }\n",
       "      });\n",
       "\n",
       "      require(['datalab/charting', 'datalab/element!2_154510062906', 'base/js/events',\n",
       "          'datalab/style!/nbextensions/gcpdatalab/charting.css'],\n",
       "        function(charts, dom, events) {\n",
       "          charts.render('gcharts', dom, events, 'paged_table', [], {\"cols\": [{\"id\": \"fullVisitorId\", \"label\": \"fullVisitorId\", \"type\": \"string\"}, {\"id\": \"visitId\", \"label\": \"visitId\", \"type\": \"number\"}, {\"id\": \"hitNumber\", \"label\": \"hitNumber\", \"type\": \"number\"}, {\"id\": \"path\", \"label\": \"path\", \"type\": \"string\"}], \"rows\": [{\"c\": [{\"v\": \"2879713562608983525\"}, {\"v\": 1378803173}, {\"v\": 1}, {\"v\": \"/\"}]}, {\"c\": [{\"v\": \"2879713562608983525\"}, {\"v\": 1378803173}, {\"v\": 2}, {\"v\": \"/vests/\"}]}, {\"c\": [{\"v\": \"2879713562608983525\"}, {\"v\": 1378803173}, {\"v\": 3}, {\"v\": \"/vests/orange.html\"}]}, {\"c\": [{\"v\": \"2879713562608983525\"}, {\"v\": 1378803173}, {\"v\": 4}, {\"v\": \"/vests/orange.html\"}]}, {\"c\": [{\"v\": \"2879713562608983525\"}, {\"v\": 1378803173}, {\"v\": 5}, {\"v\": \"/\"}]}, {\"c\": [{\"v\": \"2879713562608983525\"}, {\"v\": 1378803173}, {\"v\": 6}, {\"v\": \"/vests/\"}]}, {\"c\": [{\"v\": \"2879713562608983525\"}, {\"v\": 1378803173}, {\"v\": 7}, {\"v\": \"/vests/yellow.html\"}]}, {\"c\": [{\"v\": \"2879713562608983525\"}, {\"v\": 1378803173}, {\"v\": 8}, {\"v\": \"/vests/yellow.html\"}]}, {\"c\": [{\"v\": \"2879713562608983525\"}, {\"v\": 1378803250}, {\"v\": 1}, {\"v\": \"/helmets/\"}]}, {\"c\": [{\"v\": \"6955732612793949850\"}, {\"v\": 1378803356}, {\"v\": 1}, {\"v\": \"/helmets/heavy.html\"}]}, {\"c\": [{\"v\": \"6955732612793949850\"}, {\"v\": 1378803356}, {\"v\": 2}, {\"v\": \"/helmets/heavy.html\"}]}, {\"c\": [{\"v\": \"6955732612793949850\"}, {\"v\": 1378803356}, {\"v\": 3}, {\"v\": \"/helmets/heavy.html\"}]}, {\"c\": [{\"v\": \"6955732612793949850\"}, {\"v\": 1378803356}, {\"v\": 4}, {\"v\": \"/login.html\"}]}, {\"c\": [{\"v\": \"6955732612793949850\"}, {\"v\": 1378803356}, {\"v\": 5}, {\"v\": \"/login.html\"}]}, {\"c\": [{\"v\": \"6955732612793949850\"}, {\"v\": 1378803356}, {\"v\": 6}, {\"v\": \"/basket.html\"}]}, {\"c\": [{\"v\": \"6955732612793949850\"}, {\"v\": 1378803356}, {\"v\": 7}, {\"v\": \"/shipping.html\"}]}, {\"c\": [{\"v\": \"6955732612793949850\"}, {\"v\": 1378803356}, {\"v\": 8}, {\"v\": \"/billing.html\"}]}, {\"c\": [{\"v\": \"6955732612793949850\"}, {\"v\": 1378803356}, {\"v\": 9}, {\"v\": \"/confirm.html\"}]}, {\"c\": [{\"v\": \"6955732612793949850\"}, {\"v\": 1378803356}, {\"v\": 10}, {\"v\": \"/confirm.html\"}]}, {\"c\": [{\"v\": \"6955732612793949850\"}, {\"v\": 1378803356}, {\"v\": 11}, {\"v\": \"/confirm.html\"}]}, {\"c\": [{\"v\": \"1677140157296205498\"}, {\"v\": 1378803386}, {\"v\": 1}, {\"v\": \"/vests/orange.html\"}]}, {\"c\": [{\"v\": \"1677140157296205498\"}, {\"v\": 1378803386}, {\"v\": 2}, {\"v\": \"/vests/orange.html\"}]}, {\"c\": [{\"v\": \"1677140157296205498\"}, {\"v\": 1378803386}, {\"v\": 3}, {\"v\": \"/vests/orange.html\"}]}, {\"c\": [{\"v\": \"1677140157296205498\"}, {\"v\": 1378803386}, {\"v\": 4}, {\"v\": \"/basket.html\"}]}, {\"c\": [{\"v\": \"1677140157296205498\"}, {\"v\": 1378803386}, {\"v\": 5}, {\"v\": \"/login.html\"}]}]},\n",
       "            {\n",
       "              pageSize: 25,\n",
       "              cssClassNames:  {\n",
       "                tableRow: 'gchart-table-row',\n",
       "                headerRow: 'gchart-table-headerrow',\n",
       "                oddTableRow: 'gchart-table-oddrow',\n",
       "                selectedTableRow: 'gchart-table-selectedrow',\n",
       "                hoverTableRow: 'gchart-table-hoverrow',\n",
       "                tableCell: 'gchart-table-cell',\n",
       "                headerCell: 'gchart-table-headercell',\n",
       "                rowNumberCell: 'gchart-table-rownumcell'\n",
       "              }\n",
       "            },\n",
       "            {source_index: 0, fields: 'fullVisitorId,visitId,hitNumber,path'},\n",
       "            0,\n",
       "            362);\n",
       "        }\n",
       "      );\n",
       "    </script>\n",
       "  "
      ],
      "text/plain": [
       "QueryResultsTable job_tiY-WwLqscIOjS_DOLsDLgmgV23W"
      ]
     },
     "execution_count": 5,
     "metadata": {},
     "output_type": "execute_result"
    }
   ],
   "source": [
    "%bq execute --query sessions"
   ]
  },
  {
   "cell_type": "markdown",
   "metadata": {},
   "source": [
    "The data is organized as a set of visits (or sessions), with each visit containing a set of hits (or page views), in succession. Each hit has a URL path associated with it. Here is another query that shows paths and the number of hits across sessions."
   ]
  },
  {
   "cell_type": "code",
   "execution_count": 6,
   "metadata": {},
   "outputs": [],
   "source": [
    "%%bq query -n hits\n",
    "SELECT hit.page.pagePath as path, COUNT(visitId) as hitCount\n",
    "FROM `google.com:analytics-bigquery.LondonCycleHelmet.ga_sessions_20130910`\n",
    "  CROSS JOIN UNNEST(hits) as hit\n",
    "GROUP BY path\n",
    "ORDER BY hitCount DESC"
   ]
  },
  {
   "cell_type": "code",
   "execution_count": 7,
   "metadata": {},
   "outputs": [
    {
     "data": {
      "text/html": [
       "\n",
       "    <div class=\"bqtv\" id=\"3_154510063233\"><table><tr><th>path</th><th>hitCount</th></tr><tr><td>/confirm.html</td><td>51</td></tr><tr><td>/</td><td>45</td></tr><tr><td>/login.html</td><td>43</td></tr><tr><td>/helmets/foldable.html</td><td>38</td></tr><tr><td>/vests/yellow.html</td><td>24</td></tr><tr><td>/helmets/</td><td>23</td></tr><tr><td>/vests/</td><td>23</td></tr><tr><td>/basket.html</td><td>21</td></tr><tr><td>/vests/orange.html</td><td>20</td></tr><tr><td>/helmets/heavy.html</td><td>20</td></tr><tr><td>/shipping.html</td><td>20</td></tr><tr><td>/helmets/light.html</td><td>16</td></tr><tr><td>/billing.html</td><td>16</td></tr><tr><td>/vests/yellow.html?uym_source=google</td><td>2</td></tr></table></div>\n",
       "    <br />(rows: 14, time: 0.6s,     5KB processed, job: job_gEqD6TSgope8nHWT5y2pkc3sDiJI)<br />\n",
       "    <script src=\"/static/components/requirejs/require.js\"></script>\n",
       "    <script>\n",
       "      require.config({\n",
       "        paths: {\n",
       "          base: '/static/base',\n",
       "          d3: '//cdnjs.cloudflare.com/ajax/libs/d3/3.4.13/d3',\n",
       "          plotly: 'https://cdn.plot.ly/plotly-1.5.1.min.js?noext',\n",
       "          jquery: '//ajax.googleapis.com/ajax/libs/jquery/2.0.0/jquery.min'\n",
       "        },\n",
       "        map: {\n",
       "          '*': {\n",
       "            datalab: 'nbextensions/gcpdatalab'\n",
       "          }\n",
       "        },\n",
       "        shim: {\n",
       "          plotly: {\n",
       "            deps: ['d3', 'jquery'],\n",
       "            exports: 'plotly'\n",
       "          }\n",
       "        }\n",
       "      });\n",
       "\n",
       "      require(['datalab/charting', 'datalab/element!3_154510063233', 'base/js/events',\n",
       "          'datalab/style!/nbextensions/gcpdatalab/charting.css'],\n",
       "        function(charts, dom, events) {\n",
       "          charts.render('gcharts', dom, events, 'table', [], {\"cols\": [{\"id\": \"path\", \"label\": \"path\", \"type\": \"string\"}, {\"id\": \"hitCount\", \"label\": \"hitCount\", \"type\": \"number\"}], \"rows\": [{\"c\": [{\"v\": \"/confirm.html\"}, {\"v\": 51}]}, {\"c\": [{\"v\": \"/\"}, {\"v\": 45}]}, {\"c\": [{\"v\": \"/login.html\"}, {\"v\": 43}]}, {\"c\": [{\"v\": \"/helmets/foldable.html\"}, {\"v\": 38}]}, {\"c\": [{\"v\": \"/vests/yellow.html\"}, {\"v\": 24}]}, {\"c\": [{\"v\": \"/helmets/\"}, {\"v\": 23}]}, {\"c\": [{\"v\": \"/vests/\"}, {\"v\": 23}]}, {\"c\": [{\"v\": \"/basket.html\"}, {\"v\": 21}]}, {\"c\": [{\"v\": \"/vests/orange.html\"}, {\"v\": 20}]}, {\"c\": [{\"v\": \"/helmets/heavy.html\"}, {\"v\": 20}]}, {\"c\": [{\"v\": \"/shipping.html\"}, {\"v\": 20}]}, {\"c\": [{\"v\": \"/helmets/light.html\"}, {\"v\": 16}]}, {\"c\": [{\"v\": \"/billing.html\"}, {\"v\": 16}]}, {\"c\": [{\"v\": \"/vests/yellow.html?uym_source=google\"}, {\"v\": 2}]}]},\n",
       "            {\n",
       "              pageSize: 25,\n",
       "              cssClassNames:  {\n",
       "                tableRow: 'gchart-table-row',\n",
       "                headerRow: 'gchart-table-headerrow',\n",
       "                oddTableRow: 'gchart-table-oddrow',\n",
       "                selectedTableRow: 'gchart-table-selectedrow',\n",
       "                hoverTableRow: 'gchart-table-hoverrow',\n",
       "                tableCell: 'gchart-table-cell',\n",
       "                headerCell: 'gchart-table-headercell',\n",
       "                rowNumberCell: 'gchart-table-rownumcell'\n",
       "              }\n",
       "            },\n",
       "            {source_index: 1, fields: 'path,hitCount'},\n",
       "            0,\n",
       "            14);\n",
       "        }\n",
       "      );\n",
       "    </script>\n",
       "  "
      ],
      "text/plain": [
       "QueryResultsTable job_gEqD6TSgope8nHWT5y2pkc3sDiJI"
      ]
     },
     "execution_count": 7,
     "metadata": {},
     "output_type": "execute_result"
    }
   ],
   "source": [
    "%%bq execute -q hits"
   ]
  },
  {
   "cell_type": "markdown",
   "metadata": {},
   "source": [
    "# Producing Conversion Data\n",
    "\n",
    "For the purposes of this sample, the question to be answered is \"Which path leads to higher conversion ratio: users landing on the landing page (path = '/') or users landing on a product page (eg. '/vests/yellow.html')?\" \"Conversion\" is defined as the user loading the '/confirm/' page within a single session."
   ]
  },
  {
   "cell_type": "code",
   "execution_count": 8,
   "metadata": {},
   "outputs": [],
   "source": [
    "%%bq query -n conversions\n",
    "WITH\n",
    "  AnnotatedVisits AS (\n",
    "    SELECT\n",
    "      visitId,\n",
    "      hit.page.pagePath AS path,\n",
    "      hit.hitNumber AS hitNumber,\n",
    "      '/confirm.html' IN (SELECT page.pagePath FROM UNNEST(hits)) AS transacted\n",
    "    FROM `google.com:analytics-bigquery.LondonCycleHelmet.ga_sessions_20130910`\n",
    "      CROSS JOIN UNNEST(hits) AS hit\n",
    "    ORDER BY visitStartTime, hitNumber)\n",
    "SELECT\n",
    "  IF (path = '/', 'home', 'product') AS start,\n",
    "  IF (transacted, 'completed', 'abandoned') AS outcome,\n",
    "  COUNT(*) AS count\n",
    "FROM AnnotatedVisits\n",
    "WHERE hitNumber = 1\n",
    "GROUP BY start, outcome\n",
    "ORDER BY outcome, start"
   ]
  },
  {
   "cell_type": "code",
   "execution_count": 9,
   "metadata": {},
   "outputs": [
    {
     "data": {
      "text/html": [
       "\n",
       "    <div class=\"bqtv\" id=\"4_154510063548\"><table><tr><th>start</th><th>outcome</th><th>count</th></tr><tr><td>home</td><td>abandoned</td><td>18</td></tr><tr><td>product</td><td>abandoned</td><td>29</td></tr><tr><td>home</td><td>completed</td><td>5</td></tr><tr><td>product</td><td>completed</td><td>11</td></tr></table></div>\n",
       "    <br />(rows: 4, time: 0.6s,     8KB processed, job: job_8BTwbqqKfpFgpWL4-Acl1BmfnfCf)<br />\n",
       "    <script src=\"/static/components/requirejs/require.js\"></script>\n",
       "    <script>\n",
       "      require.config({\n",
       "        paths: {\n",
       "          base: '/static/base',\n",
       "          d3: '//cdnjs.cloudflare.com/ajax/libs/d3/3.4.13/d3',\n",
       "          plotly: 'https://cdn.plot.ly/plotly-1.5.1.min.js?noext',\n",
       "          jquery: '//ajax.googleapis.com/ajax/libs/jquery/2.0.0/jquery.min'\n",
       "        },\n",
       "        map: {\n",
       "          '*': {\n",
       "            datalab: 'nbextensions/gcpdatalab'\n",
       "          }\n",
       "        },\n",
       "        shim: {\n",
       "          plotly: {\n",
       "            deps: ['d3', 'jquery'],\n",
       "            exports: 'plotly'\n",
       "          }\n",
       "        }\n",
       "      });\n",
       "\n",
       "      require(['datalab/charting', 'datalab/element!4_154510063548', 'base/js/events',\n",
       "          'datalab/style!/nbextensions/gcpdatalab/charting.css'],\n",
       "        function(charts, dom, events) {\n",
       "          charts.render('gcharts', dom, events, 'table', [], {\"cols\": [{\"id\": \"start\", \"label\": \"start\", \"type\": \"string\"}, {\"id\": \"outcome\", \"label\": \"outcome\", \"type\": \"string\"}, {\"id\": \"count\", \"label\": \"count\", \"type\": \"number\"}], \"rows\": [{\"c\": [{\"v\": \"home\"}, {\"v\": \"abandoned\"}, {\"v\": 18}]}, {\"c\": [{\"v\": \"product\"}, {\"v\": \"abandoned\"}, {\"v\": 29}]}, {\"c\": [{\"v\": \"home\"}, {\"v\": \"completed\"}, {\"v\": 5}]}, {\"c\": [{\"v\": \"product\"}, {\"v\": \"completed\"}, {\"v\": 11}]}]},\n",
       "            {\n",
       "              pageSize: 25,\n",
       "              cssClassNames:  {\n",
       "                tableRow: 'gchart-table-row',\n",
       "                headerRow: 'gchart-table-headerrow',\n",
       "                oddTableRow: 'gchart-table-oddrow',\n",
       "                selectedTableRow: 'gchart-table-selectedrow',\n",
       "                hoverTableRow: 'gchart-table-hoverrow',\n",
       "                tableCell: 'gchart-table-cell',\n",
       "                headerCell: 'gchart-table-headercell',\n",
       "                rowNumberCell: 'gchart-table-rownumcell'\n",
       "              }\n",
       "            },\n",
       "            {source_index: 2, fields: 'start,outcome,count'},\n",
       "            0,\n",
       "            4);\n",
       "        }\n",
       "      );\n",
       "    </script>\n",
       "  "
      ],
      "text/plain": [
       "QueryResultsTable job_8BTwbqqKfpFgpWL4-Acl1BmfnfCf"
      ]
     },
     "execution_count": 9,
     "metadata": {},
     "output_type": "execute_result"
    }
   ],
   "source": [
    "%%bq execute -q conversions"
   ]
  },
  {
   "cell_type": "markdown",
   "metadata": {},
   "source": [
    "## Visualizing the Conversion Path\n",
    "\n",
    "The matrix tells us a bit about completed visits vs. abandoned visits, depending on the starting point. However, this is more easily seen in a [sankey diagram](https://developers.google.com/chart/interactive/docs/gallery/sankey), which is provided by the Google Charting API."
   ]
  },
  {
   "cell_type": "code",
   "execution_count": 11,
   "metadata": {},
   "outputs": [
    {
     "data": {
      "text/html": [
       "\n",
       "    <div class=\"bqgc-container\">\n",
       "      \n",
       "      <div class=\"bqgc \" id=\"2_154510067975\">\n",
       "      </div>\n",
       "    </div>\n",
       "    <script src=\"/static/components/requirejs/require.js\"></script>\n",
       "    <script>\n",
       "\n",
       "      require.config({\n",
       "        paths: {\n",
       "          base: '/static/base',\n",
       "          d3: '//cdnjs.cloudflare.com/ajax/libs/d3/3.4.13/d3',\n",
       "          plotly: 'https://cdn.plot.ly/plotly-1.5.1.min.js?noext',\n",
       "          jquery: '//ajax.googleapis.com/ajax/libs/jquery/2.0.0/jquery.min'\n",
       "        },\n",
       "        map: {\n",
       "          '*': {\n",
       "            datalab: 'nbextensions/gcpdatalab'\n",
       "          }\n",
       "        },\n",
       "        shim: {\n",
       "          plotly: {\n",
       "            deps: ['d3', 'jquery'],\n",
       "            exports: 'plotly'\n",
       "          }\n",
       "        }\n",
       "      });\n",
       "\n",
       "      require(['datalab/charting',\n",
       "               'datalab/element!2_154510067975',\n",
       "               'base/js/events',\n",
       "               'datalab/style!/nbextensions/gcpdatalab/charting.css'\n",
       "              ],\n",
       "        function(charts, dom, events) {\n",
       "          charts.render(\n",
       "              'gcharts',\n",
       "              dom,\n",
       "              events,\n",
       "              'sankey',\n",
       "              [],\n",
       "              {\"cols\": [{\"id\": \"start\", \"label\": \"start\", \"type\": \"string\"}, {\"id\": \"outcome\", \"label\": \"outcome\", \"type\": \"string\"}, {\"id\": \"count\", \"label\": \"count\", \"type\": \"number\"}], \"rows\": [{\"c\": [{\"v\": \"home\"}, {\"v\": \"abandoned\"}, {\"v\": 18}]}, {\"c\": [{\"v\": \"product\"}, {\"v\": \"abandoned\"}, {\"v\": 29}]}, {\"c\": [{\"v\": \"home\"}, {\"v\": \"completed\"}, {\"v\": 5}]}, {\"c\": [{\"v\": \"product\"}, {\"v\": \"completed\"}, {\"v\": 11}]}]},\n",
       "              {\"sankey\": {\"node\": {\"colors\": [\"black\", \"red\", \"black\", \"green\"]}}},\n",
       "              {\"source_index\": 0, \"name\": 0, \"fields\": \"*\"},\n",
       "              0,\n",
       "              4);\n",
       "          }\n",
       "        );\n",
       "    </script>\n",
       "  "
      ],
      "text/plain": [
       "<IPython.core.display.HTML object>"
      ]
     },
     "execution_count": 11,
     "metadata": {},
     "output_type": "execute_result"
    }
   ],
   "source": [
    "%%chart sankey --data conversions\n",
    "{\n",
    "  \"sankey\": {\n",
    "    \"node\": {\n",
    "      \"colors\": [ \"black\", \"red\", \"black\", \"green\" ]\n",
    "    }\n",
    "  }\n",
    "}"
   ]
  },
  {
   "cell_type": "markdown",
   "metadata": {},
   "source": [
    "## Insights\n",
    "\n",
    "The results and the diagram tell us that the product pages lead to a slightly better conversion."
   ]
  },
  {
   "cell_type": "markdown",
   "metadata": {},
   "source": [
    "# Going Beyond the Sample\n",
    "\n",
    "This sample demonstrated how you can apply the power of BigQuery to your Google Analytics, and more generally to any analytics telemetry data. Essentially, you can build custom metrics and visualizations, and track the behavior and engagement of your audience more effectively by joining analytics data with your own data."
   ]
  }
 ],
 "metadata": {
  "kernelspec": {
   "display_name": "datalab-notebooks",
   "language": "python",
   "name": "datalab-notebooks"
  },
  "language_info": {
   "codemirror_mode": {
    "name": "ipython",
    "version": 3
   },
   "file_extension": ".py",
   "mimetype": "text/x-python",
   "name": "python",
   "nbconvert_exporter": "python",
   "pygments_lexer": "ipython3",
   "version": "3.6.4"
  }
 },
 "nbformat": 4,
 "nbformat_minor": 1
}
