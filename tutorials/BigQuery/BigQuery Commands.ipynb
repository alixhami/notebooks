{
 "cells": [
  {
   "cell_type": "markdown",
   "metadata": {},
   "source": [
    "# BigQuery Commands\n",
    "\n",
    "Google Cloud Datalab provides a first class experience for working with Google BigQuery for both adhoc, exploratory work as well as pipeline development. In addition to authoring and executing SQL queries, you'll likely want to inspect Datasets, Tables, and their Schema, and also sample data.\n",
    "\n",
    "This notebook introduces various BigQuery commands that Datalab brings into the notebook environment.\n",
    "\n",
    "You've already seen a BigQuery command in the [Hello BigQuery](./Hello BigQuery.ipynb) notebook, they are invoked using `%%bq`."
   ]
  },
  {
   "cell_type": "markdown",
   "metadata": {},
   "source": [
    "## Commands, literally\n",
    "\n",
    "You can think of `%%bq` as your command line interface to BigQuery. These commands take arguments, including `--help` (or `-h`), in the same manner as other shell commands. Lets start by looking at help."
   ]
  },
  {
   "cell_type": "code",
   "execution_count": 1,
   "metadata": {},
   "outputs": [],
   "source": [
    "%load_ext google.datalab.kernel"
   ]
  },
  {
   "cell_type": "code",
   "execution_count": 2,
   "metadata": {},
   "outputs": [
    {
     "name": "stdout",
     "output_type": "stream",
     "text": [
      "usage: %bq [-h]\n",
      "           {datasets,tables,query,execute,extract,sample,dryrun,udf,datasource,load,pipeline}\n",
      "           ...\n",
      "\n",
      "Execute various BigQuery-related operations. Use \"%bq <command> -h\" for help\n",
      "on a specific command.\n",
      "\n",
      "positional arguments:\n",
      "  {datasets,tables,query,execute,extract,sample,dryrun,udf,datasource,load,pipeline}\n",
      "                        commands\n",
      "    datasets            Operations on BigQuery datasets\n",
      "    tables              Operations on BigQuery tables\n",
      "    query               Create or execute a BigQuery SQL query object,\n",
      "                        optionally using other SQL objects, UDFs, or external\n",
      "                        datasources. If a query name is not specified, the\n",
      "                        query is executed.\n",
      "    execute             Execute a BigQuery SQL query and optionally send the\n",
      "                        results to a named table. The cell can optionally\n",
      "                        contain arguments for expanding variables in the\n",
      "                        query.\n",
      "    extract             Extract a query or table into file (local or GCS)\n",
      "    sample              Display a sample of the results of a BigQuery SQL\n",
      "                        query. The cell can optionally contain arguments for\n",
      "                        expanding variables in the query, if -q/--query was\n",
      "                        used, or it can contain SQL for a query.\n",
      "    dryrun              Execute a dry run of a BigQuery query and display\n",
      "                        approximate usage statistics\n",
      "    udf                 Create a named Javascript BigQuery UDF\n",
      "    datasource          Create a named Javascript BigQuery external data\n",
      "                        source\n",
      "    load                Load data from GCS into a BigQuery table. If creating\n",
      "                        a new table, a schema should be specified in YAML or\n",
      "                        JSON in the cell body, otherwise the schema is\n",
      "                        inferred from existing table.\n",
      "    pipeline            Creates a GCS/BigQuery ETL pipeline. The cell-body is\n",
      "                        specified as follows: input: table | path: <BQ table\n",
      "                        name or GCS path; both if path->table load is also\n",
      "                        required> schema: <For syntax, refer '%bq execute'>\n",
      "                        format: {csv (default) | json} csv: <This section is\n",
      "                        relevant only when 'format' is 'csv'> delimiter: <The\n",
      "                        field delimiter to use; default is ','> skip: <Number\n",
      "                        of rows at the top of a CSV file to skip; default is\n",
      "                        0> strict: <{True | False (default)}; whether to\n",
      "                        accept rows with missing trailing (or optional)\n",
      "                        columns> quote: <Value used to quote data sections;\n",
      "                        default is '\"'> mode: <{append (default) | overwrite};\n",
      "                        applicable if path->table load> transformation:\n",
      "                        <optional; when absent, a direct conversion is done\n",
      "                        from input (path|table) to output (table|path)> query:\n",
      "                        <name of BQ query defined via \"%bq query --name ...\">\n",
      "                        output: table | path: <BQ table name or GCS path; both\n",
      "                        if table->path extract is required> mode: <{append |\n",
      "                        overwrite | create (default)}; applicable only when\n",
      "                        table is specified. format: <{csv (default) | json}>\n",
      "                        csv: <This section is relevant only when 'format' is\n",
      "                        'csv'> delimiter: <the field delimiter to use.\n",
      "                        Defaults to ','> header: <{True (default) | False};\n",
      "                        Whether to include an initial header line> compress:\n",
      "                        <{True | False (default) }; Whether to compress the\n",
      "                        data on export> schedule: start: <formatted as\n",
      "                        '%Y-%m-%dT%H:%M:%S'; default is 'now'> end: <formatted\n",
      "                        as '%Y-%m-%dT%H:%M:%S'; default is 'forever'>\n",
      "                        interval: <{@once (default) | @hourly | @daily |\n",
      "                        @weekly | @ monthly | @yearly | <cron ex>}> catchup:\n",
      "                        <{True | False (default)}; when True, backfill is\n",
      "                        performed for start and end times. retries: Number of\n",
      "                        attempts to run the pipeline; default is 0\n",
      "                        retry_delay_seconds: Number of seconds to wait before\n",
      "                        retrying the task emails: <comma separated list of\n",
      "                        emails to notify in case of retries, failures, etc.>\n",
      "                        parameters: <For syntax, refer '%bq execute'>\n",
      "\n",
      "optional arguments:\n",
      "  -h, --help            show this help message and exit\n"
     ]
    }
   ],
   "source": [
    "%bq --help"
   ]
  },
  {
   "cell_type": "markdown",
   "metadata": {},
   "source": [
    "You can get help on any of the individual commands as follows:"
   ]
  },
  {
   "cell_type": "code",
   "execution_count": 3,
   "metadata": {},
   "outputs": [
    {
     "name": "stdout",
     "output_type": "stream",
     "text": [
      "usage: %bq tables [-h] {list,create,describe,delete,view} ...\n",
      "\n",
      "Operations on BigQuery tables\n",
      "\n",
      "positional arguments:\n",
      "  {list,create,describe,delete,view}\n",
      "    list                List the tables in a BigQuery project or dataset.\n",
      "    create              Create a table.\n",
      "    describe            View a table's schema\n",
      "    delete              Delete a table.\n",
      "    view                View a table.\n",
      "\n",
      "optional arguments:\n",
      "  -h, --help            show this help message and exit\n"
     ]
    }
   ],
   "source": [
    "%bq tables --help"
   ]
  },
  {
   "cell_type": "markdown",
   "metadata": {},
   "source": [
    "# Listing BigQuery Resources\n",
    "\n",
    "The first thing you might decide to do is list datasets and tables contained within a specified project or the default project you're running this Datalab environment in.\n",
    "\n",
    "Note that you will be able to list and use any BigQuery dataset that has been shared with the project (its service account) that you are running Datalab in."
   ]
  },
  {
   "cell_type": "code",
   "execution_count": 4,
   "metadata": {},
   "outputs": [
    {
     "data": {
      "text/html": [
       "<ul><li>cloud-datalab-samples.appenginelogs</li><li>cloud-datalab-samples.carprices</li><li>cloud-datalab-samples.httplogs</li></ul>"
      ],
      "text/plain": [
       "<IPython.core.display.HTML object>"
      ]
     },
     "execution_count": 4,
     "metadata": {},
     "output_type": "execute_result"
    }
   ],
   "source": [
    "%bq datasets list --project cloud-datalab-samples"
   ]
  },
  {
   "cell_type": "code",
   "execution_count": 5,
   "metadata": {},
   "outputs": [
    {
     "data": {
      "text/html": [
       "<ul><li>cloud-datalab-samples.httplogs.logs_20140615</li><li>cloud-datalab-samples.httplogs.logs_20140616</li><li>cloud-datalab-samples.httplogs.logs_20140617</li><li>cloud-datalab-samples.httplogs.logs_20140618</li><li>cloud-datalab-samples.httplogs.logs_20140619</li><li>cloud-datalab-samples.httplogs.logs_20140620</li></ul>"
      ],
      "text/plain": [
       "<IPython.core.display.HTML object>"
      ]
     },
     "execution_count": 5,
     "metadata": {},
     "output_type": "execute_result"
    }
   ],
   "source": [
    "%bq tables list --dataset cloud-datalab-samples.httplogs"
   ]
  },
  {
   "cell_type": "markdown",
   "metadata": {},
   "source": [
    "# Exploring Data\n",
    "\n",
    "Once you've found a table or set of tables to work with, its simple to retrieve its schema or some sampling of rows to understand the data you're working with."
   ]
  },
  {
   "cell_type": "markdown",
   "metadata": {},
   "source": [
    "## Schema"
   ]
  },
  {
   "cell_type": "code",
   "execution_count": 6,
   "metadata": {},
   "outputs": [
    {
     "data": {
      "text/html": [
       "\n",
       "    <div class=\"bqsv\" id=\"1_154516373688\"></div>\n",
       "    <script src=\"/static/components/requirejs/require.js\"></script>\n",
       "    <script>\n",
       "      require.config({\n",
       "        paths: {\n",
       "          base: '/static/base',\n",
       "        },\n",
       "        map: {\n",
       "          '*': {\n",
       "            datalab: 'nbextensions/gcpdatalab'\n",
       "          }\n",
       "        },\n",
       "      });\n",
       "\n",
       "      require(['datalab/bigquery', 'datalab/element!1_154516373688',\n",
       "          'datalab/style!/nbextensions/gcpdatalab/bigquery.css'],\n",
       "        function(bq, dom) {\n",
       "          bq.renderSchema(dom, [{\"name\": \"timestamp\", \"type\": \"TIMESTAMP\"}, {\"name\": \"latency\", \"type\": \"INTEGER\"}, {\"name\": \"status\", \"type\": \"INTEGER\"}, {\"name\": \"method\", \"type\": \"STRING\"}, {\"name\": \"endpoint\", \"type\": \"STRING\"}]);\n",
       "        }\n",
       "      );\n",
       "    </script>\n",
       "    "
      ],
      "text/plain": [
       "<IPython.core.display.HTML object>"
      ]
     },
     "execution_count": 6,
     "metadata": {},
     "output_type": "execute_result"
    }
   ],
   "source": [
    "%bq tables describe --name cloud-datalab-samples.httplogs.logs_20140615"
   ]
  },
  {
   "cell_type": "markdown",
   "metadata": {},
   "source": [
    "## Sampling Data"
   ]
  },
  {
   "cell_type": "code",
   "execution_count": 7,
   "metadata": {},
   "outputs": [
    {
     "name": "stdout",
     "output_type": "stream",
     "text": [
      "usage: %bq sample [-h] [-q QUERY | -t TABLE | -v VIEW] [-nc] [-b BILLING]\n",
      "                  [-m {limit,random,hashed,sorted}] [--fields FIELDS]\n",
      "                  [-c COUNT] [-p PERCENT] [--key-field KEY_FIELD]\n",
      "                  [-o {ascending,descending}] [-P] [--verbose]\n",
      "\n",
      "Display a sample of the results of a BigQuery SQL query. The cell can\n",
      "optionally contain arguments for expanding variables in the query, if\n",
      "-q/--query was used, or it can contain SQL for a query.\n",
      "\n",
      "optional arguments:\n",
      "  -h, --help            show this help message and exit\n",
      "  -q QUERY, --query QUERY\n",
      "                        the name of the query object to sample\n",
      "  -t TABLE, --table TABLE\n",
      "                        the name of the table object to sample\n",
      "  -v VIEW, --view VIEW  the name of the view object to sample\n",
      "  -nc, --nocache        Don't use previously cached results\n",
      "  -b BILLING, --billing BILLING\n",
      "                        BigQuery billing tier\n",
      "  -m {limit,random,hashed,sorted}, --method {limit,random,hashed,sorted}\n",
      "                        The type of sampling to use\n",
      "  --fields FIELDS       Comma separated field names for projection\n",
      "  -c COUNT, --count COUNT\n",
      "                        The number of rows to limit to, if sampling\n",
      "  -p PERCENT, --percent PERCENT\n",
      "                        For random or hashed sampling, what percentage to\n",
      "                        sample from\n",
      "  --key-field KEY_FIELD\n",
      "                        The field to use for sorted or hashed sampling\n",
      "  -o {ascending,descending}, --order {ascending,descending}\n",
      "                        The sort order to use for sorted sampling\n",
      "  -P, --profile         Generate an interactive profile of the data\n",
      "  --verbose             Show the expanded SQL that is being executed\n"
     ]
    }
   ],
   "source": [
    "%bq sample --help"
   ]
  },
  {
   "cell_type": "markdown",
   "metadata": {},
   "source": [
    "As you can see, Datalab allows you to sample a specified count of rows using various sampling strategies, including random sampling or hashing. Let's try retrieving a couple of samples."
   ]
  },
  {
   "cell_type": "code",
   "execution_count": 8,
   "metadata": {},
   "outputs": [
    {
     "data": {
      "text/html": [
       "\n",
       "    <div class=\"bqtv\" id=\"2_154516373973\"><table><tr><th>timestamp</th><th>latency</th><th>status</th><th>method</th><th>endpoint</th></tr><tr><td>2014-06-15 08:12:39.711942</td><td>256</td><td>200</td><td>GET</td><td>Home</td></tr><tr><td>2014-06-15 10:26:53.442199</td><td>256</td><td>200</td><td>GET</td><td>Home</td></tr><tr><td>2014-06-15 13:04:58.103063</td><td>256</td><td>200</td><td>GET</td><td>Home</td></tr><tr><td>2014-06-15 13:13:50.615016</td><td>256</td><td>200</td><td>GET</td><td>Home</td></tr><tr><td>2014-06-15 15:12:02.263743</td><td>256</td><td>200</td><td>GET</td><td>Home</td></tr></table></div>\n",
       "    <br />(rows: 5, time: 0.6s,    24MB processed, job: job_qFLeckikHUJjuIysZc-6BlyQNh-P)<br />\n",
       "    <script src=\"/static/components/requirejs/require.js\"></script>\n",
       "    <script>\n",
       "      require.config({\n",
       "        paths: {\n",
       "          base: '/static/base',\n",
       "          d3: '//cdnjs.cloudflare.com/ajax/libs/d3/3.4.13/d3',\n",
       "          plotly: 'https://cdn.plot.ly/plotly-1.5.1.min.js?noext',\n",
       "          jquery: '//ajax.googleapis.com/ajax/libs/jquery/2.0.0/jquery.min'\n",
       "        },\n",
       "        map: {\n",
       "          '*': {\n",
       "            datalab: 'nbextensions/gcpdatalab'\n",
       "          }\n",
       "        },\n",
       "        shim: {\n",
       "          plotly: {\n",
       "            deps: ['d3', 'jquery'],\n",
       "            exports: 'plotly'\n",
       "          }\n",
       "        }\n",
       "      });\n",
       "\n",
       "      require(['datalab/charting', 'datalab/element!2_154516373973', 'base/js/events',\n",
       "          'datalab/style!/nbextensions/gcpdatalab/charting.css'],\n",
       "        function(charts, dom, events) {\n",
       "          charts.render('gcharts', dom, events, 'table', [], {\"cols\": [{\"id\": \"timestamp\", \"label\": \"timestamp\", \"type\": \"timestamp\"}, {\"id\": \"latency\", \"label\": \"latency\", \"type\": \"number\"}, {\"id\": \"status\", \"label\": \"status\", \"type\": \"number\"}, {\"id\": \"method\", \"label\": \"method\", \"type\": \"string\"}, {\"id\": \"endpoint\", \"label\": \"endpoint\", \"type\": \"string\"}], \"rows\": [{\"c\": [{\"v\": \"2014-06-15T08:12:39.711942\"}, {\"v\": 256}, {\"v\": 200}, {\"v\": \"GET\"}, {\"v\": \"Home\"}]}, {\"c\": [{\"v\": \"2014-06-15T10:26:53.442199\"}, {\"v\": 256}, {\"v\": 200}, {\"v\": \"GET\"}, {\"v\": \"Home\"}]}, {\"c\": [{\"v\": \"2014-06-15T13:04:58.103063\"}, {\"v\": 256}, {\"v\": 200}, {\"v\": \"GET\"}, {\"v\": \"Home\"}]}, {\"c\": [{\"v\": \"2014-06-15T13:13:50.615016\"}, {\"v\": 256}, {\"v\": 200}, {\"v\": \"GET\"}, {\"v\": \"Home\"}]}, {\"c\": [{\"v\": \"2014-06-15T15:12:02.263743\"}, {\"v\": 256}, {\"v\": 200}, {\"v\": \"GET\"}, {\"v\": \"Home\"}]}]},\n",
       "            {\n",
       "              pageSize: 25,\n",
       "              cssClassNames:  {\n",
       "                tableRow: 'gchart-table-row',\n",
       "                headerRow: 'gchart-table-headerrow',\n",
       "                oddTableRow: 'gchart-table-oddrow',\n",
       "                selectedTableRow: 'gchart-table-selectedrow',\n",
       "                hoverTableRow: 'gchart-table-hoverrow',\n",
       "                tableCell: 'gchart-table-cell',\n",
       "                headerCell: 'gchart-table-headercell',\n",
       "                rowNumberCell: 'gchart-table-rownumcell'\n",
       "              }\n",
       "            },\n",
       "            {source_index: 0, fields: 'timestamp,latency,status,method,endpoint'},\n",
       "            0,\n",
       "            5);\n",
       "        }\n",
       "      );\n",
       "    </script>\n",
       "  "
      ],
      "text/plain": [
       "QueryResultsTable job_qFLeckikHUJjuIysZc-6BlyQNh-P"
      ]
     },
     "execution_count": 8,
     "metadata": {},
     "output_type": "execute_result"
    }
   ],
   "source": [
    "%bq sample --table cloud-datalab-samples.httplogs.logs_20140615 --count 5"
   ]
  },
  {
   "cell_type": "markdown",
   "metadata": {},
   "source": [
    "You can also specify a list of fields to project."
   ]
  },
  {
   "cell_type": "code",
   "execution_count": 9,
   "metadata": {},
   "outputs": [
    {
     "data": {
      "text/html": [
       "\n",
       "    <div class=\"bqtv\" id=\"3_154516374356\"><table><tr><th>timestamp</th><th>latency</th></tr><tr><td>2014-06-15 13:44:20.954238</td><td>284</td></tr><tr><td>2014-06-15 19:03:02.494700</td><td>284</td></tr><tr><td>2014-06-15 20:14:55.978557</td><td>284</td></tr><tr><td>2014-06-16 00:02:45.977468</td><td>284</td></tr><tr><td>2014-06-16 02:10:48.204601</td><td>284</td></tr><tr><td>2014-06-16 03:39:59.736048</td><td>284</td></tr><tr><td>2014-06-16 04:51:18.754868</td><td>284</td></tr><tr><td>2014-06-15 12:17:35.209383</td><td>313</td></tr><tr><td>2014-06-15 17:35:45.475600</td><td>313</td></tr><tr><td>2014-06-15 17:52:56.140616</td><td>313</td></tr></table></div>\n",
       "    <br />(rows: 10, time: 0.4s,    10MB processed, job: job_DBrtUrPJw7UV5zCIJ-iaioofMXUc)<br />\n",
       "    <script src=\"/static/components/requirejs/require.js\"></script>\n",
       "    <script>\n",
       "      require.config({\n",
       "        paths: {\n",
       "          base: '/static/base',\n",
       "          d3: '//cdnjs.cloudflare.com/ajax/libs/d3/3.4.13/d3',\n",
       "          plotly: 'https://cdn.plot.ly/plotly-1.5.1.min.js?noext',\n",
       "          jquery: '//ajax.googleapis.com/ajax/libs/jquery/2.0.0/jquery.min'\n",
       "        },\n",
       "        map: {\n",
       "          '*': {\n",
       "            datalab: 'nbextensions/gcpdatalab'\n",
       "          }\n",
       "        },\n",
       "        shim: {\n",
       "          plotly: {\n",
       "            deps: ['d3', 'jquery'],\n",
       "            exports: 'plotly'\n",
       "          }\n",
       "        }\n",
       "      });\n",
       "\n",
       "      require(['datalab/charting', 'datalab/element!3_154516374356', 'base/js/events',\n",
       "          'datalab/style!/nbextensions/gcpdatalab/charting.css'],\n",
       "        function(charts, dom, events) {\n",
       "          charts.render('gcharts', dom, events, 'table', [], {\"cols\": [{\"id\": \"timestamp\", \"label\": \"timestamp\", \"type\": \"timestamp\"}, {\"id\": \"latency\", \"label\": \"latency\", \"type\": \"number\"}], \"rows\": [{\"c\": [{\"v\": \"2014-06-15T13:44:20.954238\"}, {\"v\": 284}]}, {\"c\": [{\"v\": \"2014-06-15T19:03:02.494700\"}, {\"v\": 284}]}, {\"c\": [{\"v\": \"2014-06-15T20:14:55.978557\"}, {\"v\": 284}]}, {\"c\": [{\"v\": \"2014-06-16T00:02:45.977468\"}, {\"v\": 284}]}, {\"c\": [{\"v\": \"2014-06-16T02:10:48.204601\"}, {\"v\": 284}]}, {\"c\": [{\"v\": \"2014-06-16T03:39:59.736048\"}, {\"v\": 284}]}, {\"c\": [{\"v\": \"2014-06-16T04:51:18.754868\"}, {\"v\": 284}]}, {\"c\": [{\"v\": \"2014-06-15T12:17:35.209383\"}, {\"v\": 313}]}, {\"c\": [{\"v\": \"2014-06-15T17:35:45.475600\"}, {\"v\": 313}]}, {\"c\": [{\"v\": \"2014-06-15T17:52:56.140616\"}, {\"v\": 313}]}]},\n",
       "            {\n",
       "              pageSize: 25,\n",
       "              cssClassNames:  {\n",
       "                tableRow: 'gchart-table-row',\n",
       "                headerRow: 'gchart-table-headerrow',\n",
       "                oddTableRow: 'gchart-table-oddrow',\n",
       "                selectedTableRow: 'gchart-table-selectedrow',\n",
       "                hoverTableRow: 'gchart-table-hoverrow',\n",
       "                tableCell: 'gchart-table-cell',\n",
       "                headerCell: 'gchart-table-headercell',\n",
       "                rowNumberCell: 'gchart-table-rownumcell'\n",
       "              }\n",
       "            },\n",
       "            {source_index: 1, fields: 'timestamp,latency'},\n",
       "            0,\n",
       "            10);\n",
       "        }\n",
       "      );\n",
       "    </script>\n",
       "  "
      ],
      "text/plain": [
       "QueryResultsTable job_DBrtUrPJw7UV5zCIJ-iaioofMXUc"
      ]
     },
     "execution_count": 9,
     "metadata": {},
     "output_type": "execute_result"
    }
   ],
   "source": [
    "%bq sample --table cloud-datalab-samples.httplogs.logs_20140615 --count 10 --fields timestamp,latency --method hashed --key-field latency"
   ]
  },
  {
   "cell_type": "markdown",
   "metadata": {},
   "source": [
    "# Querying Data\n",
    "\n",
    "Of course, since, querying BigQuery data using SQL is the primary scenario, it's always handy to have the BigQuery SQL reference. Datalab makes this easy to access by providing a direct link to the [query reference](https://cloud.google.com/bigquery/docs/reference/standard-sql/) via the Help Links button on the top toolbar.\n",
    "\n",
    "Lets see some more query examples."
   ]
  },
  {
   "cell_type": "code",
   "execution_count": 10,
   "metadata": {},
   "outputs": [
    {
     "data": {
      "text/html": [
       "\n",
       "    <div class=\"bqtv\" id=\"4_154516374723\"><table><tr><th>timestamp</th><th>latency</th></tr><tr><td>2014-06-15 10:15:06.354093</td><td>13500918</td></tr><tr><td>2014-06-15 09:15:04.571911</td><td>13500391</td></tr><tr><td>2014-06-15 10:00:05.264877</td><td>13500340</td></tr><tr><td>2014-06-15 09:45:04.873233</td><td>13500166</td></tr><tr><td>2014-06-15 09:30:07.401665</td><td>13500118</td></tr><tr><td>2014-06-16 00:01:45.311564</td><td>1197339</td></tr><tr><td>2014-06-15 15:17:12.987435</td><td>136467</td></tr><tr><td>2014-06-15 15:16:33.290520</td><td>130296</td></tr><tr><td>2014-06-15 15:15:56.727494</td><td>121277</td></tr><tr><td>2014-06-15 15:15:58.259215</td><td>97192</td></tr></table></div>\n",
       "    <br />(rows: 10, time: 0.4s,    10MB processed, job: job_eNpwP0rmNra4ccK6yZlgHQckz4xx)<br />\n",
       "    <script src=\"/static/components/requirejs/require.js\"></script>\n",
       "    <script>\n",
       "      require.config({\n",
       "        paths: {\n",
       "          base: '/static/base',\n",
       "          d3: '//cdnjs.cloudflare.com/ajax/libs/d3/3.4.13/d3',\n",
       "          plotly: 'https://cdn.plot.ly/plotly-1.5.1.min.js?noext',\n",
       "          jquery: '//ajax.googleapis.com/ajax/libs/jquery/2.0.0/jquery.min'\n",
       "        },\n",
       "        map: {\n",
       "          '*': {\n",
       "            datalab: 'nbextensions/gcpdatalab'\n",
       "          }\n",
       "        },\n",
       "        shim: {\n",
       "          plotly: {\n",
       "            deps: ['d3', 'jquery'],\n",
       "            exports: 'plotly'\n",
       "          }\n",
       "        }\n",
       "      });\n",
       "\n",
       "      require(['datalab/charting', 'datalab/element!4_154516374723', 'base/js/events',\n",
       "          'datalab/style!/nbextensions/gcpdatalab/charting.css'],\n",
       "        function(charts, dom, events) {\n",
       "          charts.render('gcharts', dom, events, 'table', [], {\"cols\": [{\"id\": \"timestamp\", \"label\": \"timestamp\", \"type\": \"timestamp\"}, {\"id\": \"latency\", \"label\": \"latency\", \"type\": \"number\"}], \"rows\": [{\"c\": [{\"v\": \"2014-06-15T10:15:06.354093\"}, {\"v\": 13500918}]}, {\"c\": [{\"v\": \"2014-06-15T09:15:04.571911\"}, {\"v\": 13500391}]}, {\"c\": [{\"v\": \"2014-06-15T10:00:05.264877\"}, {\"v\": 13500340}]}, {\"c\": [{\"v\": \"2014-06-15T09:45:04.873233\"}, {\"v\": 13500166}]}, {\"c\": [{\"v\": \"2014-06-15T09:30:07.401665\"}, {\"v\": 13500118}]}, {\"c\": [{\"v\": \"2014-06-16T00:01:45.311564\"}, {\"v\": 1197339}]}, {\"c\": [{\"v\": \"2014-06-15T15:17:12.987435\"}, {\"v\": 136467}]}, {\"c\": [{\"v\": \"2014-06-15T15:16:33.290520\"}, {\"v\": 130296}]}, {\"c\": [{\"v\": \"2014-06-15T15:15:56.727494\"}, {\"v\": 121277}]}, {\"c\": [{\"v\": \"2014-06-15T15:15:58.259215\"}, {\"v\": 97192}]}]},\n",
       "            {\n",
       "              pageSize: 25,\n",
       "              cssClassNames:  {\n",
       "                tableRow: 'gchart-table-row',\n",
       "                headerRow: 'gchart-table-headerrow',\n",
       "                oddTableRow: 'gchart-table-oddrow',\n",
       "                selectedTableRow: 'gchart-table-selectedrow',\n",
       "                hoverTableRow: 'gchart-table-hoverrow',\n",
       "                tableCell: 'gchart-table-cell',\n",
       "                headerCell: 'gchart-table-headercell',\n",
       "                rowNumberCell: 'gchart-table-rownumcell'\n",
       "              }\n",
       "            },\n",
       "            {source_index: 2, fields: 'timestamp,latency'},\n",
       "            0,\n",
       "            10);\n",
       "        }\n",
       "      );\n",
       "    </script>\n",
       "  "
      ],
      "text/plain": [
       "QueryResultsTable job_eNpwP0rmNra4ccK6yZlgHQckz4xx"
      ]
     },
     "execution_count": 10,
     "metadata": {},
     "output_type": "execute_result"
    }
   ],
   "source": [
    "%%bq query \n",
    "SELECT timestamp, latency\n",
    "FROM `cloud-datalab-samples.httplogs.logs_20140615`\n",
    "ORDER BY latency DESC\n",
    "LIMIT 10"
   ]
  },
  {
   "cell_type": "markdown",
   "metadata": {},
   "source": [
    "That was a simple query. Now, let's do something a bit more interesting: let's compute the 50th percentile, 95th percentile, and 99th percentile latencies for request processing.\n",
    "\n",
    "BigQuery makes this effortless with its built-in statistical and analytics functions, such as `QUANTILES`."
   ]
  },
  {
   "cell_type": "code",
   "execution_count": 11,
   "metadata": {},
   "outputs": [
    {
     "data": {
      "text/html": [
       "\n",
       "    <div class=\"bqtv\" id=\"5_154516375066\"><table><tr><th>latency_50th_percentile</th><th>latency_95th_percentile</th><th>latency_99th_percentile</th></tr><tr><td>81</td><td>419</td><td>5045</td></tr></table></div>\n",
       "    <br />(rows: 1, time: 0.4s,     5MB processed, job: job_ymXIjqQzanxAagBbA9PT6JJ6UFnS)<br />\n",
       "    <script src=\"/static/components/requirejs/require.js\"></script>\n",
       "    <script>\n",
       "      require.config({\n",
       "        paths: {\n",
       "          base: '/static/base',\n",
       "          d3: '//cdnjs.cloudflare.com/ajax/libs/d3/3.4.13/d3',\n",
       "          plotly: 'https://cdn.plot.ly/plotly-1.5.1.min.js?noext',\n",
       "          jquery: '//ajax.googleapis.com/ajax/libs/jquery/2.0.0/jquery.min'\n",
       "        },\n",
       "        map: {\n",
       "          '*': {\n",
       "            datalab: 'nbextensions/gcpdatalab'\n",
       "          }\n",
       "        },\n",
       "        shim: {\n",
       "          plotly: {\n",
       "            deps: ['d3', 'jquery'],\n",
       "            exports: 'plotly'\n",
       "          }\n",
       "        }\n",
       "      });\n",
       "\n",
       "      require(['datalab/charting', 'datalab/element!5_154516375066', 'base/js/events',\n",
       "          'datalab/style!/nbextensions/gcpdatalab/charting.css'],\n",
       "        function(charts, dom, events) {\n",
       "          charts.render('gcharts', dom, events, 'table', [], {\"cols\": [{\"id\": \"latency_50th_percentile\", \"label\": \"latency_50th_percentile\", \"type\": \"number\"}, {\"id\": \"latency_95th_percentile\", \"label\": \"latency_95th_percentile\", \"type\": \"number\"}, {\"id\": \"latency_99th_percentile\", \"label\": \"latency_99th_percentile\", \"type\": \"number\"}], \"rows\": [{\"c\": [{\"v\": 81}, {\"v\": 419}, {\"v\": 5045}]}]},\n",
       "            {\n",
       "              pageSize: 25,\n",
       "              cssClassNames:  {\n",
       "                tableRow: 'gchart-table-row',\n",
       "                headerRow: 'gchart-table-headerrow',\n",
       "                oddTableRow: 'gchart-table-oddrow',\n",
       "                selectedTableRow: 'gchart-table-selectedrow',\n",
       "                hoverTableRow: 'gchart-table-hoverrow',\n",
       "                tableCell: 'gchart-table-cell',\n",
       "                headerCell: 'gchart-table-headercell',\n",
       "                rowNumberCell: 'gchart-table-rownumcell'\n",
       "              }\n",
       "            },\n",
       "            {source_index: 3, fields: 'latency_50th_percentile,latency_95th_percentile,latency_99th_percentile'},\n",
       "            0,\n",
       "            1);\n",
       "        }\n",
       "      );\n",
       "    </script>\n",
       "  "
      ],
      "text/plain": [
       "QueryResultsTable job_ymXIjqQzanxAagBbA9PT6JJ6UFnS"
      ]
     },
     "execution_count": 11,
     "metadata": {},
     "output_type": "execute_result"
    }
   ],
   "source": [
    "%%bq query\n",
    "SELECT\n",
    "  quantiles[SAFE_ORDINAL(50)] AS latency_50th_percentile,\n",
    "  quantiles[SAFE_ORDINAL(95)] AS latency_95th_percentile,\n",
    "  quantiles[SAFE_ORDINAL(99)] AS latency_99th_percentile\n",
    "FROM (\n",
    "  SELECT APPROX_QUANTILES(latency, 100) AS quantiles\n",
    "  FROM `cloud-datalab-samples.httplogs.logs_20140615`\n",
    ")"
   ]
  },
  {
   "cell_type": "markdown",
   "metadata": {},
   "source": [
    "# Visualizing Data\n",
    "\n",
    "Beyond tables, it almost always interesting to be able to visualize the data to get a more meaningful view of aggregates, trends and patterns.\n",
    "\n",
    "Let's write another query, also using `QUANTILES`. This time, the `ROW_NUMBER` function will be used to also include a row number in the output data representing the percentile, using the number as the chart's x-axis value. In order to reference this SQL query later in the notebook, it is given a name via the `--name/-n` argument. This query object can then be passed to a chart by referencing its name. The chart will execute the contained query."
   ]
  },
  {
   "cell_type": "code",
   "execution_count": 12,
   "metadata": {},
   "outputs": [],
   "source": [
    "%%bq query --name data\n",
    "WITH quantiles AS (\n",
    "  SELECT APPROX_QUANTILES(LOG10(latency), 50) AS timearray\n",
    "  FROM `cloud-datalab-samples.httplogs.logs_20140615`\n",
    "  WHERE latency <> 0\n",
    ")\n",
    "select row_number() over(order by time) as percentile, time from quantiles cross join unnest(quantiles.timearray) as time\n",
    "order by percentile"
   ]
  },
  {
   "cell_type": "code",
   "execution_count": 13,
   "metadata": {},
   "outputs": [
    {
     "data": {
      "text/html": [
       "\n",
       "    <div class=\"bqgc-container\">\n",
       "      \n",
       "      <div class=\"bqgc \" id=\"1_154516375129\">\n",
       "      </div>\n",
       "    </div>\n",
       "    <script src=\"/static/components/requirejs/require.js\"></script>\n",
       "    <script>\n",
       "\n",
       "      require.config({\n",
       "        paths: {\n",
       "          base: '/static/base',\n",
       "          d3: '//cdnjs.cloudflare.com/ajax/libs/d3/3.4.13/d3',\n",
       "          plotly: 'https://cdn.plot.ly/plotly-1.5.1.min.js?noext',\n",
       "          jquery: '//ajax.googleapis.com/ajax/libs/jquery/2.0.0/jquery.min'\n",
       "        },\n",
       "        map: {\n",
       "          '*': {\n",
       "            datalab: 'nbextensions/gcpdatalab'\n",
       "          }\n",
       "        },\n",
       "        shim: {\n",
       "          plotly: {\n",
       "            deps: ['d3', 'jquery'],\n",
       "            exports: 'plotly'\n",
       "          }\n",
       "        }\n",
       "      });\n",
       "\n",
       "      require(['datalab/charting',\n",
       "               'datalab/element!1_154516375129',\n",
       "               'base/js/events',\n",
       "               'datalab/style!/nbextensions/gcpdatalab/charting.css'\n",
       "              ],\n",
       "        function(charts, dom, events) {\n",
       "          charts.render(\n",
       "              'gcharts',\n",
       "              dom,\n",
       "              events,\n",
       "              'columns',\n",
       "              [],\n",
       "              {\"cols\": [{\"id\": \"percentile\", \"label\": \"percentile\", \"type\": \"number\"}, {\"id\": \"time\", \"label\": \"time\", \"type\": \"number\"}], \"rows\": [{\"c\": [{\"v\": 1}, {\"v\": 0.0}]}, {\"c\": [{\"v\": 2}, {\"v\": 0.47712125471966244}]}, {\"c\": [{\"v\": 3}, {\"v\": 1.146128035678238}]}, {\"c\": [{\"v\": 4}, {\"v\": 1.3010299956639813}]}, {\"c\": [{\"v\": 5}, {\"v\": 1.3424226808222062}]}, {\"c\": [{\"v\": 6}, {\"v\": 1.3617278360175928}]}, {\"c\": [{\"v\": 7}, {\"v\": 1.414973347970818}]}, {\"c\": [{\"v\": 8}, {\"v\": 1.4471580313422192}]}, {\"c\": [{\"v\": 9}, {\"v\": 1.4471580313422192}]}, {\"c\": [{\"v\": 10}, {\"v\": 1.462397997898956}]}, {\"c\": [{\"v\": 11}, {\"v\": 1.4913616938342726}]}, {\"c\": [{\"v\": 12}, {\"v\": 1.5185139398778875}]}, {\"c\": [{\"v\": 13}, {\"v\": 1.5314789170422551}]}, {\"c\": [{\"v\": 14}, {\"v\": 1.5440680443502757}]}, {\"c\": [{\"v\": 15}, {\"v\": 1.5563025007672873}]}, {\"c\": [{\"v\": 16}, {\"v\": 1.568201724066995}]}, {\"c\": [{\"v\": 17}, {\"v\": 1.591064607026499}]}, {\"c\": [{\"v\": 18}, {\"v\": 1.6127838567197355}]}, {\"c\": [{\"v\": 19}, {\"v\": 1.6434526764861874}]}, {\"c\": [{\"v\": 20}, {\"v\": 1.6720978579357175}]}, {\"c\": [{\"v\": 21}, {\"v\": 1.6989700043360187}]}, {\"c\": [{\"v\": 22}, {\"v\": 1.7403626894942439}]}, {\"c\": [{\"v\": 23}, {\"v\": 1.792391689498254}]}, {\"c\": [{\"v\": 24}, {\"v\": 1.8512583487190752}]}, {\"c\": [{\"v\": 25}, {\"v\": 1.8920946026904804}]}, {\"c\": [{\"v\": 26}, {\"v\": 1.919078092376074}]}, {\"c\": [{\"v\": 27}, {\"v\": 1.9590413923210936}]}, {\"c\": [{\"v\": 28}, {\"v\": 1.9912260756924949}]}, {\"c\": [{\"v\": 29}, {\"v\": 2.0043213737826426}]}, {\"c\": [{\"v\": 30}, {\"v\": 2.0211892990699383}]}, {\"c\": [{\"v\": 31}, {\"v\": 2.037426497940624}]}, {\"c\": [{\"v\": 32}, {\"v\": 2.0569048513364727}]}, {\"c\": [{\"v\": 33}, {\"v\": 2.075546961392531}]}, {\"c\": [{\"v\": 34}, {\"v\": 2.0863598306747484}]}, {\"c\": [{\"v\": 35}, {\"v\": 2.100370545117563}]}, {\"c\": [{\"v\": 36}, {\"v\": 2.1367205671564067}]}, {\"c\": [{\"v\": 37}, {\"v\": 2.167317334748176}]}, {\"c\": [{\"v\": 38}, {\"v\": 2.184691430817599}]}, {\"c\": [{\"v\": 39}, {\"v\": 2.1931245983544616}]}, {\"c\": [{\"v\": 40}, {\"v\": 2.2095150145426308}]}, {\"c\": [{\"v\": 41}, {\"v\": 2.2380461031287955}]}, {\"c\": [{\"v\": 42}, {\"v\": 2.2695129442179165}]}, {\"c\": [{\"v\": 43}, {\"v\": 2.305351369446624}]}, {\"c\": [{\"v\": 44}, {\"v\": 2.3443922736851106}]}, {\"c\": [{\"v\": 45}, {\"v\": 2.3891660843645326}]}, {\"c\": [{\"v\": 46}, {\"v\": 2.450249108319361}]}, {\"c\": [{\"v\": 47}, {\"v\": 2.531478917042255}]}, {\"c\": [{\"v\": 48}, {\"v\": 2.6242820958356683}]}, {\"c\": [{\"v\": 49}, {\"v\": 2.780317312140151}]}, {\"c\": [{\"v\": 50}, {\"v\": 3.702775077901044}]}, {\"c\": [{\"v\": 51}, {\"v\": 7.130363299515732}]}]},\n",
       "              {},\n",
       "              {\"source_index\": 0, \"name\": 0, \"fields\": \"percentile,time\"},\n",
       "              0,\n",
       "              51);\n",
       "          }\n",
       "        );\n",
       "    </script>\n",
       "  "
      ],
      "text/plain": [
       "<IPython.core.display.HTML object>"
      ]
     },
     "execution_count": 13,
     "metadata": {},
     "output_type": "execute_result"
    }
   ],
   "source": [
    "%chart columns --data data --fields percentile,time"
   ]
  },
  {
   "cell_type": "markdown",
   "metadata": {
    "collapsed": true
   },
   "source": [
    "# Looking Ahead\n",
    "\n",
    "There are other commands, such as those that import (load) and export (extract) data or that handle tables and datasets.\n",
    "\n",
    "Datalab allows queries to be constructed one step at a time to create **composite SQL queries** that use different constructs such as [User Defined Functions](https://cloud.google.com/bigquery/docs/reference/standard-sql/user-defined-functions) and [External Data Sources](https://cloud.google.com/bigquery/external-data-sources), in order to harness the full power of BigQuery SQL while managing authoring complexity.\n",
    "\n",
    "All of these BigQuery commands are implemented on top of **Python BigQuery APIs** (in the `google.datalab.bigquery` Python module). This implementation not only allows you to write arbitrary code and logic while working with BigQuery data, but also lets you integrate SQL and Python, and the Python data analysis libraries such as pandas and matplotlib, to perform sophisticated and custom data analysis and visualization tasks.\n",
    "\n",
    "These topics are covered in other BigQuery tutorial notebooks that are included with Datalab."
   ]
  }
 ],
 "metadata": {
  "kernelspec": {
   "display_name": "datalab-notebooks",
   "language": "python",
   "name": "datalab-notebooks"
  },
  "language_info": {
   "codemirror_mode": {
    "name": "ipython",
    "version": 3
   },
   "file_extension": ".py",
   "mimetype": "text/x-python",
   "name": "python",
   "nbconvert_exporter": "python",
   "pygments_lexer": "ipython3",
   "version": "3.6.4"
  }
 },
 "nbformat": 4,
 "nbformat_minor": 1
}
