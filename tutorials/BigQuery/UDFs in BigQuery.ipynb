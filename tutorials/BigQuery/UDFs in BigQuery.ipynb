{
 "cells": [
  {
   "cell_type": "markdown",
   "metadata": {},
   "source": [
    "# UDFs in BigQuery\n",
    "\n",
    "This notebook shows how to use UDFs (user-defined functions) in Google BigQuery. UDFs allow you to operate on columns of a table, performing arbitrary transformations, and returning the result of those transformations as a value. Datalab currently supports temporary UDFS, which live only within the query that uses them.\n",
    "\n",
    "You can read more about UDFs [here](https://cloud.google.com/bigquery/docs/reference/standard-sql/user-defined-functions)"
   ]
  },
  {
   "cell_type": "markdown",
   "metadata": {},
   "source": [
    "## Scenario\n",
    "\n",
    "In this notebook we are going to look at anonymized logs that originated in Google AppEngine. These logs include the paths of requested URIs, which contain a number of query parameters of interest. To help us use the logs, we will create a UDF that extracts the query parameters values, and puts them into a new column of type `ARRAY`.\n"
   ]
  },
  {
   "cell_type": "markdown",
   "metadata": {},
   "source": [
    "## Examining the Data\n",
    "\n",
    "We are going to look at logs from a week in October 2015. These logs were imported from Google AppEngine, with a few relevant fields extracted and anonymized. There is a separate table for each day. Let's look at an example, starting with the schema, and then look at sample rows:"
   ]
  },
  {
   "cell_type": "code",
   "execution_count": 1,
   "metadata": {},
   "outputs": [],
   "source": [
    "%load_ext google.datalab.kernel"
   ]
  },
  {
   "cell_type": "code",
   "execution_count": 2,
   "metadata": {},
   "outputs": [
    {
     "data": {
      "text/html": [
       "\n",
       "    <div class=\"bqsv\" id=\"1_154516441666\"></div>\n",
       "    <script src=\"/static/components/requirejs/require.js\"></script>\n",
       "    <script>\n",
       "      require.config({\n",
       "        paths: {\n",
       "          base: '/static/base',\n",
       "        },\n",
       "        map: {\n",
       "          '*': {\n",
       "            datalab: 'nbextensions/gcpdatalab'\n",
       "          }\n",
       "        },\n",
       "      });\n",
       "\n",
       "      require(['datalab/bigquery', 'datalab/element!1_154516441666',\n",
       "          'datalab/style!/nbextensions/gcpdatalab/bigquery.css'],\n",
       "        function(bq, dom) {\n",
       "          bq.renderSchema(dom, [{\"name\": \"timestamp\", \"type\": \"TIMESTAMP\", \"mode\": \"NULLABLE\"}, {\"name\": \"method\", \"type\": \"STRING\", \"mode\": \"NULLABLE\"}, {\"name\": \"status\", \"type\": \"INTEGER\", \"mode\": \"NULLABLE\"}, {\"name\": \"latency\", \"type\": \"FLOAT\", \"mode\": \"NULLABLE\"}, {\"name\": \"path\", \"type\": \"STRING\", \"mode\": \"NULLABLE\"}]);\n",
       "        }\n",
       "      );\n",
       "    </script>\n",
       "    "
      ],
      "text/plain": [
       "<IPython.core.display.HTML object>"
      ]
     },
     "execution_count": 2,
     "metadata": {},
     "output_type": "execute_result"
    }
   ],
   "source": [
    "%bq tables describe --name cloud-datalab-samples.appenginelogs.sample_logs_20151027"
   ]
  },
  {
   "cell_type": "code",
   "execution_count": 3,
   "metadata": {},
   "outputs": [
    {
     "data": {
      "text/html": [
       "\n",
       "    <div class=\"bqtv\" id=\"2_154516441890\"><table><tr><th>timestamp</th><th>method</th><th>status</th><th>latency</th><th>path</th></tr><tr><td>2015-10-27 07:32:33.178964</td><td>POST</td><td>404</td><td>0.003679</td><td>/log/error?project=2&amp;instance=2&amp;user=2&amp;page=master&amp;path=3&amp;version=0.1.1&amp;release=alpha</td></tr><tr><td>2015-10-27 06:12:54.465872</td><td>POST</td><td>404</td><td>0.004054</td><td>/log/error?project=2&amp;instance=2&amp;user=2&amp;page=master&amp;path=3&amp;version=0.1.1&amp;release=alpha</td></tr><tr><td>2015-10-27 05:56:20.662169</td><td>POST</td><td>404</td><td>0.003147</td><td>/log/error?project=9&amp;instance=2&amp;user=2&amp;page=master&amp;path=3&amp;version=0.1.1&amp;release=alpha</td></tr><tr><td>2015-10-27 17:22:35.503786</td><td>POST</td><td>404</td><td>0.003487</td><td>/log/error?project=17&amp;instance=2&amp;user=2&amp;page=master&amp;path=3&amp;version=0.1.1&amp;release=alpha</td></tr><tr><td>2015-10-27 02:26:26.651847</td><td>POST</td><td>404</td><td>0.003345</td><td>/log/error?project=22&amp;instance=2&amp;user=2&amp;page=master&amp;path=3&amp;version=0.1.1&amp;release=alpha</td></tr></table></div>\n",
       "    <br />(rows: 5, time: 0.3s,   256KB processed, job: job_mDqhkkGarBdIjwaBDLhy0eT9zgCD)<br />\n",
       "    <script src=\"/static/components/requirejs/require.js\"></script>\n",
       "    <script>\n",
       "      require.config({\n",
       "        paths: {\n",
       "          base: '/static/base',\n",
       "          d3: '//cdnjs.cloudflare.com/ajax/libs/d3/3.4.13/d3',\n",
       "          plotly: 'https://cdn.plot.ly/plotly-1.5.1.min.js?noext',\n",
       "          jquery: '//ajax.googleapis.com/ajax/libs/jquery/2.0.0/jquery.min'\n",
       "        },\n",
       "        map: {\n",
       "          '*': {\n",
       "            datalab: 'nbextensions/gcpdatalab'\n",
       "          }\n",
       "        },\n",
       "        shim: {\n",
       "          plotly: {\n",
       "            deps: ['d3', 'jquery'],\n",
       "            exports: 'plotly'\n",
       "          }\n",
       "        }\n",
       "      });\n",
       "\n",
       "      require(['datalab/charting', 'datalab/element!2_154516441890', 'base/js/events',\n",
       "          'datalab/style!/nbextensions/gcpdatalab/charting.css'],\n",
       "        function(charts, dom, events) {\n",
       "          charts.render('gcharts', dom, events, 'table', [], {\"cols\": [{\"id\": \"timestamp\", \"label\": \"timestamp\", \"type\": \"timestamp\"}, {\"id\": \"method\", \"label\": \"method\", \"type\": \"string\"}, {\"id\": \"status\", \"label\": \"status\", \"type\": \"number\"}, {\"id\": \"latency\", \"label\": \"latency\", \"type\": \"number\"}, {\"id\": \"path\", \"label\": \"path\", \"type\": \"string\"}], \"rows\": [{\"c\": [{\"v\": \"2015-10-27T07:32:33.178964\"}, {\"v\": \"POST\"}, {\"v\": 404}, {\"v\": 0.003679}, {\"v\": \"/log/error?project=2&instance=2&user=2&page=master&path=3&version=0.1.1&release=alpha\"}]}, {\"c\": [{\"v\": \"2015-10-27T06:12:54.465872\"}, {\"v\": \"POST\"}, {\"v\": 404}, {\"v\": 0.004054}, {\"v\": \"/log/error?project=2&instance=2&user=2&page=master&path=3&version=0.1.1&release=alpha\"}]}, {\"c\": [{\"v\": \"2015-10-27T05:56:20.662169\"}, {\"v\": \"POST\"}, {\"v\": 404}, {\"v\": 0.003147}, {\"v\": \"/log/error?project=9&instance=2&user=2&page=master&path=3&version=0.1.1&release=alpha\"}]}, {\"c\": [{\"v\": \"2015-10-27T17:22:35.503786\"}, {\"v\": \"POST\"}, {\"v\": 404}, {\"v\": 0.003487}, {\"v\": \"/log/error?project=17&instance=2&user=2&page=master&path=3&version=0.1.1&release=alpha\"}]}, {\"c\": [{\"v\": \"2015-10-27T02:26:26.651847\"}, {\"v\": \"POST\"}, {\"v\": 404}, {\"v\": 0.003345}, {\"v\": \"/log/error?project=22&instance=2&user=2&page=master&path=3&version=0.1.1&release=alpha\"}]}]},\n",
       "            {\n",
       "              pageSize: 25,\n",
       "              cssClassNames:  {\n",
       "                tableRow: 'gchart-table-row',\n",
       "                headerRow: 'gchart-table-headerrow',\n",
       "                oddTableRow: 'gchart-table-oddrow',\n",
       "                selectedTableRow: 'gchart-table-selectedrow',\n",
       "                hoverTableRow: 'gchart-table-hoverrow',\n",
       "                tableCell: 'gchart-table-cell',\n",
       "                headerCell: 'gchart-table-headercell',\n",
       "                rowNumberCell: 'gchart-table-rownumcell'\n",
       "              }\n",
       "            },\n",
       "            {source_index: 0, fields: 'timestamp,method,status,latency,path'},\n",
       "            0,\n",
       "            5);\n",
       "        }\n",
       "      );\n",
       "    </script>\n",
       "  "
      ],
      "text/plain": [
       "QueryResultsTable job_mDqhkkGarBdIjwaBDLhy0eT9zgCD"
      ]
     },
     "execution_count": 3,
     "metadata": {},
     "output_type": "execute_result"
    }
   ],
   "source": [
    "%bq sample --count 5 --table cloud-datalab-samples.appenginelogs.sample_logs_20151027"
   ]
  },
  {
   "cell_type": "markdown",
   "metadata": {},
   "source": [
    "You can see we have five columns; the 'path' column needs the most processing. Each URI has the form `log/event?params`, where params can be one of project, instance, user, page, path, version, or release. We are going to extract these values into a separate column of type `ARRAY`."
   ]
  },
  {
   "cell_type": "markdown",
   "metadata": {},
   "source": [
    "## Creating and Testing the UDF\n",
    "\n",
    "UDFs are functions written in one of the supported languages (currently SQL and Javascript), that take a column and produces a value, after performing some computation. The BigQuery UDF documentation explains that the `CREATE TEMP FUNCTION` call is needed to define a UDF, including its parameter names and types, return type, and language. Datalab simplifies this syntax; it makes use of jsdoc-style `// @param` comments to achieve the same result. Also, it exposes UDFs as a Python class, and a magic command, to make building queries simpler. Let's see how we can do this:"
   ]
  },
  {
   "cell_type": "code",
   "execution_count": 4,
   "metadata": {},
   "outputs": [
    {
     "data": {
      "text/html": [
       "\n",
       "    <div class=\"bqtv\" id=\"3_154516442161\"><table><tr><th>timestamp</th><th>method</th><th>status</th><th>latency</th><th>path</th></tr><tr><td>2015-10-27 07:32:33.178964</td><td>POST</td><td>404</td><td>0.003679</td><td>/log/error?project=2&amp;instance=2&amp;user=2&amp;page=master&amp;path=3&amp;version=0.1.1&amp;release=alpha</td></tr><tr><td>2015-10-27 06:12:54.465872</td><td>POST</td><td>404</td><td>0.004054</td><td>/log/error?project=2&amp;instance=2&amp;user=2&amp;page=master&amp;path=3&amp;version=0.1.1&amp;release=alpha</td></tr><tr><td>2015-10-27 05:56:20.662169</td><td>POST</td><td>404</td><td>0.003147</td><td>/log/error?project=9&amp;instance=2&amp;user=2&amp;page=master&amp;path=3&amp;version=0.1.1&amp;release=alpha</td></tr><tr><td>2015-10-27 17:22:35.503786</td><td>POST</td><td>404</td><td>0.003487</td><td>/log/error?project=17&amp;instance=2&amp;user=2&amp;page=master&amp;path=3&amp;version=0.1.1&amp;release=alpha</td></tr><tr><td>2015-10-27 02:26:26.651847</td><td>POST</td><td>404</td><td>0.003345</td><td>/log/error?project=22&amp;instance=2&amp;user=2&amp;page=master&amp;path=3&amp;version=0.1.1&amp;release=alpha</td></tr></table></div>\n",
       "    <br />(rows: 5, time: 0.3s,   256KB processed, job: job_KF3CT-lVLuiEtDRr2eBBfuP0ZIiq)<br />\n",
       "    <script src=\"/static/components/requirejs/require.js\"></script>\n",
       "    <script>\n",
       "      require.config({\n",
       "        paths: {\n",
       "          base: '/static/base',\n",
       "          d3: '//cdnjs.cloudflare.com/ajax/libs/d3/3.4.13/d3',\n",
       "          plotly: 'https://cdn.plot.ly/plotly-1.5.1.min.js?noext',\n",
       "          jquery: '//ajax.googleapis.com/ajax/libs/jquery/2.0.0/jquery.min'\n",
       "        },\n",
       "        map: {\n",
       "          '*': {\n",
       "            datalab: 'nbextensions/gcpdatalab'\n",
       "          }\n",
       "        },\n",
       "        shim: {\n",
       "          plotly: {\n",
       "            deps: ['d3', 'jquery'],\n",
       "            exports: 'plotly'\n",
       "          }\n",
       "        }\n",
       "      });\n",
       "\n",
       "      require(['datalab/charting', 'datalab/element!3_154516442161', 'base/js/events',\n",
       "          'datalab/style!/nbextensions/gcpdatalab/charting.css'],\n",
       "        function(charts, dom, events) {\n",
       "          charts.render('gcharts', dom, events, 'table', [], {\"cols\": [{\"id\": \"timestamp\", \"label\": \"timestamp\", \"type\": \"timestamp\"}, {\"id\": \"method\", \"label\": \"method\", \"type\": \"string\"}, {\"id\": \"status\", \"label\": \"status\", \"type\": \"number\"}, {\"id\": \"latency\", \"label\": \"latency\", \"type\": \"number\"}, {\"id\": \"path\", \"label\": \"path\", \"type\": \"string\"}], \"rows\": [{\"c\": [{\"v\": \"2015-10-27T07:32:33.178964\"}, {\"v\": \"POST\"}, {\"v\": 404}, {\"v\": 0.003679}, {\"v\": \"/log/error?project=2&instance=2&user=2&page=master&path=3&version=0.1.1&release=alpha\"}]}, {\"c\": [{\"v\": \"2015-10-27T06:12:54.465872\"}, {\"v\": \"POST\"}, {\"v\": 404}, {\"v\": 0.004054}, {\"v\": \"/log/error?project=2&instance=2&user=2&page=master&path=3&version=0.1.1&release=alpha\"}]}, {\"c\": [{\"v\": \"2015-10-27T05:56:20.662169\"}, {\"v\": \"POST\"}, {\"v\": 404}, {\"v\": 0.003147}, {\"v\": \"/log/error?project=9&instance=2&user=2&page=master&path=3&version=0.1.1&release=alpha\"}]}, {\"c\": [{\"v\": \"2015-10-27T17:22:35.503786\"}, {\"v\": \"POST\"}, {\"v\": 404}, {\"v\": 0.003487}, {\"v\": \"/log/error?project=17&instance=2&user=2&page=master&path=3&version=0.1.1&release=alpha\"}]}, {\"c\": [{\"v\": \"2015-10-27T02:26:26.651847\"}, {\"v\": \"POST\"}, {\"v\": 404}, {\"v\": 0.003345}, {\"v\": \"/log/error?project=22&instance=2&user=2&page=master&path=3&version=0.1.1&release=alpha\"}]}]},\n",
       "            {\n",
       "              pageSize: 25,\n",
       "              cssClassNames:  {\n",
       "                tableRow: 'gchart-table-row',\n",
       "                headerRow: 'gchart-table-headerrow',\n",
       "                oddTableRow: 'gchart-table-oddrow',\n",
       "                selectedTableRow: 'gchart-table-selectedrow',\n",
       "                hoverTableRow: 'gchart-table-hoverrow',\n",
       "                tableCell: 'gchart-table-cell',\n",
       "                headerCell: 'gchart-table-headercell',\n",
       "                rowNumberCell: 'gchart-table-rownumcell'\n",
       "              }\n",
       "            },\n",
       "            {source_index: 1, fields: 'timestamp,method,status,latency,path'},\n",
       "            0,\n",
       "            5);\n",
       "        }\n",
       "      );\n",
       "    </script>\n",
       "  "
      ],
      "text/plain": [
       "QueryResultsTable job_KF3CT-lVLuiEtDRr2eBBfuP0ZIiq"
      ]
     },
     "execution_count": 4,
     "metadata": {},
     "output_type": "execute_result"
    }
   ],
   "source": [
    "%%bq query\n",
    "SELECT * FROM `cloud-datalab-samples.appenginelogs.sample_logs_20151027`\n",
    "LIMIT 5"
   ]
  },
  {
   "cell_type": "code",
   "execution_count": 5,
   "metadata": {},
   "outputs": [],
   "source": [
    "%%bq udf --name extract_params -l js\n",
    "// A function to split a set of URL query parameters into an array\n",
    "// @param path STRING\n",
    "// @returns ARRAY<STRING>\n",
    "var re = /[?&]([^=]*)=([^&]*)/g;\n",
    "var result = [];\n",
    "var match;\n",
    "while ((match = re.exec(path)) != null) {\n",
    "  result.push(decodeURIComponent(match[2]));\n",
    "}\n",
    "return result;"
   ]
  },
  {
   "cell_type": "markdown",
   "metadata": {},
   "source": [
    "Now we can try calling the UDF. We need to define a query to do this. We can call our UDF like any regular function call, taking one or more columns as input."
   ]
  },
  {
   "cell_type": "code",
   "execution_count": 6,
   "metadata": {},
   "outputs": [],
   "source": [
    "%%bq query -n extract_params_query --udfs extract_params\n",
    "SELECT *, extract_params(path) as parameters FROM `cloud-datalab-samples.appenginelogs.sample_logs_20151027`\n",
    "LIMIT 5"
   ]
  },
  {
   "cell_type": "code",
   "execution_count": 7,
   "metadata": {},
   "outputs": [
    {
     "data": {
      "text/html": [
       "\n",
       "    <div class=\"bqtv\" id=\"4_154516443108\"><table><tr><th>timestamp</th><th>method</th><th>status</th><th>latency</th><th>path</th><th>parameters</th></tr><tr><td>2015-10-27 07:32:33.178964</td><td>POST</td><td>404</td><td>0.003679</td><td>/log/error?project=2&amp;instance=2&amp;user=2&amp;page=master&amp;path=3&amp;version=0.1.1&amp;release=alpha</td><td>['2', '2', '2', 'master', '3', '0.1.1', 'alpha']</td></tr><tr><td>2015-10-27 06:12:54.465872</td><td>POST</td><td>404</td><td>0.004054</td><td>/log/error?project=2&amp;instance=2&amp;user=2&amp;page=master&amp;path=3&amp;version=0.1.1&amp;release=alpha</td><td>['2', '2', '2', 'master', '3', '0.1.1', 'alpha']</td></tr><tr><td>2015-10-27 05:56:20.662169</td><td>POST</td><td>404</td><td>0.003147</td><td>/log/error?project=9&amp;instance=2&amp;user=2&amp;page=master&amp;path=3&amp;version=0.1.1&amp;release=alpha</td><td>['9', '2', '2', 'master', '3', '0.1.1', 'alpha']</td></tr><tr><td>2015-10-27 17:22:35.503786</td><td>POST</td><td>404</td><td>0.003487</td><td>/log/error?project=17&amp;instance=2&amp;user=2&amp;page=master&amp;path=3&amp;version=0.1.1&amp;release=alpha</td><td>['17', '2', '2', 'master', '3', '0.1.1', 'alpha']</td></tr><tr><td>2015-10-27 02:26:26.651847</td><td>POST</td><td>404</td><td>0.003345</td><td>/log/error?project=22&amp;instance=2&amp;user=2&amp;page=master&amp;path=3&amp;version=0.1.1&amp;release=alpha</td><td>['22', '2', '2', 'master', '3', '0.1.1', 'alpha']</td></tr></table></div>\n",
       "    <br />(rows: 5, time: 6.5s,   256KB processed, job: job_9Ywo81PihqJ2IAZegg8bKam_obln)<br />\n",
       "    <script src=\"/static/components/requirejs/require.js\"></script>\n",
       "    <script>\n",
       "      require.config({\n",
       "        paths: {\n",
       "          base: '/static/base',\n",
       "          d3: '//cdnjs.cloudflare.com/ajax/libs/d3/3.4.13/d3',\n",
       "          plotly: 'https://cdn.plot.ly/plotly-1.5.1.min.js?noext',\n",
       "          jquery: '//ajax.googleapis.com/ajax/libs/jquery/2.0.0/jquery.min'\n",
       "        },\n",
       "        map: {\n",
       "          '*': {\n",
       "            datalab: 'nbextensions/gcpdatalab'\n",
       "          }\n",
       "        },\n",
       "        shim: {\n",
       "          plotly: {\n",
       "            deps: ['d3', 'jquery'],\n",
       "            exports: 'plotly'\n",
       "          }\n",
       "        }\n",
       "      });\n",
       "\n",
       "      require(['datalab/charting', 'datalab/element!4_154516443108', 'base/js/events',\n",
       "          'datalab/style!/nbextensions/gcpdatalab/charting.css'],\n",
       "        function(charts, dom, events) {\n",
       "          charts.render('gcharts', dom, events, 'table', [], {\"cols\": [{\"id\": \"timestamp\", \"label\": \"timestamp\", \"type\": \"timestamp\"}, {\"id\": \"method\", \"label\": \"method\", \"type\": \"string\"}, {\"id\": \"status\", \"label\": \"status\", \"type\": \"number\"}, {\"id\": \"latency\", \"label\": \"latency\", \"type\": \"number\"}, {\"id\": \"path\", \"label\": \"path\", \"type\": \"string\"}, {\"id\": \"parameters\", \"label\": \"parameters\", \"type\": \"string\"}], \"rows\": [{\"c\": [{\"v\": \"2015-10-27T07:32:33.178964\"}, {\"v\": \"POST\"}, {\"v\": 404}, {\"v\": 0.003679}, {\"v\": \"/log/error?project=2&instance=2&user=2&page=master&path=3&version=0.1.1&release=alpha\"}, {\"v\": [\"2\", \"2\", \"2\", \"master\", \"3\", \"0.1.1\", \"alpha\"]}]}, {\"c\": [{\"v\": \"2015-10-27T06:12:54.465872\"}, {\"v\": \"POST\"}, {\"v\": 404}, {\"v\": 0.004054}, {\"v\": \"/log/error?project=2&instance=2&user=2&page=master&path=3&version=0.1.1&release=alpha\"}, {\"v\": [\"2\", \"2\", \"2\", \"master\", \"3\", \"0.1.1\", \"alpha\"]}]}, {\"c\": [{\"v\": \"2015-10-27T05:56:20.662169\"}, {\"v\": \"POST\"}, {\"v\": 404}, {\"v\": 0.003147}, {\"v\": \"/log/error?project=9&instance=2&user=2&page=master&path=3&version=0.1.1&release=alpha\"}, {\"v\": [\"9\", \"2\", \"2\", \"master\", \"3\", \"0.1.1\", \"alpha\"]}]}, {\"c\": [{\"v\": \"2015-10-27T17:22:35.503786\"}, {\"v\": \"POST\"}, {\"v\": 404}, {\"v\": 0.003487}, {\"v\": \"/log/error?project=17&instance=2&user=2&page=master&path=3&version=0.1.1&release=alpha\"}, {\"v\": [\"17\", \"2\", \"2\", \"master\", \"3\", \"0.1.1\", \"alpha\"]}]}, {\"c\": [{\"v\": \"2015-10-27T02:26:26.651847\"}, {\"v\": \"POST\"}, {\"v\": 404}, {\"v\": 0.003345}, {\"v\": \"/log/error?project=22&instance=2&user=2&page=master&path=3&version=0.1.1&release=alpha\"}, {\"v\": [\"22\", \"2\", \"2\", \"master\", \"3\", \"0.1.1\", \"alpha\"]}]}]},\n",
       "            {\n",
       "              pageSize: 25,\n",
       "              cssClassNames:  {\n",
       "                tableRow: 'gchart-table-row',\n",
       "                headerRow: 'gchart-table-headerrow',\n",
       "                oddTableRow: 'gchart-table-oddrow',\n",
       "                selectedTableRow: 'gchart-table-selectedrow',\n",
       "                hoverTableRow: 'gchart-table-hoverrow',\n",
       "                tableCell: 'gchart-table-cell',\n",
       "                headerCell: 'gchart-table-headercell',\n",
       "                rowNumberCell: 'gchart-table-rownumcell'\n",
       "              }\n",
       "            },\n",
       "            {source_index: 2, fields: 'timestamp,method,status,latency,path,parameters'},\n",
       "            0,\n",
       "            5);\n",
       "        }\n",
       "      );\n",
       "    </script>\n",
       "  "
      ],
      "text/plain": [
       "QueryResultsTable job_9Ywo81PihqJ2IAZegg8bKam_obln"
      ]
     },
     "execution_count": 7,
     "metadata": {},
     "output_type": "execute_result"
    }
   ],
   "source": [
    "%bq execute -q extract_params_query"
   ]
  },
  {
   "cell_type": "markdown",
   "metadata": {},
   "source": [
    "In order to see the actual expanded SQL, including the UDF defined above, we can inspect the query object, by typing its name:"
   ]
  },
  {
   "cell_type": "code",
   "execution_count": 8,
   "metadata": {},
   "outputs": [
    {
     "data": {
      "text/html": [
       "<pre>CREATE TEMPORARY FUNCTION extract_params (path STRING)\n",
       "RETURNS ARRAY&lt;STRING&gt;\n",
       "LANGUAGE js\n",
       "AS \"\"\"\n",
       "// A function to split a set of URL query parameters into an array\n",
       "// @param path STRING\n",
       "// @returns ARRAY&lt;STRING&gt;\n",
       "var re = /[?&amp;]([^=]*)=([^&amp;]*)/g;\n",
       "var result = [];\n",
       "var match;\n",
       "while ((match = re.exec(path)) != null) {\n",
       "  result.push(decodeURIComponent(match[2]));\n",
       "}\n",
       "return result;\n",
       "\n",
       "\"\"\"\n",
       "OPTIONS (\n",
       "\n",
       ");\n",
       "SELECT *, extract_params(path) as parameters FROM `cloud-datalab-samples.appenginelogs.sample_logs_20151027`\n",
       "LIMIT 5\n",
       "</pre>"
      ],
      "text/plain": [
       "BigQuery Query - SELECT *, extract_params(path) as parameters FROM `cloud-datalab-samples.appenginelogs.sample_logs_20151027`\n",
       "LIMIT 5"
      ]
     },
     "execution_count": 8,
     "metadata": {},
     "output_type": "execute_result"
    }
   ],
   "source": [
    "extract_params_query"
   ]
  },
  {
   "cell_type": "markdown",
   "metadata": {},
   "source": [
    "## Next Steps\n",
    "\n",
    "You can learn how to test your UDF in the notebook by following the [UDF Testing in the Notebook](./notebooks/datalab/tutorials/BigQuery/UDF%20Testing%20in%20the%20Notebook.ipynb) tutorial. If you have code that you regularly use in your UDFs, you can factor it out and put it in Google Cloud Storage, then import it. This technique is covered in the [UDFs using Code in Cloud Storage](./notebooks/datalab/tutorials/BigQuery/UDFs%20using%20Code%20in%20Cloud%20Storage.ipynb) tutorial."
   ]
  }
 ],
 "metadata": {
  "kernelspec": {
   "display_name": "datalab-notebooks",
   "language": "python",
   "name": "datalab-notebooks"
  },
  "language_info": {
   "codemirror_mode": {
    "name": "ipython",
    "version": 3
   },
   "file_extension": ".py",
   "mimetype": "text/x-python",
   "name": "python",
   "nbconvert_exporter": "python",
   "pygments_lexer": "ipython3",
   "version": "3.6.4"
  }
 },
 "nbformat": 4,
 "nbformat_minor": 1
}
