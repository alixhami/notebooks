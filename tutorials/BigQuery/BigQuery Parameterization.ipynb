{
 "cells": [
  {
   "cell_type": "markdown",
   "metadata": {},
   "source": [
    "# BigQuery Parameterization\n",
    "\n",
    "Google BigQuery Standard SQL [supports parameterization](https://cloud.google.com/bigquery/querying-data#running_parameterized_queries). It is interesting to be able to use Python variables defined in the notebook as parameter values for SQL.\n",
    "\n",
    "This notebook is an example how to use parameterized queries."
   ]
  },
  {
   "cell_type": "markdown",
   "metadata": {},
   "source": [
    "## Data Preview"
   ]
  },
  {
   "cell_type": "code",
   "execution_count": 1,
   "metadata": {},
   "outputs": [],
   "source": [
    "%load_ext google.datalab.kernel"
   ]
  },
  {
   "cell_type": "code",
   "execution_count": 2,
   "metadata": {},
   "outputs": [],
   "source": [
    "%%bq query -n logs_query\n",
    "SELECT * FROM `cloud-datalab-samples.httplogs.logs_20140615`"
   ]
  },
  {
   "cell_type": "code",
   "execution_count": 3,
   "metadata": {},
   "outputs": [
    {
     "data": {
      "text/html": [
       "\n",
       "    <div class=\"bqtv\" id=\"1_154516394314\"><table><tr><th>timestamp</th><th>latency</th><th>status</th><th>method</th><th>endpoint</th></tr><tr><td>2014-06-15 08:12:39.711942</td><td>256</td><td>200</td><td>GET</td><td>Home</td></tr><tr><td>2014-06-15 10:26:53.442199</td><td>256</td><td>200</td><td>GET</td><td>Home</td></tr><tr><td>2014-06-15 13:04:58.103063</td><td>256</td><td>200</td><td>GET</td><td>Home</td></tr><tr><td>2014-06-15 13:13:50.615016</td><td>256</td><td>200</td><td>GET</td><td>Home</td></tr><tr><td>2014-06-15 15:12:02.263743</td><td>256</td><td>200</td><td>GET</td><td>Home</td></tr><tr><td>2014-06-15 21:17:39.864311</td><td>256</td><td>200</td><td>GET</td><td>Home</td></tr><tr><td>2014-06-15 22:16:04.044991</td><td>256</td><td>200</td><td>GET</td><td>Home</td></tr><tr><td>2014-06-15 23:30:32.241880</td><td>256</td><td>200</td><td>GET</td><td>Home</td></tr><tr><td>2014-06-15 23:55:10.922257</td><td>256</td><td>200</td><td>GET</td><td>Home</td></tr><tr><td>2014-06-16 04:03:26.749572</td><td>256</td><td>200</td><td>GET</td><td>Home</td></tr></table></div>\n",
       "    <br />(rows: 10, time: 0.7s,    24MB processed, job: job_Q5RJH0w2jrbx4oIEMtNGd6SYiR6W)<br />\n",
       "    <script src=\"/static/components/requirejs/require.js\"></script>\n",
       "    <script>\n",
       "      require.config({\n",
       "        paths: {\n",
       "          base: '/static/base',\n",
       "          d3: '//cdnjs.cloudflare.com/ajax/libs/d3/3.4.13/d3',\n",
       "          plotly: 'https://cdn.plot.ly/plotly-1.5.1.min.js?noext',\n",
       "          jquery: '//ajax.googleapis.com/ajax/libs/jquery/2.0.0/jquery.min'\n",
       "        },\n",
       "        map: {\n",
       "          '*': {\n",
       "            datalab: 'nbextensions/gcpdatalab'\n",
       "          }\n",
       "        },\n",
       "        shim: {\n",
       "          plotly: {\n",
       "            deps: ['d3', 'jquery'],\n",
       "            exports: 'plotly'\n",
       "          }\n",
       "        }\n",
       "      });\n",
       "\n",
       "      require(['datalab/charting', 'datalab/element!1_154516394314', 'base/js/events',\n",
       "          'datalab/style!/nbextensions/gcpdatalab/charting.css'],\n",
       "        function(charts, dom, events) {\n",
       "          charts.render('gcharts', dom, events, 'table', [], {\"cols\": [{\"id\": \"timestamp\", \"label\": \"timestamp\", \"type\": \"timestamp\"}, {\"id\": \"latency\", \"label\": \"latency\", \"type\": \"number\"}, {\"id\": \"status\", \"label\": \"status\", \"type\": \"number\"}, {\"id\": \"method\", \"label\": \"method\", \"type\": \"string\"}, {\"id\": \"endpoint\", \"label\": \"endpoint\", \"type\": \"string\"}], \"rows\": [{\"c\": [{\"v\": \"2014-06-15T08:12:39.711942\"}, {\"v\": 256}, {\"v\": 200}, {\"v\": \"GET\"}, {\"v\": \"Home\"}]}, {\"c\": [{\"v\": \"2014-06-15T10:26:53.442199\"}, {\"v\": 256}, {\"v\": 200}, {\"v\": \"GET\"}, {\"v\": \"Home\"}]}, {\"c\": [{\"v\": \"2014-06-15T13:04:58.103063\"}, {\"v\": 256}, {\"v\": 200}, {\"v\": \"GET\"}, {\"v\": \"Home\"}]}, {\"c\": [{\"v\": \"2014-06-15T13:13:50.615016\"}, {\"v\": 256}, {\"v\": 200}, {\"v\": \"GET\"}, {\"v\": \"Home\"}]}, {\"c\": [{\"v\": \"2014-06-15T15:12:02.263743\"}, {\"v\": 256}, {\"v\": 200}, {\"v\": \"GET\"}, {\"v\": \"Home\"}]}, {\"c\": [{\"v\": \"2014-06-15T21:17:39.864311\"}, {\"v\": 256}, {\"v\": 200}, {\"v\": \"GET\"}, {\"v\": \"Home\"}]}, {\"c\": [{\"v\": \"2014-06-15T22:16:04.044991\"}, {\"v\": 256}, {\"v\": 200}, {\"v\": \"GET\"}, {\"v\": \"Home\"}]}, {\"c\": [{\"v\": \"2014-06-15T23:30:32.241880\"}, {\"v\": 256}, {\"v\": 200}, {\"v\": \"GET\"}, {\"v\": \"Home\"}]}, {\"c\": [{\"v\": \"2014-06-15T23:55:10.922257\"}, {\"v\": 256}, {\"v\": 200}, {\"v\": \"GET\"}, {\"v\": \"Home\"}]}, {\"c\": [{\"v\": \"2014-06-16T04:03:26.749572\"}, {\"v\": 256}, {\"v\": 200}, {\"v\": \"GET\"}, {\"v\": \"Home\"}]}]},\n",
       "            {\n",
       "              pageSize: 25,\n",
       "              cssClassNames:  {\n",
       "                tableRow: 'gchart-table-row',\n",
       "                headerRow: 'gchart-table-headerrow',\n",
       "                oddTableRow: 'gchart-table-oddrow',\n",
       "                selectedTableRow: 'gchart-table-selectedrow',\n",
       "                hoverTableRow: 'gchart-table-hoverrow',\n",
       "                tableCell: 'gchart-table-cell',\n",
       "                headerCell: 'gchart-table-headercell',\n",
       "                rowNumberCell: 'gchart-table-rownumcell'\n",
       "              }\n",
       "            },\n",
       "            {source_index: 0, fields: 'timestamp,latency,status,method,endpoint'},\n",
       "            0,\n",
       "            10);\n",
       "        }\n",
       "      );\n",
       "    </script>\n",
       "  "
      ],
      "text/plain": [
       "QueryResultsTable job_Q5RJH0w2jrbx4oIEMtNGd6SYiR6W"
      ]
     },
     "execution_count": 3,
     "metadata": {},
     "output_type": "execute_result"
    }
   ],
   "source": [
    "%bq sample -q logs_query --count 10"
   ]
  },
  {
   "cell_type": "code",
   "execution_count": 4,
   "metadata": {},
   "outputs": [
    {
     "data": {
      "text/html": [
       "\n",
       "    <div class=\"bqtv\" id=\"2_154516394596\"><table><tr><th>endpoint</th></tr><tr><td>Home</td></tr><tr><td>Admin</td></tr><tr><td>Other</td></tr><tr><td>Create</td></tr><tr><td>Recent</td></tr><tr><td>Warmup</td></tr><tr><td>Popular</td></tr><tr><td>Interact1</td></tr><tr><td>Interact2</td></tr><tr><td>Interact3</td></tr></table></div>\n",
       "    <br />(rows: 10, time: 0.5s,     5MB processed, job: job_hfHiWdOdWRlM34xbw3OH1kp4cNou)<br />\n",
       "    <script src=\"/static/components/requirejs/require.js\"></script>\n",
       "    <script>\n",
       "      require.config({\n",
       "        paths: {\n",
       "          base: '/static/base',\n",
       "          d3: '//cdnjs.cloudflare.com/ajax/libs/d3/3.4.13/d3',\n",
       "          plotly: 'https://cdn.plot.ly/plotly-1.5.1.min.js?noext',\n",
       "          jquery: '//ajax.googleapis.com/ajax/libs/jquery/2.0.0/jquery.min'\n",
       "        },\n",
       "        map: {\n",
       "          '*': {\n",
       "            datalab: 'nbextensions/gcpdatalab'\n",
       "          }\n",
       "        },\n",
       "        shim: {\n",
       "          plotly: {\n",
       "            deps: ['d3', 'jquery'],\n",
       "            exports: 'plotly'\n",
       "          }\n",
       "        }\n",
       "      });\n",
       "\n",
       "      require(['datalab/charting', 'datalab/element!2_154516394596', 'base/js/events',\n",
       "          'datalab/style!/nbextensions/gcpdatalab/charting.css'],\n",
       "        function(charts, dom, events) {\n",
       "          charts.render('gcharts', dom, events, 'table', [], {\"cols\": [{\"id\": \"endpoint\", \"label\": \"endpoint\", \"type\": \"string\"}], \"rows\": [{\"c\": [{\"v\": \"Home\"}]}, {\"c\": [{\"v\": \"Admin\"}]}, {\"c\": [{\"v\": \"Other\"}]}, {\"c\": [{\"v\": \"Create\"}]}, {\"c\": [{\"v\": \"Recent\"}]}, {\"c\": [{\"v\": \"Warmup\"}]}, {\"c\": [{\"v\": \"Popular\"}]}, {\"c\": [{\"v\": \"Interact1\"}]}, {\"c\": [{\"v\": \"Interact2\"}]}, {\"c\": [{\"v\": \"Interact3\"}]}]},\n",
       "            {\n",
       "              pageSize: 25,\n",
       "              cssClassNames:  {\n",
       "                tableRow: 'gchart-table-row',\n",
       "                headerRow: 'gchart-table-headerrow',\n",
       "                oddTableRow: 'gchart-table-oddrow',\n",
       "                selectedTableRow: 'gchart-table-selectedrow',\n",
       "                hoverTableRow: 'gchart-table-hoverrow',\n",
       "                tableCell: 'gchart-table-cell',\n",
       "                headerCell: 'gchart-table-headercell',\n",
       "                rowNumberCell: 'gchart-table-rownumcell'\n",
       "              }\n",
       "            },\n",
       "            {source_index: 1, fields: 'endpoint'},\n",
       "            0,\n",
       "            10);\n",
       "        }\n",
       "      );\n",
       "    </script>\n",
       "  "
      ],
      "text/plain": [
       "QueryResultsTable job_hfHiWdOdWRlM34xbw3OH1kp4cNou"
      ]
     },
     "execution_count": 4,
     "metadata": {},
     "output_type": "execute_result"
    }
   ],
   "source": [
    "%%bq query\n",
    "SELECT endpoint FROM `cloud-datalab-samples.httplogs.logs_20140615` GROUP BY endpoint"
   ]
  },
  {
   "cell_type": "markdown",
   "metadata": {},
   "source": [
    "# Parameterization within SQL queries\n",
    "\n",
    "Parameters are declared in SQL queries using a `@name` syntax within the SQL, and then defining `name`'s value when executing the query. Notice you will have to define the query and execute it in two different cells. The shorthand way of running queries (using `%%bq query` without `--name`) gives you little control over the execution of the query."
   ]
  },
  {
   "cell_type": "code",
   "execution_count": 5,
   "metadata": {},
   "outputs": [],
   "source": [
    "%%bq query -n endpoint_stats\n",
    "SELECT *\n",
    "FROM `cloud-datalab-samples.httplogs.logs_20140615`\n",
    "WHERE endpoint = @endpoint\n",
    "LIMIT 10"
   ]
  },
  {
   "cell_type": "code",
   "execution_count": 6,
   "metadata": {},
   "outputs": [
    {
     "data": {
      "text/html": [
       "\n",
       "    <div class=\"bqtv\" id=\"3_154516394924\"><table><tr><th>timestamp</th><th>latency</th><th>status</th><th>method</th><th>endpoint</th></tr><tr><td>2014-06-15 08:13:58.427707</td><td>256</td><td>200</td><td>POST</td><td>Interact2</td></tr><tr><td>2014-06-15 09:36:24.143390</td><td>256</td><td>200</td><td>POST</td><td>Interact2</td></tr><tr><td>2014-06-15 18:32:52.298549</td><td>256</td><td>200</td><td>POST</td><td>Interact2</td></tr><tr><td>2014-06-15 19:38:44.964363</td><td>256</td><td>200</td><td>POST</td><td>Interact2</td></tr><tr><td>2014-06-15 20:48:31.345635</td><td>256</td><td>200</td><td>POST</td><td>Interact2</td></tr><tr><td>2014-06-15 23:10:45.617531</td><td>256</td><td>200</td><td>POST</td><td>Interact2</td></tr><tr><td>2014-06-15 23:21:58.101823</td><td>256</td><td>200</td><td>POST</td><td>Interact2</td></tr><tr><td>2014-06-16 00:12:58.615643</td><td>256</td><td>200</td><td>POST</td><td>Interact2</td></tr><tr><td>2014-06-15 07:13:34.071411</td><td>257</td><td>200</td><td>POST</td><td>Interact2</td></tr><tr><td>2014-06-15 08:56:09.715447</td><td>257</td><td>200</td><td>POST</td><td>Interact2</td></tr></table></div>\n",
       "    <br />(rows: 10, time: 0.4s,    24MB processed, job: job_-Ht7wLd7QeS0Nesfg5VL3M3MBEUo)<br />\n",
       "    <script src=\"/static/components/requirejs/require.js\"></script>\n",
       "    <script>\n",
       "      require.config({\n",
       "        paths: {\n",
       "          base: '/static/base',\n",
       "          d3: '//cdnjs.cloudflare.com/ajax/libs/d3/3.4.13/d3',\n",
       "          plotly: 'https://cdn.plot.ly/plotly-1.5.1.min.js?noext',\n",
       "          jquery: '//ajax.googleapis.com/ajax/libs/jquery/2.0.0/jquery.min'\n",
       "        },\n",
       "        map: {\n",
       "          '*': {\n",
       "            datalab: 'nbextensions/gcpdatalab'\n",
       "          }\n",
       "        },\n",
       "        shim: {\n",
       "          plotly: {\n",
       "            deps: ['d3', 'jquery'],\n",
       "            exports: 'plotly'\n",
       "          }\n",
       "        }\n",
       "      });\n",
       "\n",
       "      require(['datalab/charting', 'datalab/element!3_154516394924', 'base/js/events',\n",
       "          'datalab/style!/nbextensions/gcpdatalab/charting.css'],\n",
       "        function(charts, dom, events) {\n",
       "          charts.render('gcharts', dom, events, 'table', [], {\"cols\": [{\"id\": \"timestamp\", \"label\": \"timestamp\", \"type\": \"timestamp\"}, {\"id\": \"latency\", \"label\": \"latency\", \"type\": \"number\"}, {\"id\": \"status\", \"label\": \"status\", \"type\": \"number\"}, {\"id\": \"method\", \"label\": \"method\", \"type\": \"string\"}, {\"id\": \"endpoint\", \"label\": \"endpoint\", \"type\": \"string\"}], \"rows\": [{\"c\": [{\"v\": \"2014-06-15T08:13:58.427707\"}, {\"v\": 256}, {\"v\": 200}, {\"v\": \"POST\"}, {\"v\": \"Interact2\"}]}, {\"c\": [{\"v\": \"2014-06-15T09:36:24.143390\"}, {\"v\": 256}, {\"v\": 200}, {\"v\": \"POST\"}, {\"v\": \"Interact2\"}]}, {\"c\": [{\"v\": \"2014-06-15T18:32:52.298549\"}, {\"v\": 256}, {\"v\": 200}, {\"v\": \"POST\"}, {\"v\": \"Interact2\"}]}, {\"c\": [{\"v\": \"2014-06-15T19:38:44.964363\"}, {\"v\": 256}, {\"v\": 200}, {\"v\": \"POST\"}, {\"v\": \"Interact2\"}]}, {\"c\": [{\"v\": \"2014-06-15T20:48:31.345635\"}, {\"v\": 256}, {\"v\": 200}, {\"v\": \"POST\"}, {\"v\": \"Interact2\"}]}, {\"c\": [{\"v\": \"2014-06-15T23:10:45.617531\"}, {\"v\": 256}, {\"v\": 200}, {\"v\": \"POST\"}, {\"v\": \"Interact2\"}]}, {\"c\": [{\"v\": \"2014-06-15T23:21:58.101823\"}, {\"v\": 256}, {\"v\": 200}, {\"v\": \"POST\"}, {\"v\": \"Interact2\"}]}, {\"c\": [{\"v\": \"2014-06-16T00:12:58.615643\"}, {\"v\": 256}, {\"v\": 200}, {\"v\": \"POST\"}, {\"v\": \"Interact2\"}]}, {\"c\": [{\"v\": \"2014-06-15T07:13:34.071411\"}, {\"v\": 257}, {\"v\": 200}, {\"v\": \"POST\"}, {\"v\": \"Interact2\"}]}, {\"c\": [{\"v\": \"2014-06-15T08:56:09.715447\"}, {\"v\": 257}, {\"v\": 200}, {\"v\": \"POST\"}, {\"v\": \"Interact2\"}]}]},\n",
       "            {\n",
       "              pageSize: 25,\n",
       "              cssClassNames:  {\n",
       "                tableRow: 'gchart-table-row',\n",
       "                headerRow: 'gchart-table-headerrow',\n",
       "                oddTableRow: 'gchart-table-oddrow',\n",
       "                selectedTableRow: 'gchart-table-selectedrow',\n",
       "                hoverTableRow: 'gchart-table-hoverrow',\n",
       "                tableCell: 'gchart-table-cell',\n",
       "                headerCell: 'gchart-table-headercell',\n",
       "                rowNumberCell: 'gchart-table-rownumcell'\n",
       "              }\n",
       "            },\n",
       "            {source_index: 2, fields: 'timestamp,latency,status,method,endpoint'},\n",
       "            0,\n",
       "            10);\n",
       "        }\n",
       "      );\n",
       "    </script>\n",
       "  "
      ],
      "text/plain": [
       "QueryResultsTable job_-Ht7wLd7QeS0Nesfg5VL3M3MBEUo"
      ]
     },
     "execution_count": 6,
     "metadata": {},
     "output_type": "execute_result"
    }
   ],
   "source": [
    "%%bq execute -q endpoint_stats\n",
    "parameters:\n",
    "- name: endpoint\n",
    "  type: STRING\n",
    "  value: Interact2"
   ]
  },
  {
   "cell_type": "markdown",
   "metadata": {},
   "source": [
    "This defined a SQL query with a string parameter named `endpoint`, which can be filled when executing the query. Let's give it some value in a separate cell:"
   ]
  },
  {
   "cell_type": "code",
   "execution_count": 7,
   "metadata": {},
   "outputs": [],
   "source": [
    "endpoint_val = 'Interact3'"
   ]
  },
  {
   "cell_type": "markdown",
   "metadata": {},
   "source": [
    "In order to reference the variable defined above, Google Cloud Datalab offers the `$var` syntax, which can be invoked in the magic command:"
   ]
  },
  {
   "cell_type": "code",
   "execution_count": 8,
   "metadata": {},
   "outputs": [
    {
     "data": {
      "text/html": [
       "\n",
       "    <div class=\"bqtv\" id=\"4_154516395244\"><table><tr><th>timestamp</th><th>latency</th><th>status</th><th>method</th><th>endpoint</th></tr><tr><td>2014-06-15 07:00:43.429957</td><td>256</td><td>200</td><td>GET</td><td>Interact3</td></tr><tr><td>2014-06-15 07:11:51.955861</td><td>256</td><td>200</td><td>GET</td><td>Interact3</td></tr><tr><td>2014-06-15 07:15:33.557944</td><td>256</td><td>200</td><td>GET</td><td>Interact3</td></tr><tr><td>2014-06-15 07:29:22.931989</td><td>256</td><td>200</td><td>GET</td><td>Interact3</td></tr><tr><td>2014-06-15 07:29:59.839051</td><td>256</td><td>200</td><td>GET</td><td>Interact3</td></tr><tr><td>2014-06-15 07:32:40.753827</td><td>256</td><td>200</td><td>GET</td><td>Interact3</td></tr><tr><td>2014-06-15 07:34:11.738413</td><td>256</td><td>200</td><td>GET</td><td>Interact3</td></tr><tr><td>2014-06-15 07:38:24.232697</td><td>256</td><td>200</td><td>GET</td><td>Interact3</td></tr><tr><td>2014-06-15 07:42:14.313880</td><td>256</td><td>200</td><td>GET</td><td>Interact3</td></tr><tr><td>2014-06-15 07:46:38.641068</td><td>256</td><td>200</td><td>GET</td><td>Interact3</td></tr></table></div>\n",
       "    <br />(rows: 10, time: 0.4s,    24MB processed, job: job_n9nAxxspkdANqplopTFTNfpGjOxj)<br />\n",
       "    <script src=\"/static/components/requirejs/require.js\"></script>\n",
       "    <script>\n",
       "      require.config({\n",
       "        paths: {\n",
       "          base: '/static/base',\n",
       "          d3: '//cdnjs.cloudflare.com/ajax/libs/d3/3.4.13/d3',\n",
       "          plotly: 'https://cdn.plot.ly/plotly-1.5.1.min.js?noext',\n",
       "          jquery: '//ajax.googleapis.com/ajax/libs/jquery/2.0.0/jquery.min'\n",
       "        },\n",
       "        map: {\n",
       "          '*': {\n",
       "            datalab: 'nbextensions/gcpdatalab'\n",
       "          }\n",
       "        },\n",
       "        shim: {\n",
       "          plotly: {\n",
       "            deps: ['d3', 'jquery'],\n",
       "            exports: 'plotly'\n",
       "          }\n",
       "        }\n",
       "      });\n",
       "\n",
       "      require(['datalab/charting', 'datalab/element!4_154516395244', 'base/js/events',\n",
       "          'datalab/style!/nbextensions/gcpdatalab/charting.css'],\n",
       "        function(charts, dom, events) {\n",
       "          charts.render('gcharts', dom, events, 'table', [], {\"cols\": [{\"id\": \"timestamp\", \"label\": \"timestamp\", \"type\": \"timestamp\"}, {\"id\": \"latency\", \"label\": \"latency\", \"type\": \"number\"}, {\"id\": \"status\", \"label\": \"status\", \"type\": \"number\"}, {\"id\": \"method\", \"label\": \"method\", \"type\": \"string\"}, {\"id\": \"endpoint\", \"label\": \"endpoint\", \"type\": \"string\"}], \"rows\": [{\"c\": [{\"v\": \"2014-06-15T07:00:43.429957\"}, {\"v\": 256}, {\"v\": 200}, {\"v\": \"GET\"}, {\"v\": \"Interact3\"}]}, {\"c\": [{\"v\": \"2014-06-15T07:11:51.955861\"}, {\"v\": 256}, {\"v\": 200}, {\"v\": \"GET\"}, {\"v\": \"Interact3\"}]}, {\"c\": [{\"v\": \"2014-06-15T07:15:33.557944\"}, {\"v\": 256}, {\"v\": 200}, {\"v\": \"GET\"}, {\"v\": \"Interact3\"}]}, {\"c\": [{\"v\": \"2014-06-15T07:29:22.931989\"}, {\"v\": 256}, {\"v\": 200}, {\"v\": \"GET\"}, {\"v\": \"Interact3\"}]}, {\"c\": [{\"v\": \"2014-06-15T07:29:59.839051\"}, {\"v\": 256}, {\"v\": 200}, {\"v\": \"GET\"}, {\"v\": \"Interact3\"}]}, {\"c\": [{\"v\": \"2014-06-15T07:32:40.753827\"}, {\"v\": 256}, {\"v\": 200}, {\"v\": \"GET\"}, {\"v\": \"Interact3\"}]}, {\"c\": [{\"v\": \"2014-06-15T07:34:11.738413\"}, {\"v\": 256}, {\"v\": 200}, {\"v\": \"GET\"}, {\"v\": \"Interact3\"}]}, {\"c\": [{\"v\": \"2014-06-15T07:38:24.232697\"}, {\"v\": 256}, {\"v\": 200}, {\"v\": \"GET\"}, {\"v\": \"Interact3\"}]}, {\"c\": [{\"v\": \"2014-06-15T07:42:14.313880\"}, {\"v\": 256}, {\"v\": 200}, {\"v\": \"GET\"}, {\"v\": \"Interact3\"}]}, {\"c\": [{\"v\": \"2014-06-15T07:46:38.641068\"}, {\"v\": 256}, {\"v\": 200}, {\"v\": \"GET\"}, {\"v\": \"Interact3\"}]}]},\n",
       "            {\n",
       "              pageSize: 25,\n",
       "              cssClassNames:  {\n",
       "                tableRow: 'gchart-table-row',\n",
       "                headerRow: 'gchart-table-headerrow',\n",
       "                oddTableRow: 'gchart-table-oddrow',\n",
       "                selectedTableRow: 'gchart-table-selectedrow',\n",
       "                hoverTableRow: 'gchart-table-hoverrow',\n",
       "                tableCell: 'gchart-table-cell',\n",
       "                headerCell: 'gchart-table-headercell',\n",
       "                rowNumberCell: 'gchart-table-rownumcell'\n",
       "              }\n",
       "            },\n",
       "            {source_index: 3, fields: 'timestamp,latency,status,method,endpoint'},\n",
       "            0,\n",
       "            10);\n",
       "        }\n",
       "      );\n",
       "    </script>\n",
       "  "
      ],
      "text/plain": [
       "QueryResultsTable job_n9nAxxspkdANqplopTFTNfpGjOxj"
      ]
     },
     "execution_count": 8,
     "metadata": {},
     "output_type": "execute_result"
    }
   ],
   "source": [
    "%%bq execute -q endpoint_stats\n",
    "parameters:\n",
    "- name: endpoint\n",
    "  type: STRING\n",
    "  value: $endpoint_val"
   ]
  },
  {
   "cell_type": "markdown",
   "metadata": {},
   "source": [
    "This can also be achieved using the Python API instead of the magic commands (`%%bq`). This is how we will create and execute a parameterized query using the API:"
   ]
  },
  {
   "cell_type": "code",
   "execution_count": 9,
   "metadata": {},
   "outputs": [
    {
     "data": {
      "text/html": [
       "\n",
       "    <div class=\"bqtv\" id=\"5_154516395561\"><table><tr><th>timestamp</th><th>latency</th><th>status</th><th>method</th><th>endpoint</th></tr><tr><td>2014-06-15 07:00:43.429957</td><td>256</td><td>200</td><td>GET</td><td>Interact3</td></tr><tr><td>2014-06-15 07:11:51.955861</td><td>256</td><td>200</td><td>GET</td><td>Interact3</td></tr><tr><td>2014-06-15 07:15:33.557944</td><td>256</td><td>200</td><td>GET</td><td>Interact3</td></tr><tr><td>2014-06-15 07:29:22.931989</td><td>256</td><td>200</td><td>GET</td><td>Interact3</td></tr><tr><td>2014-06-15 07:29:59.839051</td><td>256</td><td>200</td><td>GET</td><td>Interact3</td></tr><tr><td>2014-06-15 07:32:40.753827</td><td>256</td><td>200</td><td>GET</td><td>Interact3</td></tr><tr><td>2014-06-15 07:34:11.738413</td><td>256</td><td>200</td><td>GET</td><td>Interact3</td></tr><tr><td>2014-06-15 07:38:24.232697</td><td>256</td><td>200</td><td>GET</td><td>Interact3</td></tr><tr><td>2014-06-15 07:42:14.313880</td><td>256</td><td>200</td><td>GET</td><td>Interact3</td></tr><tr><td>2014-06-15 07:46:38.641068</td><td>256</td><td>200</td><td>GET</td><td>Interact3</td></tr></table></div>\n",
       "    <br />(rows: 10, time: 0.3s,    24MB processed, job: job_OLQt5SEoKyUU5wwy-xrT0RNJSXXq)<br />\n",
       "    <script src=\"/static/components/requirejs/require.js\"></script>\n",
       "    <script>\n",
       "      require.config({\n",
       "        paths: {\n",
       "          base: '/static/base',\n",
       "          d3: '//cdnjs.cloudflare.com/ajax/libs/d3/3.4.13/d3',\n",
       "          plotly: 'https://cdn.plot.ly/plotly-1.5.1.min.js?noext',\n",
       "          jquery: '//ajax.googleapis.com/ajax/libs/jquery/2.0.0/jquery.min'\n",
       "        },\n",
       "        map: {\n",
       "          '*': {\n",
       "            datalab: 'nbextensions/gcpdatalab'\n",
       "          }\n",
       "        },\n",
       "        shim: {\n",
       "          plotly: {\n",
       "            deps: ['d3', 'jquery'],\n",
       "            exports: 'plotly'\n",
       "          }\n",
       "        }\n",
       "      });\n",
       "\n",
       "      require(['datalab/charting', 'datalab/element!5_154516395561', 'base/js/events',\n",
       "          'datalab/style!/nbextensions/gcpdatalab/charting.css'],\n",
       "        function(charts, dom, events) {\n",
       "          charts.render('gcharts', dom, events, 'table', [], {\"cols\": [{\"id\": \"timestamp\", \"label\": \"timestamp\", \"type\": \"timestamp\"}, {\"id\": \"latency\", \"label\": \"latency\", \"type\": \"number\"}, {\"id\": \"status\", \"label\": \"status\", \"type\": \"number\"}, {\"id\": \"method\", \"label\": \"method\", \"type\": \"string\"}, {\"id\": \"endpoint\", \"label\": \"endpoint\", \"type\": \"string\"}], \"rows\": [{\"c\": [{\"v\": \"2014-06-15T07:00:43.429957\"}, {\"v\": 256}, {\"v\": 200}, {\"v\": \"GET\"}, {\"v\": \"Interact3\"}]}, {\"c\": [{\"v\": \"2014-06-15T07:11:51.955861\"}, {\"v\": 256}, {\"v\": 200}, {\"v\": \"GET\"}, {\"v\": \"Interact3\"}]}, {\"c\": [{\"v\": \"2014-06-15T07:15:33.557944\"}, {\"v\": 256}, {\"v\": 200}, {\"v\": \"GET\"}, {\"v\": \"Interact3\"}]}, {\"c\": [{\"v\": \"2014-06-15T07:29:22.931989\"}, {\"v\": 256}, {\"v\": 200}, {\"v\": \"GET\"}, {\"v\": \"Interact3\"}]}, {\"c\": [{\"v\": \"2014-06-15T07:29:59.839051\"}, {\"v\": 256}, {\"v\": 200}, {\"v\": \"GET\"}, {\"v\": \"Interact3\"}]}, {\"c\": [{\"v\": \"2014-06-15T07:32:40.753827\"}, {\"v\": 256}, {\"v\": 200}, {\"v\": \"GET\"}, {\"v\": \"Interact3\"}]}, {\"c\": [{\"v\": \"2014-06-15T07:34:11.738413\"}, {\"v\": 256}, {\"v\": 200}, {\"v\": \"GET\"}, {\"v\": \"Interact3\"}]}, {\"c\": [{\"v\": \"2014-06-15T07:38:24.232697\"}, {\"v\": 256}, {\"v\": 200}, {\"v\": \"GET\"}, {\"v\": \"Interact3\"}]}, {\"c\": [{\"v\": \"2014-06-15T07:42:14.313880\"}, {\"v\": 256}, {\"v\": 200}, {\"v\": \"GET\"}, {\"v\": \"Interact3\"}]}, {\"c\": [{\"v\": \"2014-06-15T07:46:38.641068\"}, {\"v\": 256}, {\"v\": 200}, {\"v\": \"GET\"}, {\"v\": \"Interact3\"}]}]},\n",
       "            {\n",
       "              pageSize: 25,\n",
       "              cssClassNames:  {\n",
       "                tableRow: 'gchart-table-row',\n",
       "                headerRow: 'gchart-table-headerrow',\n",
       "                oddTableRow: 'gchart-table-oddrow',\n",
       "                selectedTableRow: 'gchart-table-selectedrow',\n",
       "                hoverTableRow: 'gchart-table-hoverrow',\n",
       "                tableCell: 'gchart-table-cell',\n",
       "                headerCell: 'gchart-table-headercell',\n",
       "                rowNumberCell: 'gchart-table-rownumcell'\n",
       "              }\n",
       "            },\n",
       "            {source_index: 4, fields: 'timestamp,latency,status,method,endpoint'},\n",
       "            0,\n",
       "            10);\n",
       "        }\n",
       "      );\n",
       "    </script>\n",
       "  "
      ],
      "text/plain": [
       "QueryResultsTable job_OLQt5SEoKyUU5wwy-xrT0RNJSXXq"
      ]
     },
     "execution_count": 9,
     "metadata": {},
     "output_type": "execute_result"
    }
   ],
   "source": [
    "import google.datalab.bigquery as bq\n",
    "endpoint_stats2 = bq.Query(sql='''\n",
    "SELECT *\n",
    "FROM `cloud-datalab-samples.httplogs.logs_20140615`\n",
    "WHERE endpoint = @endpoint\n",
    "LIMIT 10\n",
    "''')\n",
    "\n",
    "endpoint_value = 'Interact3'\n",
    "\n",
    "query_parameters = [\n",
    "  {\n",
    "    'name': 'endpoint',\n",
    "    'parameterType': {'type': 'STRING'},\n",
    "    'parameterValue': {'value': endpoint_value}\n",
    "  }\n",
    "]\n",
    "\n",
    "job = endpoint_stats2.execute(query_params=query_parameters)\n",
    "\n",
    "job.result()"
   ]
  },
  {
   "cell_type": "markdown",
   "metadata": {},
   "source": [
    "# Looking Ahead\n",
    "\n",
    "Parameterization enables one part of the SQL and Python integration: being able to use values in Python code in the notebook, and passing them in as part of the query when retrieving data from BigQuery.\n",
    "\n",
    "The next notebook will cover the other part of the SQL and Python integration: retrieving query results into the notebook for use with Python code."
   ]
  }
 ],
 "metadata": {
  "kernelspec": {
   "display_name": "datalab-notebooks",
   "language": "python",
   "name": "datalab-notebooks"
  },
  "language_info": {
   "codemirror_mode": {
    "name": "ipython",
    "version": 3
   },
   "file_extension": ".py",
   "mimetype": "text/x-python",
   "name": "python",
   "nbconvert_exporter": "python",
   "pygments_lexer": "ipython3",
   "version": "3.6.4"
  }
 },
 "nbformat": 4,
 "nbformat_minor": 1
}
