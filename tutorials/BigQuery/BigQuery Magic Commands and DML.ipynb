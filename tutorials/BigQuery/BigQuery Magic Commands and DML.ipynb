{
 "cells": [
  {
   "cell_type": "markdown",
   "metadata": {},
   "source": [
    "# BigQuery Magic Commands and DML\n",
    "\n",
    "The examples in this notebook introduce features of [BigQuery Standard SQL](https://cloud.google.com/bigquery/sql-reference/) and [BigQuery SQL Data Manipulation Language (beta)](https://cloud.google.com/bigquery/sql-reference/dml-syntax). BigQuery Standard SQL is compliant with the SQL 2011 standard. You've already seen the use of the magic command `%%bq` in the [Hello BigQuery](./Hello BigQuery.ipynb) and [BigQuery Commands](./BigQuery Commands.ipynb) notebooks. This command and others in the Google Cloud Datalab API support BigQuery Standard SQL."
   ]
  },
  {
   "cell_type": "markdown",
   "metadata": {},
   "source": [
    "## Using the BigQuery Magic command with Standard SQL\n",
    "\n",
    "First, we will cover some more uses of the `%%bq` magic command. Let's define a query to work with:"
   ]
  },
  {
   "cell_type": "code",
   "execution_count": 3,
   "metadata": {},
   "outputs": [],
   "source": [
    "%load_ext google.datalab.kernel"
   ]
  },
  {
   "cell_type": "code",
   "execution_count": 4,
   "metadata": {},
   "outputs": [],
   "source": [
    "%%bq query --name UniqueNames2013\n",
    "WITH UniqueNames2013 AS\n",
    "(SELECT DISTINCT name\n",
    "  FROM `bigquery-public-data.usa_names.usa_1910_2013`\n",
    "  WHERE Year = 2013)\n",
    "SELECT * FROM UniqueNames2013"
   ]
  },
  {
   "cell_type": "markdown",
   "metadata": {},
   "source": [
    "Now let's list all available commands to work with `%%bq`"
   ]
  },
  {
   "cell_type": "code",
   "execution_count": 5,
   "metadata": {},
   "outputs": [
    {
     "name": "stdout",
     "output_type": "stream",
     "text": [
      "usage: %bq [-h]\n",
      "           {datasets,tables,query,execute,extract,sample,dryrun,udf,datasource,load,pipeline}\n",
      "           ...\n",
      "\n",
      "Execute various BigQuery-related operations. Use \"%bq <command> -h\" for help\n",
      "on a specific command.\n",
      "\n",
      "positional arguments:\n",
      "  {datasets,tables,query,execute,extract,sample,dryrun,udf,datasource,load,pipeline}\n",
      "                        commands\n",
      "    datasets            Operations on BigQuery datasets\n",
      "    tables              Operations on BigQuery tables\n",
      "    query               Create or execute a BigQuery SQL query object,\n",
      "                        optionally using other SQL objects, UDFs, or external\n",
      "                        datasources. If a query name is not specified, the\n",
      "                        query is executed.\n",
      "    execute             Execute a BigQuery SQL query and optionally send the\n",
      "                        results to a named table. The cell can optionally\n",
      "                        contain arguments for expanding variables in the\n",
      "                        query.\n",
      "    extract             Extract a query or table into file (local or GCS)\n",
      "    sample              Display a sample of the results of a BigQuery SQL\n",
      "                        query. The cell can optionally contain arguments for\n",
      "                        expanding variables in the query, if -q/--query was\n",
      "                        used, or it can contain SQL for a query.\n",
      "    dryrun              Execute a dry run of a BigQuery query and display\n",
      "                        approximate usage statistics\n",
      "    udf                 Create a named Javascript BigQuery UDF\n",
      "    datasource          Create a named Javascript BigQuery external data\n",
      "                        source\n",
      "    load                Load data from GCS into a BigQuery table. If creating\n",
      "                        a new table, a schema should be specified in YAML or\n",
      "                        JSON in the cell body, otherwise the schema is\n",
      "                        inferred from existing table.\n",
      "    pipeline            Creates a GCS/BigQuery ETL pipeline. The cell-body is\n",
      "                        specified as follows: input: table | path: <BQ table\n",
      "                        name or GCS path; both if path->table load is also\n",
      "                        required> schema: <For syntax, refer '%bq execute'>\n",
      "                        format: {csv (default) | json} csv: <This section is\n",
      "                        relevant only when 'format' is 'csv'> delimiter: <The\n",
      "                        field delimiter to use; default is ','> skip: <Number\n",
      "                        of rows at the top of a CSV file to skip; default is\n",
      "                        0> strict: <{True | False (default)}; whether to\n",
      "                        accept rows with missing trailing (or optional)\n",
      "                        columns> quote: <Value used to quote data sections;\n",
      "                        default is '\"'> mode: <{append (default) | overwrite};\n",
      "                        applicable if path->table load> transformation:\n",
      "                        <optional; when absent, a direct conversion is done\n",
      "                        from input (path|table) to output (table|path)> query:\n",
      "                        <name of BQ query defined via \"%bq query --name ...\">\n",
      "                        output: table | path: <BQ table name or GCS path; both\n",
      "                        if table->path extract is required> mode: <{append |\n",
      "                        overwrite | create (default)}; applicable only when\n",
      "                        table is specified. format: <{csv (default) | json}>\n",
      "                        csv: <This section is relevant only when 'format' is\n",
      "                        'csv'> delimiter: <the field delimiter to use.\n",
      "                        Defaults to ','> header: <{True (default) | False};\n",
      "                        Whether to include an initial header line> compress:\n",
      "                        <{True | False (default) }; Whether to compress the\n",
      "                        data on export> schedule: start: <formatted as\n",
      "                        '%Y-%m-%dT%H:%M:%S'; default is 'now'> end: <formatted\n",
      "                        as '%Y-%m-%dT%H:%M:%S'; default is 'forever'>\n",
      "                        interval: <{@once (default) | @hourly | @daily |\n",
      "                        @weekly | @ monthly | @yearly | <cron ex>}> catchup:\n",
      "                        <{True | False (default)}; when True, backfill is\n",
      "                        performed for start and end times. retries: Number of\n",
      "                        attempts to run the pipeline; default is 0\n",
      "                        retry_delay_seconds: Number of seconds to wait before\n",
      "                        retrying the task emails: <comma separated list of\n",
      "                        emails to notify in case of retries, failures, etc.>\n",
      "                        parameters: <For syntax, refer '%bq execute'>\n",
      "\n",
      "optional arguments:\n",
      "  -h, --help            show this help message and exit\n"
     ]
    }
   ],
   "source": [
    "%%bq -h"
   ]
  },
  {
   "cell_type": "markdown",
   "metadata": {},
   "source": [
    "The `dryrun` argument in ``%%bq`` can be helpful to confirm the syntax of the SQL query. Instead of executing the query, it will only return some statistics:"
   ]
  },
  {
   "cell_type": "code",
   "execution_count": 6,
   "metadata": {},
   "outputs": [
    {
     "data": {
      "text/html": [
       "\n",
       "    <p>Dry run information:    88MB to process, results not cached</p>\n",
       "    "
      ],
      "text/plain": [
       "<google.datalab.bigquery._query_stats.QueryStats at 0x1149ed828>"
      ]
     },
     "execution_count": 6,
     "metadata": {},
     "output_type": "execute_result"
    }
   ],
   "source": [
    "%%bq dryrun -q UniqueNames2013"
   ]
  },
  {
   "cell_type": "markdown",
   "metadata": {},
   "source": [
    "Now, let's get a small sample of the results using the `sample` argument in ``%%bq``:"
   ]
  },
  {
   "cell_type": "code",
   "execution_count": 7,
   "metadata": {},
   "outputs": [
    {
     "data": {
      "text/html": [
       "\n",
       "    <div class=\"bqtv\" id=\"1_154516383359\"><table><tr><th>name</th></tr><tr><td>Emily</td></tr><tr><td>Amelia</td></tr><tr><td>Victoria</td></tr><tr><td>Jade</td></tr><tr><td>Anna</td></tr><tr><td>Alyssa</td></tr><tr><td>Mckinley</td></tr><tr><td>Athena</td></tr><tr><td>Emery</td></tr><tr><td>Jordyn</td></tr></table></div>\n",
       "    <br />(rows: 10, time: 1.4s,    88MB processed, job: job_wgyyH2H8oaCuQXhk7gUAZHwzfLad)<br />\n",
       "    <script src=\"/static/components/requirejs/require.js\"></script>\n",
       "    <script>\n",
       "      require.config({\n",
       "        paths: {\n",
       "          base: '/static/base',\n",
       "          d3: '//cdnjs.cloudflare.com/ajax/libs/d3/3.4.13/d3',\n",
       "          plotly: 'https://cdn.plot.ly/plotly-1.5.1.min.js?noext',\n",
       "          jquery: '//ajax.googleapis.com/ajax/libs/jquery/2.0.0/jquery.min'\n",
       "        },\n",
       "        map: {\n",
       "          '*': {\n",
       "            datalab: 'nbextensions/gcpdatalab'\n",
       "          }\n",
       "        },\n",
       "        shim: {\n",
       "          plotly: {\n",
       "            deps: ['d3', 'jquery'],\n",
       "            exports: 'plotly'\n",
       "          }\n",
       "        }\n",
       "      });\n",
       "\n",
       "      require(['datalab/charting', 'datalab/element!1_154516383359', 'base/js/events',\n",
       "          'datalab/style!/nbextensions/gcpdatalab/charting.css'],\n",
       "        function(charts, dom, events) {\n",
       "          charts.render('gcharts', dom, events, 'table', [], {\"cols\": [{\"id\": \"name\", \"label\": \"name\", \"type\": \"string\"}], \"rows\": [{\"c\": [{\"v\": \"Emily\"}]}, {\"c\": [{\"v\": \"Amelia\"}]}, {\"c\": [{\"v\": \"Victoria\"}]}, {\"c\": [{\"v\": \"Jade\"}]}, {\"c\": [{\"v\": \"Anna\"}]}, {\"c\": [{\"v\": \"Alyssa\"}]}, {\"c\": [{\"v\": \"Mckinley\"}]}, {\"c\": [{\"v\": \"Athena\"}]}, {\"c\": [{\"v\": \"Emery\"}]}, {\"c\": [{\"v\": \"Jordyn\"}]}]},\n",
       "            {\n",
       "              pageSize: 25,\n",
       "              cssClassNames:  {\n",
       "                tableRow: 'gchart-table-row',\n",
       "                headerRow: 'gchart-table-headerrow',\n",
       "                oddTableRow: 'gchart-table-oddrow',\n",
       "                selectedTableRow: 'gchart-table-selectedrow',\n",
       "                hoverTableRow: 'gchart-table-hoverrow',\n",
       "                tableCell: 'gchart-table-cell',\n",
       "                headerCell: 'gchart-table-headercell',\n",
       "                rowNumberCell: 'gchart-table-rownumcell'\n",
       "              }\n",
       "            },\n",
       "            {source_index: 0, fields: 'name'},\n",
       "            0,\n",
       "            10);\n",
       "        }\n",
       "      );\n",
       "    </script>\n",
       "  "
      ],
      "text/plain": [
       "QueryResultsTable job_wgyyH2H8oaCuQXhk7gUAZHwzfLad"
      ]
     },
     "execution_count": 7,
     "metadata": {},
     "output_type": "execute_result"
    }
   ],
   "source": [
    "%%bq sample -q UniqueNames2013"
   ]
  },
  {
   "cell_type": "markdown",
   "metadata": {},
   "source": [
    "Finally, We can use the `execute` command in %%bq to display the results of our query:"
   ]
  },
  {
   "cell_type": "code",
   "execution_count": 8,
   "metadata": {},
   "outputs": [
    {
     "data": {
      "text/html": [
       "\n",
       "    <div class=\"bqtv\" id=\"2_154516383739\"><table><tr><th>name</th></tr><tr><td>Emily</td></tr><tr><td>Amelia</td></tr><tr><td>Victoria</td></tr><tr><td>Jade</td></tr><tr><td>Anna</td></tr><tr><td>Alyssa</td></tr><tr><td>Mckinley</td></tr><tr><td>Athena</td></tr><tr><td>Emery</td></tr><tr><td>Jordyn</td></tr><tr><td>Riley</td></tr><tr><td>Isla</td></tr><tr><td>Sydney</td></tr><tr><td>Josephine</td></tr><tr><td>Kenzie</td></tr><tr><td>Lucia</td></tr><tr><td>Teagan</td></tr><tr><td>Isabella</td></tr><tr><td>Madison</td></tr><tr><td>Gabriella</td></tr><tr><td>Alice</td></tr><tr><td>Sarah</td></tr><tr><td>Kylie</td></tr><tr><td>Isabel</td></tr><tr><td>Khloe</td></tr></table></div>\n",
       "    <br />(rows: 9510, time: 1.0s,    88MB processed, job: job_12AUUGkq53LtWipiN45zSOzW7sP6)<br />\n",
       "    <script src=\"/static/components/requirejs/require.js\"></script>\n",
       "    <script>\n",
       "      require.config({\n",
       "        paths: {\n",
       "          base: '/static/base',\n",
       "          d3: '//cdnjs.cloudflare.com/ajax/libs/d3/3.4.13/d3',\n",
       "          plotly: 'https://cdn.plot.ly/plotly-1.5.1.min.js?noext',\n",
       "          jquery: '//ajax.googleapis.com/ajax/libs/jquery/2.0.0/jquery.min'\n",
       "        },\n",
       "        map: {\n",
       "          '*': {\n",
       "            datalab: 'nbextensions/gcpdatalab'\n",
       "          }\n",
       "        },\n",
       "        shim: {\n",
       "          plotly: {\n",
       "            deps: ['d3', 'jquery'],\n",
       "            exports: 'plotly'\n",
       "          }\n",
       "        }\n",
       "      });\n",
       "\n",
       "      require(['datalab/charting', 'datalab/element!2_154516383739', 'base/js/events',\n",
       "          'datalab/style!/nbextensions/gcpdatalab/charting.css'],\n",
       "        function(charts, dom, events) {\n",
       "          charts.render('gcharts', dom, events, 'paged_table', [], {\"cols\": [{\"id\": \"name\", \"label\": \"name\", \"type\": \"string\"}], \"rows\": [{\"c\": [{\"v\": \"Emily\"}]}, {\"c\": [{\"v\": \"Amelia\"}]}, {\"c\": [{\"v\": \"Victoria\"}]}, {\"c\": [{\"v\": \"Jade\"}]}, {\"c\": [{\"v\": \"Anna\"}]}, {\"c\": [{\"v\": \"Alyssa\"}]}, {\"c\": [{\"v\": \"Mckinley\"}]}, {\"c\": [{\"v\": \"Athena\"}]}, {\"c\": [{\"v\": \"Emery\"}]}, {\"c\": [{\"v\": \"Jordyn\"}]}, {\"c\": [{\"v\": \"Riley\"}]}, {\"c\": [{\"v\": \"Isla\"}]}, {\"c\": [{\"v\": \"Sydney\"}]}, {\"c\": [{\"v\": \"Josephine\"}]}, {\"c\": [{\"v\": \"Kenzie\"}]}, {\"c\": [{\"v\": \"Lucia\"}]}, {\"c\": [{\"v\": \"Teagan\"}]}, {\"c\": [{\"v\": \"Isabella\"}]}, {\"c\": [{\"v\": \"Madison\"}]}, {\"c\": [{\"v\": \"Gabriella\"}]}, {\"c\": [{\"v\": \"Alice\"}]}, {\"c\": [{\"v\": \"Sarah\"}]}, {\"c\": [{\"v\": \"Kylie\"}]}, {\"c\": [{\"v\": \"Isabel\"}]}, {\"c\": [{\"v\": \"Khloe\"}]}]},\n",
       "            {\n",
       "              pageSize: 25,\n",
       "              cssClassNames:  {\n",
       "                tableRow: 'gchart-table-row',\n",
       "                headerRow: 'gchart-table-headerrow',\n",
       "                oddTableRow: 'gchart-table-oddrow',\n",
       "                selectedTableRow: 'gchart-table-selectedrow',\n",
       "                hoverTableRow: 'gchart-table-hoverrow',\n",
       "                tableCell: 'gchart-table-cell',\n",
       "                headerCell: 'gchart-table-headercell',\n",
       "                rowNumberCell: 'gchart-table-rownumcell'\n",
       "              }\n",
       "            },\n",
       "            {source_index: 1, fields: 'name'},\n",
       "            0,\n",
       "            9510);\n",
       "        }\n",
       "      );\n",
       "    </script>\n",
       "  "
      ],
      "text/plain": [
       "QueryResultsTable job_12AUUGkq53LtWipiN45zSOzW7sP6"
      ]
     },
     "execution_count": 8,
     "metadata": {},
     "output_type": "execute_result"
    }
   ],
   "source": [
    "%%bq execute -q UniqueNames2013"
   ]
  },
  {
   "cell_type": "markdown",
   "metadata": {},
   "source": [
    "# Using Google BigQuery SQL Data Manipulation Language\n",
    "\n",
    "Below, we will demonstrate how to use Google BigQuery SQL Data Manipulation Language (DML) in Datalab."
   ]
  },
  {
   "cell_type": "markdown",
   "metadata": {},
   "source": [
    "## Preparation\n",
    "\n",
    "First, let's import the BigQuery module, and create a sample dataset and table to help demonstrate the features of Google BigQuery DML."
   ]
  },
  {
   "cell_type": "code",
   "execution_count": 9,
   "metadata": {},
   "outputs": [],
   "source": [
    "import google.datalab.bigquery as bq"
   ]
  },
  {
   "cell_type": "code",
   "execution_count": 10,
   "metadata": {},
   "outputs": [],
   "source": [
    "# Create a new dataset (this will be deleted later in the notebook)\n",
    "sample_dataset = bq.Dataset('sampleDML')\n",
    "if not sample_dataset.exists():\n",
    "  sample_dataset.create(friendly_name = 'Sample Dataset for testing DML', description = 'Created from Sample Notebook in Google Cloud Datalab')\n",
    "  sample_dataset.exists()"
   ]
  },
  {
   "cell_type": "code",
   "execution_count": 11,
   "metadata": {},
   "outputs": [],
   "source": [
    "# To create a table, we need to create a schema for it.\n",
    "# Its easiest to create a schema from some existing data, so this\n",
    "# example demonstrates using an example object\n",
    "fruit_row = {\n",
    "  'name': 'string value',\n",
    "  'count': 0\n",
    "}\n",
    "\n",
    "sample_table1 = bq.Table(\"sampleDML.fruit_basket\").create(schema = bq.Schema.from_data([fruit_row]), \n",
    "                                                          overwrite = True)"
   ]
  },
  {
   "cell_type": "markdown",
   "metadata": {},
   "source": [
    "## Inserting Data\n",
    "\n",
    "We can add rows to our newly created `fruit_basket` table by using an `INSERT` statement in our BigQuery Standard SQL query."
   ]
  },
  {
   "cell_type": "code",
   "execution_count": 12,
   "metadata": {},
   "outputs": [
    {
     "data": {
      "text/html": [
       "\n",
       "    <div class=\"bqtv\" id=\"3_154516384687\"><table><tr><th>name</th><th>count</th></tr><tr><td>apple</td><td>15</td></tr><tr><td>mango</td><td>20</td></tr><tr><td>orange</td><td>10</td></tr><tr><td>banana</td><td>5</td></tr></table></div>\n",
       "    <br />(rows: 4, time: 1.4s,     0B processed, job: job_Gtk1FCrM5mk8vjZ4-vuSCBvJmXul)<br />\n",
       "    <script src=\"/static/components/requirejs/require.js\"></script>\n",
       "    <script>\n",
       "      require.config({\n",
       "        paths: {\n",
       "          base: '/static/base',\n",
       "          d3: '//cdnjs.cloudflare.com/ajax/libs/d3/3.4.13/d3',\n",
       "          plotly: 'https://cdn.plot.ly/plotly-1.5.1.min.js?noext',\n",
       "          jquery: '//ajax.googleapis.com/ajax/libs/jquery/2.0.0/jquery.min'\n",
       "        },\n",
       "        map: {\n",
       "          '*': {\n",
       "            datalab: 'nbextensions/gcpdatalab'\n",
       "          }\n",
       "        },\n",
       "        shim: {\n",
       "          plotly: {\n",
       "            deps: ['d3', 'jquery'],\n",
       "            exports: 'plotly'\n",
       "          }\n",
       "        }\n",
       "      });\n",
       "\n",
       "      require(['datalab/charting', 'datalab/element!3_154516384687', 'base/js/events',\n",
       "          'datalab/style!/nbextensions/gcpdatalab/charting.css'],\n",
       "        function(charts, dom, events) {\n",
       "          charts.render('gcharts', dom, events, 'table', [], {\"cols\": [{\"id\": \"name\", \"label\": \"name\", \"type\": \"string\"}, {\"id\": \"count\", \"label\": \"count\", \"type\": \"number\"}], \"rows\": [{\"c\": [{\"v\": \"apple\"}, {\"v\": 15}]}, {\"c\": [{\"v\": \"mango\"}, {\"v\": 20}]}, {\"c\": [{\"v\": \"orange\"}, {\"v\": 10}]}, {\"c\": [{\"v\": \"banana\"}, {\"v\": 5}]}]},\n",
       "            {\n",
       "              pageSize: 25,\n",
       "              cssClassNames:  {\n",
       "                tableRow: 'gchart-table-row',\n",
       "                headerRow: 'gchart-table-headerrow',\n",
       "                oddTableRow: 'gchart-table-oddrow',\n",
       "                selectedTableRow: 'gchart-table-selectedrow',\n",
       "                hoverTableRow: 'gchart-table-hoverrow',\n",
       "                tableCell: 'gchart-table-cell',\n",
       "                headerCell: 'gchart-table-headercell',\n",
       "                rowNumberCell: 'gchart-table-rownumcell'\n",
       "              }\n",
       "            },\n",
       "            {source_index: 2, fields: 'name,count'},\n",
       "            0,\n",
       "            4);\n",
       "        }\n",
       "      );\n",
       "    </script>\n",
       "  "
      ],
      "text/plain": [
       "QueryResultsTable job_Gtk1FCrM5mk8vjZ4-vuSCBvJmXul"
      ]
     },
     "execution_count": 12,
     "metadata": {},
     "output_type": "execute_result"
    }
   ],
   "source": [
    "%%bq query\n",
    "INSERT sampleDML.fruit_basket (name, count)\n",
    "VALUES('banana', 5),\n",
    "      ('orange', 10),\n",
    "      ('apple', 15),\n",
    "      ('mango', 20)"
   ]
  },
  {
   "cell_type": "markdown",
   "metadata": {},
   "source": [
    "You may rewrite the previous query as:"
   ]
  },
  {
   "cell_type": "code",
   "execution_count": 13,
   "metadata": {},
   "outputs": [
    {
     "data": {
      "text/html": [
       "\n",
       "    <div class=\"bqtv\" id=\"4_154516385208\"><table><tr><th>name</th><th>count</th></tr><tr><td>apple</td><td>15</td></tr><tr><td>mango</td><td>20</td></tr><tr><td>orange</td><td>10</td></tr><tr><td>banana</td><td>5</td></tr><tr><td>watermelon</td><td>30</td></tr><tr><td>peach</td><td>25</td></tr></table></div>\n",
       "    <br />(rows: 6, time: 2.1s,     0B processed, job: job_BqJCWHm0Gzx8RKOANKGqhVToknZJ)<br />\n",
       "    <script src=\"/static/components/requirejs/require.js\"></script>\n",
       "    <script>\n",
       "      require.config({\n",
       "        paths: {\n",
       "          base: '/static/base',\n",
       "          d3: '//cdnjs.cloudflare.com/ajax/libs/d3/3.4.13/d3',\n",
       "          plotly: 'https://cdn.plot.ly/plotly-1.5.1.min.js?noext',\n",
       "          jquery: '//ajax.googleapis.com/ajax/libs/jquery/2.0.0/jquery.min'\n",
       "        },\n",
       "        map: {\n",
       "          '*': {\n",
       "            datalab: 'nbextensions/gcpdatalab'\n",
       "          }\n",
       "        },\n",
       "        shim: {\n",
       "          plotly: {\n",
       "            deps: ['d3', 'jquery'],\n",
       "            exports: 'plotly'\n",
       "          }\n",
       "        }\n",
       "      });\n",
       "\n",
       "      require(['datalab/charting', 'datalab/element!4_154516385208', 'base/js/events',\n",
       "          'datalab/style!/nbextensions/gcpdatalab/charting.css'],\n",
       "        function(charts, dom, events) {\n",
       "          charts.render('gcharts', dom, events, 'table', [], {\"cols\": [{\"id\": \"name\", \"label\": \"name\", \"type\": \"string\"}, {\"id\": \"count\", \"label\": \"count\", \"type\": \"number\"}], \"rows\": [{\"c\": [{\"v\": \"apple\"}, {\"v\": 15}]}, {\"c\": [{\"v\": \"mango\"}, {\"v\": 20}]}, {\"c\": [{\"v\": \"orange\"}, {\"v\": 10}]}, {\"c\": [{\"v\": \"banana\"}, {\"v\": 5}]}, {\"c\": [{\"v\": \"watermelon\"}, {\"v\": 30}]}, {\"c\": [{\"v\": \"peach\"}, {\"v\": 25}]}]},\n",
       "            {\n",
       "              pageSize: 25,\n",
       "              cssClassNames:  {\n",
       "                tableRow: 'gchart-table-row',\n",
       "                headerRow: 'gchart-table-headerrow',\n",
       "                oddTableRow: 'gchart-table-oddrow',\n",
       "                selectedTableRow: 'gchart-table-selectedrow',\n",
       "                hoverTableRow: 'gchart-table-hoverrow',\n",
       "                tableCell: 'gchart-table-cell',\n",
       "                headerCell: 'gchart-table-headercell',\n",
       "                rowNumberCell: 'gchart-table-rownumcell'\n",
       "              }\n",
       "            },\n",
       "            {source_index: 2, fields: 'name,count'},\n",
       "            0,\n",
       "            6);\n",
       "        }\n",
       "      );\n",
       "    </script>\n",
       "  "
      ],
      "text/plain": [
       "QueryResultsTable job_BqJCWHm0Gzx8RKOANKGqhVToknZJ"
      ]
     },
     "execution_count": 13,
     "metadata": {},
     "output_type": "execute_result"
    }
   ],
   "source": [
    "%%bq query\n",
    "INSERT sampleDML.fruit_basket (name, count)\n",
    "SELECT * \n",
    "FROM UNNEST([('peach', 25), ('watermelon', 30)])"
   ]
  },
  {
   "cell_type": "markdown",
   "metadata": {},
   "source": [
    "You can also use a `WITH` clause with `INSERT` and `SELECT`."
   ]
  },
  {
   "cell_type": "code",
   "execution_count": 14,
   "metadata": {},
   "outputs": [
    {
     "data": {
      "text/html": [
       "\n",
       "    <div class=\"bqtv\" id=\"5_154516385659\"><table><tr><th>name</th><th>count</th></tr><tr><td>apple</td><td>15</td></tr><tr><td>mango</td><td>20</td></tr><tr><td>orange</td><td>10</td></tr><tr><td>banana</td><td>5</td></tr><tr><td>watermelon</td><td>30</td></tr><tr><td>peach</td><td>25</td></tr><tr><td>cherry</td><td>35</td></tr><tr><td>cranberry</td><td>40</td></tr><tr><td>pear</td><td>45</td></tr></table></div>\n",
       "    <br />(rows: 9, time: 1.4s,     0B processed, job: job_mcxrN4Dd2Kb4Z5KlSZqR4GjWukRN)<br />\n",
       "    <script src=\"/static/components/requirejs/require.js\"></script>\n",
       "    <script>\n",
       "      require.config({\n",
       "        paths: {\n",
       "          base: '/static/base',\n",
       "          d3: '//cdnjs.cloudflare.com/ajax/libs/d3/3.4.13/d3',\n",
       "          plotly: 'https://cdn.plot.ly/plotly-1.5.1.min.js?noext',\n",
       "          jquery: '//ajax.googleapis.com/ajax/libs/jquery/2.0.0/jquery.min'\n",
       "        },\n",
       "        map: {\n",
       "          '*': {\n",
       "            datalab: 'nbextensions/gcpdatalab'\n",
       "          }\n",
       "        },\n",
       "        shim: {\n",
       "          plotly: {\n",
       "            deps: ['d3', 'jquery'],\n",
       "            exports: 'plotly'\n",
       "          }\n",
       "        }\n",
       "      });\n",
       "\n",
       "      require(['datalab/charting', 'datalab/element!5_154516385659', 'base/js/events',\n",
       "          'datalab/style!/nbextensions/gcpdatalab/charting.css'],\n",
       "        function(charts, dom, events) {\n",
       "          charts.render('gcharts', dom, events, 'table', [], {\"cols\": [{\"id\": \"name\", \"label\": \"name\", \"type\": \"string\"}, {\"id\": \"count\", \"label\": \"count\", \"type\": \"number\"}], \"rows\": [{\"c\": [{\"v\": \"apple\"}, {\"v\": 15}]}, {\"c\": [{\"v\": \"mango\"}, {\"v\": 20}]}, {\"c\": [{\"v\": \"orange\"}, {\"v\": 10}]}, {\"c\": [{\"v\": \"banana\"}, {\"v\": 5}]}, {\"c\": [{\"v\": \"watermelon\"}, {\"v\": 30}]}, {\"c\": [{\"v\": \"peach\"}, {\"v\": 25}]}, {\"c\": [{\"v\": \"cherry\"}, {\"v\": 35}]}, {\"c\": [{\"v\": \"cranberry\"}, {\"v\": 40}]}, {\"c\": [{\"v\": \"pear\"}, {\"v\": 45}]}]},\n",
       "            {\n",
       "              pageSize: 25,\n",
       "              cssClassNames:  {\n",
       "                tableRow: 'gchart-table-row',\n",
       "                headerRow: 'gchart-table-headerrow',\n",
       "                oddTableRow: 'gchart-table-oddrow',\n",
       "                selectedTableRow: 'gchart-table-selectedrow',\n",
       "                hoverTableRow: 'gchart-table-hoverrow',\n",
       "                tableCell: 'gchart-table-cell',\n",
       "                headerCell: 'gchart-table-headercell',\n",
       "                rowNumberCell: 'gchart-table-rownumcell'\n",
       "              }\n",
       "            },\n",
       "            {source_index: 2, fields: 'name,count'},\n",
       "            0,\n",
       "            9);\n",
       "        }\n",
       "      );\n",
       "    </script>\n",
       "  "
      ],
      "text/plain": [
       "QueryResultsTable job_mcxrN4Dd2Kb4Z5KlSZqR4GjWukRN"
      ]
     },
     "execution_count": 14,
     "metadata": {},
     "output_type": "execute_result"
    }
   ],
   "source": [
    "%%bq query\n",
    "INSERT sampleDML.fruit_basket(name, count)\n",
    "WITH w AS (\n",
    "  SELECT ARRAY<STRUCT<name string, count int64>>\n",
    "      [('cherry', 35),\n",
    "      ('cranberry', 40),\n",
    "      ('pear', 45)] col\n",
    ")\n",
    "SELECT name, count FROM w, UNNEST(w.col)"
   ]
  },
  {
   "cell_type": "markdown",
   "metadata": {},
   "source": [
    "Here is an example that copies one table's contents into another. First we will create a new table."
   ]
  },
  {
   "cell_type": "code",
   "execution_count": 15,
   "metadata": {},
   "outputs": [],
   "source": [
    "fruit_row_detailed = {\n",
    "  'name': 'string value',\n",
    "  'count': 0,\n",
    "  'readytoeat': False\n",
    "}\n",
    "sample_table2 = bq.Table(\"sampleDML.fruit_basket_detailed\").create(schema = bq.Schema.from_data([fruit_row_detailed]), \n",
    "                                                                   overwrite = True)"
   ]
  },
  {
   "cell_type": "code",
   "execution_count": 16,
   "metadata": {},
   "outputs": [
    {
     "data": {
      "text/html": [
       "\n",
       "    <div class=\"bqtv\" id=\"6_154516386437\"><table><tr><th>name</th><th>count</th><th>readytoeat</th></tr><tr><td>cherry</td><td>35</td><td>False</td></tr><tr><td>apple</td><td>15</td><td>False</td></tr><tr><td>peach</td><td>25</td><td>False</td></tr><tr><td>watermelon</td><td>30</td><td>False</td></tr><tr><td>mango</td><td>20</td><td>False</td></tr><tr><td>orange</td><td>10</td><td>False</td></tr><tr><td>banana</td><td>5</td><td>False</td></tr><tr><td>pear</td><td>45</td><td>False</td></tr><tr><td>cranberry</td><td>40</td><td>False</td></tr></table></div>\n",
       "    <br />(rows: 9, time: 2.7s,   146B processed, job: job_6-VQdMOxWDsCrKowPv242a4ajmzx)<br />\n",
       "    <script src=\"/static/components/requirejs/require.js\"></script>\n",
       "    <script>\n",
       "      require.config({\n",
       "        paths: {\n",
       "          base: '/static/base',\n",
       "          d3: '//cdnjs.cloudflare.com/ajax/libs/d3/3.4.13/d3',\n",
       "          plotly: 'https://cdn.plot.ly/plotly-1.5.1.min.js?noext',\n",
       "          jquery: '//ajax.googleapis.com/ajax/libs/jquery/2.0.0/jquery.min'\n",
       "        },\n",
       "        map: {\n",
       "          '*': {\n",
       "            datalab: 'nbextensions/gcpdatalab'\n",
       "          }\n",
       "        },\n",
       "        shim: {\n",
       "          plotly: {\n",
       "            deps: ['d3', 'jquery'],\n",
       "            exports: 'plotly'\n",
       "          }\n",
       "        }\n",
       "      });\n",
       "\n",
       "      require(['datalab/charting', 'datalab/element!6_154516386437', 'base/js/events',\n",
       "          'datalab/style!/nbextensions/gcpdatalab/charting.css'],\n",
       "        function(charts, dom, events) {\n",
       "          charts.render('gcharts', dom, events, 'table', [], {\"cols\": [{\"id\": \"name\", \"label\": \"name\", \"type\": \"string\"}, {\"id\": \"count\", \"label\": \"count\", \"type\": \"number\"}, {\"id\": \"readytoeat\", \"label\": \"readytoeat\", \"type\": \"boolean\"}], \"rows\": [{\"c\": [{\"v\": \"cherry\"}, {\"v\": 35}, {\"v\": false}]}, {\"c\": [{\"v\": \"apple\"}, {\"v\": 15}, {\"v\": false}]}, {\"c\": [{\"v\": \"peach\"}, {\"v\": 25}, {\"v\": false}]}, {\"c\": [{\"v\": \"watermelon\"}, {\"v\": 30}, {\"v\": false}]}, {\"c\": [{\"v\": \"mango\"}, {\"v\": 20}, {\"v\": false}]}, {\"c\": [{\"v\": \"orange\"}, {\"v\": 10}, {\"v\": false}]}, {\"c\": [{\"v\": \"banana\"}, {\"v\": 5}, {\"v\": false}]}, {\"c\": [{\"v\": \"pear\"}, {\"v\": 45}, {\"v\": false}]}, {\"c\": [{\"v\": \"cranberry\"}, {\"v\": 40}, {\"v\": false}]}]},\n",
       "            {\n",
       "              pageSize: 25,\n",
       "              cssClassNames:  {\n",
       "                tableRow: 'gchart-table-row',\n",
       "                headerRow: 'gchart-table-headerrow',\n",
       "                oddTableRow: 'gchart-table-oddrow',\n",
       "                selectedTableRow: 'gchart-table-selectedrow',\n",
       "                hoverTableRow: 'gchart-table-hoverrow',\n",
       "                tableCell: 'gchart-table-cell',\n",
       "                headerCell: 'gchart-table-headercell',\n",
       "                rowNumberCell: 'gchart-table-rownumcell'\n",
       "              }\n",
       "            },\n",
       "            {source_index: 3, fields: 'name,count,readytoeat'},\n",
       "            0,\n",
       "            9);\n",
       "        }\n",
       "      );\n",
       "    </script>\n",
       "  "
      ],
      "text/plain": [
       "QueryResultsTable job_6-VQdMOxWDsCrKowPv242a4ajmzx"
      ]
     },
     "execution_count": 16,
     "metadata": {},
     "output_type": "execute_result"
    }
   ],
   "source": [
    "%%bq query\n",
    "INSERT sampleDML.fruit_basket_detailed (name, count, readytoeat)\n",
    "SELECT name, count, false\n",
    "FROM sampleDML.fruit_basket"
   ]
  },
  {
   "cell_type": "markdown",
   "metadata": {},
   "source": [
    "## Updating Data\n",
    "\n",
    "You can update rows in the `fruit_basket` table by using an `UPDATE` statement in the BigQuery Standard SQL query. We will try to do this using the Datalab BigQuery API."
   ]
  },
  {
   "cell_type": "code",
   "execution_count": 17,
   "metadata": {},
   "outputs": [
    {
     "data": {
      "text/html": [
       "\n",
       "    <div class=\"bqtv\" id=\"7_154516386959\"><table><tr><th>name</th><th>count</th><th>readytoeat</th></tr><tr><td>watermelon</td><td>30</td><td>False</td></tr><tr><td>peach</td><td>25</td><td>False</td></tr><tr><td>apple</td><td>15</td><td>False</td></tr><tr><td>mango</td><td>20</td><td>False</td></tr><tr><td>cranberry</td><td>40</td><td>False</td></tr><tr><td>orange</td><td>10</td><td>False</td></tr><tr><td>cherry</td><td>35</td><td>False</td></tr><tr><td>pear</td><td>45</td><td>False</td></tr><tr><td>banana</td><td>5</td><td>True</td></tr></table></div>\n",
       "    <br />(rows: 9, time: 1.8s,   155B processed, job: job_THfoqDVvU8pnCOGuY189sHKY-1-l)<br />\n",
       "    <script src=\"/static/components/requirejs/require.js\"></script>\n",
       "    <script>\n",
       "      require.config({\n",
       "        paths: {\n",
       "          base: '/static/base',\n",
       "          d3: '//cdnjs.cloudflare.com/ajax/libs/d3/3.4.13/d3',\n",
       "          plotly: 'https://cdn.plot.ly/plotly-1.5.1.min.js?noext',\n",
       "          jquery: '//ajax.googleapis.com/ajax/libs/jquery/2.0.0/jquery.min'\n",
       "        },\n",
       "        map: {\n",
       "          '*': {\n",
       "            datalab: 'nbextensions/gcpdatalab'\n",
       "          }\n",
       "        },\n",
       "        shim: {\n",
       "          plotly: {\n",
       "            deps: ['d3', 'jquery'],\n",
       "            exports: 'plotly'\n",
       "          }\n",
       "        }\n",
       "      });\n",
       "\n",
       "      require(['datalab/charting', 'datalab/element!7_154516386959', 'base/js/events',\n",
       "          'datalab/style!/nbextensions/gcpdatalab/charting.css'],\n",
       "        function(charts, dom, events) {\n",
       "          charts.render('gcharts', dom, events, 'table', [], {\"cols\": [{\"id\": \"name\", \"label\": \"name\", \"type\": \"string\"}, {\"id\": \"count\", \"label\": \"count\", \"type\": \"number\"}, {\"id\": \"readytoeat\", \"label\": \"readytoeat\", \"type\": \"boolean\"}], \"rows\": [{\"c\": [{\"v\": \"watermelon\"}, {\"v\": 30}, {\"v\": false}]}, {\"c\": [{\"v\": \"peach\"}, {\"v\": 25}, {\"v\": false}]}, {\"c\": [{\"v\": \"apple\"}, {\"v\": 15}, {\"v\": false}]}, {\"c\": [{\"v\": \"mango\"}, {\"v\": 20}, {\"v\": false}]}, {\"c\": [{\"v\": \"cranberry\"}, {\"v\": 40}, {\"v\": false}]}, {\"c\": [{\"v\": \"orange\"}, {\"v\": 10}, {\"v\": false}]}, {\"c\": [{\"v\": \"cherry\"}, {\"v\": 35}, {\"v\": false}]}, {\"c\": [{\"v\": \"pear\"}, {\"v\": 45}, {\"v\": false}]}, {\"c\": [{\"v\": \"banana\"}, {\"v\": 5}, {\"v\": true}]}]},\n",
       "            {\n",
       "              pageSize: 25,\n",
       "              cssClassNames:  {\n",
       "                tableRow: 'gchart-table-row',\n",
       "                headerRow: 'gchart-table-headerrow',\n",
       "                oddTableRow: 'gchart-table-oddrow',\n",
       "                selectedTableRow: 'gchart-table-selectedrow',\n",
       "                hoverTableRow: 'gchart-table-hoverrow',\n",
       "                tableCell: 'gchart-table-cell',\n",
       "                headerCell: 'gchart-table-headercell',\n",
       "                rowNumberCell: 'gchart-table-rownumcell'\n",
       "              }\n",
       "            },\n",
       "            {source_index: 3, fields: 'name,count,readytoeat'},\n",
       "            0,\n",
       "            9);\n",
       "        }\n",
       "      );\n",
       "    </script>\n",
       "  "
      ],
      "text/plain": [
       "QueryResultsTable job_THfoqDVvU8pnCOGuY189sHKY-1-l"
      ]
     },
     "execution_count": 17,
     "metadata": {},
     "output_type": "execute_result"
    }
   ],
   "source": [
    "%%bq query\n",
    "UPDATE sampleDML.fruit_basket_detailed\n",
    "SET readytoeat = True\n",
    "WHERE name = 'banana'"
   ]
  },
  {
   "cell_type": "markdown",
   "metadata": {},
   "source": [
    "To view the contents of a table in BigQuery, use `%%bq tables view` command:"
   ]
  },
  {
   "cell_type": "code",
   "execution_count": 18,
   "metadata": {},
   "outputs": [
    {
     "data": {
      "text/html": [
       "\n",
       "    <div class=\"bqtv\" id=\"8_154516387246\"><table><tr><th>name</th><th>count</th><th>readytoeat</th></tr><tr><td>watermelon</td><td>30</td><td>False</td></tr><tr><td>peach</td><td>25</td><td>False</td></tr><tr><td>apple</td><td>15</td><td>False</td></tr><tr><td>mango</td><td>20</td><td>False</td></tr><tr><td>cranberry</td><td>40</td><td>False</td></tr><tr><td>orange</td><td>10</td><td>False</td></tr><tr><td>cherry</td><td>35</td><td>False</td></tr><tr><td>pear</td><td>45</td><td>False</td></tr><tr><td>banana</td><td>5</td><td>True</td></tr></table></div>\n",
       "    <br />(rows: 9, ajhamilton-scratch.sampleDML.fruit_basket_detailed)<br />\n",
       "    <script src=\"/static/components/requirejs/require.js\"></script>\n",
       "    <script>\n",
       "      require.config({\n",
       "        paths: {\n",
       "          base: '/static/base',\n",
       "          d3: '//cdnjs.cloudflare.com/ajax/libs/d3/3.4.13/d3',\n",
       "          plotly: 'https://cdn.plot.ly/plotly-1.5.1.min.js?noext',\n",
       "          jquery: '//ajax.googleapis.com/ajax/libs/jquery/2.0.0/jquery.min'\n",
       "        },\n",
       "        map: {\n",
       "          '*': {\n",
       "            datalab: 'nbextensions/gcpdatalab'\n",
       "          }\n",
       "        },\n",
       "        shim: {\n",
       "          plotly: {\n",
       "            deps: ['d3', 'jquery'],\n",
       "            exports: 'plotly'\n",
       "          }\n",
       "        }\n",
       "      });\n",
       "\n",
       "      require(['datalab/charting', 'datalab/element!8_154516387246', 'base/js/events',\n",
       "          'datalab/style!/nbextensions/gcpdatalab/charting.css'],\n",
       "        function(charts, dom, events) {\n",
       "          charts.render('gcharts', dom, events, 'table', [], {\"cols\": [{\"id\": \"name\", \"label\": \"name\", \"type\": \"string\"}, {\"id\": \"count\", \"label\": \"count\", \"type\": \"number\"}, {\"id\": \"readytoeat\", \"label\": \"readytoeat\", \"type\": \"boolean\"}], \"rows\": [{\"c\": [{\"v\": \"watermelon\"}, {\"v\": 30}, {\"v\": false}]}, {\"c\": [{\"v\": \"peach\"}, {\"v\": 25}, {\"v\": false}]}, {\"c\": [{\"v\": \"apple\"}, {\"v\": 15}, {\"v\": false}]}, {\"c\": [{\"v\": \"mango\"}, {\"v\": 20}, {\"v\": false}]}, {\"c\": [{\"v\": \"cranberry\"}, {\"v\": 40}, {\"v\": false}]}, {\"c\": [{\"v\": \"orange\"}, {\"v\": 10}, {\"v\": false}]}, {\"c\": [{\"v\": \"cherry\"}, {\"v\": 35}, {\"v\": false}]}, {\"c\": [{\"v\": \"pear\"}, {\"v\": 45}, {\"v\": false}]}, {\"c\": [{\"v\": \"banana\"}, {\"v\": 5}, {\"v\": true}]}]},\n",
       "            {\n",
       "              pageSize: 25,\n",
       "              cssClassNames:  {\n",
       "                tableRow: 'gchart-table-row',\n",
       "                headerRow: 'gchart-table-headerrow',\n",
       "                oddTableRow: 'gchart-table-oddrow',\n",
       "                selectedTableRow: 'gchart-table-selectedrow',\n",
       "                hoverTableRow: 'gchart-table-hoverrow',\n",
       "                tableCell: 'gchart-table-cell',\n",
       "                headerCell: 'gchart-table-headercell',\n",
       "                rowNumberCell: 'gchart-table-rownumcell'\n",
       "              }\n",
       "            },\n",
       "            {source_index: 3, fields: 'name,count,readytoeat'},\n",
       "            0,\n",
       "            9);\n",
       "        }\n",
       "      );\n",
       "    </script>\n",
       "  "
      ],
      "text/plain": [
       "BigQuery Table - name: ajhamilton-scratch.sampleDML.fruit_basket_detailed"
      ]
     },
     "execution_count": 18,
     "metadata": {},
     "output_type": "execute_result"
    }
   ],
   "source": [
    "%%bq tables view --name sampleDML.fruit_basket_detailed"
   ]
  },
  {
   "cell_type": "markdown",
   "metadata": {},
   "source": [
    "## Deleting Data\n",
    "\n",
    "You can delete rows in the `fruit_basket` table by using a `DELETE` statement in the BigQuery Standard SQL query."
   ]
  },
  {
   "cell_type": "code",
   "execution_count": 19,
   "metadata": {},
   "outputs": [
    {
     "data": {
      "text/html": [
       "\n",
       "    <div class=\"bqtv\" id=\"9_154516387707\"><table><tr><th>name</th><th>count</th></tr><tr><td>apple</td><td>15</td></tr><tr><td>mango</td><td>20</td></tr><tr><td>orange</td><td>10</td></tr><tr><td>banana</td><td>5</td></tr><tr><td>watermelon</td><td>30</td></tr><tr><td>peach</td><td>25</td></tr><tr><td>pear</td><td>45</td></tr></table></div>\n",
       "    <br />(rows: 7, time: 1.8s,   146B processed, job: job_2VFEve3ROPbEyCkVG6rwuL_0hwUK)<br />\n",
       "    <script src=\"/static/components/requirejs/require.js\"></script>\n",
       "    <script>\n",
       "      require.config({\n",
       "        paths: {\n",
       "          base: '/static/base',\n",
       "          d3: '//cdnjs.cloudflare.com/ajax/libs/d3/3.4.13/d3',\n",
       "          plotly: 'https://cdn.plot.ly/plotly-1.5.1.min.js?noext',\n",
       "          jquery: '//ajax.googleapis.com/ajax/libs/jquery/2.0.0/jquery.min'\n",
       "        },\n",
       "        map: {\n",
       "          '*': {\n",
       "            datalab: 'nbextensions/gcpdatalab'\n",
       "          }\n",
       "        },\n",
       "        shim: {\n",
       "          plotly: {\n",
       "            deps: ['d3', 'jquery'],\n",
       "            exports: 'plotly'\n",
       "          }\n",
       "        }\n",
       "      });\n",
       "\n",
       "      require(['datalab/charting', 'datalab/element!9_154516387707', 'base/js/events',\n",
       "          'datalab/style!/nbextensions/gcpdatalab/charting.css'],\n",
       "        function(charts, dom, events) {\n",
       "          charts.render('gcharts', dom, events, 'table', [], {\"cols\": [{\"id\": \"name\", \"label\": \"name\", \"type\": \"string\"}, {\"id\": \"count\", \"label\": \"count\", \"type\": \"number\"}], \"rows\": [{\"c\": [{\"v\": \"apple\"}, {\"v\": 15}]}, {\"c\": [{\"v\": \"mango\"}, {\"v\": 20}]}, {\"c\": [{\"v\": \"orange\"}, {\"v\": 10}]}, {\"c\": [{\"v\": \"banana\"}, {\"v\": 5}]}, {\"c\": [{\"v\": \"watermelon\"}, {\"v\": 30}]}, {\"c\": [{\"v\": \"peach\"}, {\"v\": 25}]}, {\"c\": [{\"v\": \"pear\"}, {\"v\": 45}]}]},\n",
       "            {\n",
       "              pageSize: 25,\n",
       "              cssClassNames:  {\n",
       "                tableRow: 'gchart-table-row',\n",
       "                headerRow: 'gchart-table-headerrow',\n",
       "                oddTableRow: 'gchart-table-oddrow',\n",
       "                selectedTableRow: 'gchart-table-selectedrow',\n",
       "                hoverTableRow: 'gchart-table-hoverrow',\n",
       "                tableCell: 'gchart-table-cell',\n",
       "                headerCell: 'gchart-table-headercell',\n",
       "                rowNumberCell: 'gchart-table-rownumcell'\n",
       "              }\n",
       "            },\n",
       "            {source_index: 2, fields: 'name,count'},\n",
       "            0,\n",
       "            7);\n",
       "        }\n",
       "      );\n",
       "    </script>\n",
       "  "
      ],
      "text/plain": [
       "QueryResultsTable job_2VFEve3ROPbEyCkVG6rwuL_0hwUK"
      ]
     },
     "execution_count": 19,
     "metadata": {},
     "output_type": "execute_result"
    }
   ],
   "source": [
    "%%bq query\n",
    "DELETE sampleDML.fruit_basket\n",
    "WHERE name in ('cherry', 'cranberry')"
   ]
  },
  {
   "cell_type": "markdown",
   "metadata": {},
   "source": [
    "Use the following query to delete the corresponding entries in `sampleDML.fruit_basket_detailed`"
   ]
  },
  {
   "cell_type": "code",
   "execution_count": 20,
   "metadata": {},
   "outputs": [
    {
     "data": {
      "text/html": [
       "\n",
       "    <div class=\"bqtv\" id=\"10_154516388201\"><table><tr><th>name</th><th>count</th><th>readytoeat</th></tr><tr><td>orange</td><td>10</td><td>False</td></tr><tr><td>apple</td><td>15</td><td>False</td></tr><tr><td>mango</td><td>20</td><td>False</td></tr><tr><td>pear</td><td>45</td><td>False</td></tr><tr><td>watermelon</td><td>30</td><td>False</td></tr><tr><td>peach</td><td>25</td><td>False</td></tr><tr><td>banana</td><td>5</td><td>True</td></tr></table></div>\n",
       "    <br />(rows: 7, time: 1.8s,   210B processed, job: job_6P3k-LC_bZTFCVfFz_MaYEJrfPI8)<br />\n",
       "    <script src=\"/static/components/requirejs/require.js\"></script>\n",
       "    <script>\n",
       "      require.config({\n",
       "        paths: {\n",
       "          base: '/static/base',\n",
       "          d3: '//cdnjs.cloudflare.com/ajax/libs/d3/3.4.13/d3',\n",
       "          plotly: 'https://cdn.plot.ly/plotly-1.5.1.min.js?noext',\n",
       "          jquery: '//ajax.googleapis.com/ajax/libs/jquery/2.0.0/jquery.min'\n",
       "        },\n",
       "        map: {\n",
       "          '*': {\n",
       "            datalab: 'nbextensions/gcpdatalab'\n",
       "          }\n",
       "        },\n",
       "        shim: {\n",
       "          plotly: {\n",
       "            deps: ['d3', 'jquery'],\n",
       "            exports: 'plotly'\n",
       "          }\n",
       "        }\n",
       "      });\n",
       "\n",
       "      require(['datalab/charting', 'datalab/element!10_154516388201', 'base/js/events',\n",
       "          'datalab/style!/nbextensions/gcpdatalab/charting.css'],\n",
       "        function(charts, dom, events) {\n",
       "          charts.render('gcharts', dom, events, 'table', [], {\"cols\": [{\"id\": \"name\", \"label\": \"name\", \"type\": \"string\"}, {\"id\": \"count\", \"label\": \"count\", \"type\": \"number\"}, {\"id\": \"readytoeat\", \"label\": \"readytoeat\", \"type\": \"boolean\"}], \"rows\": [{\"c\": [{\"v\": \"orange\"}, {\"v\": 10}, {\"v\": false}]}, {\"c\": [{\"v\": \"apple\"}, {\"v\": 15}, {\"v\": false}]}, {\"c\": [{\"v\": \"mango\"}, {\"v\": 20}, {\"v\": false}]}, {\"c\": [{\"v\": \"pear\"}, {\"v\": 45}, {\"v\": false}]}, {\"c\": [{\"v\": \"watermelon\"}, {\"v\": 30}, {\"v\": false}]}, {\"c\": [{\"v\": \"peach\"}, {\"v\": 25}, {\"v\": false}]}, {\"c\": [{\"v\": \"banana\"}, {\"v\": 5}, {\"v\": true}]}]},\n",
       "            {\n",
       "              pageSize: 25,\n",
       "              cssClassNames:  {\n",
       "                tableRow: 'gchart-table-row',\n",
       "                headerRow: 'gchart-table-headerrow',\n",
       "                oddTableRow: 'gchart-table-oddrow',\n",
       "                selectedTableRow: 'gchart-table-selectedrow',\n",
       "                hoverTableRow: 'gchart-table-hoverrow',\n",
       "                tableCell: 'gchart-table-cell',\n",
       "                headerCell: 'gchart-table-headercell',\n",
       "                rowNumberCell: 'gchart-table-rownumcell'\n",
       "              }\n",
       "            },\n",
       "            {source_index: 3, fields: 'name,count,readytoeat'},\n",
       "            0,\n",
       "            7);\n",
       "        }\n",
       "      );\n",
       "    </script>\n",
       "  "
      ],
      "text/plain": [
       "QueryResultsTable job_6P3k-LC_bZTFCVfFz_MaYEJrfPI8"
      ]
     },
     "execution_count": 20,
     "metadata": {},
     "output_type": "execute_result"
    }
   ],
   "source": [
    "%%bq query\n",
    "DELETE sampleDML.fruit_basket_detailed\n",
    "WHERE NOT EXISTS\n",
    "  (SELECT * FROM sampleDML.fruit_basket\n",
    "  WHERE fruit_basket_detailed.name = fruit_basket.name)"
   ]
  },
  {
   "cell_type": "markdown",
   "metadata": {},
   "source": [
    "## Deleting Resources"
   ]
  },
  {
   "cell_type": "code",
   "execution_count": 21,
   "metadata": {},
   "outputs": [],
   "source": [
    "# Clear out sample resources\n",
    "sample_dataset.delete(delete_contents = True)"
   ]
  }
 ],
 "metadata": {
  "kernelspec": {
   "display_name": "datalab-notebooks",
   "language": "python",
   "name": "datalab-notebooks"
  },
  "language_info": {
   "codemirror_mode": {
    "name": "ipython",
    "version": 3
   },
   "file_extension": ".py",
   "mimetype": "text/x-python",
   "name": "python",
   "nbconvert_exporter": "python",
   "pygments_lexer": "ipython3",
   "version": "3.6.4"
  }
 },
 "nbformat": 4,
 "nbformat_minor": 1
}
