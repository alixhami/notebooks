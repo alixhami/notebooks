{
 "cells": [
  {
   "cell_type": "markdown",
   "metadata": {},
   "source": [
    "# Look at metric data based on Stackdriver groups\n",
    "\n",
    "In this tutorial, we see how to look at the group structure in a project, and how to use groups to filter and aggregate metric data. For this tutorial to execute completely, you need to have:\n",
    "* a [Stackdriver account](https://cloud.google.com/monitoring/accounts/)\n",
    "* at least one [Stackdriver group](https://cloud.google.com/monitoring/api/ref_v3/rest/v3/projects.groups) in your account\n",
    "* the above group must have at least one GCE instance in it\n",
    "\n",
    "**Note**: It is recommended that you look at the [Getting Started](./Getting started.ipynb) notebook first to familiarize yourself with the `Query` class and how `pandas` dataframes are used to represent time series data."
   ]
  },
  {
   "cell_type": "markdown",
   "metadata": {},
   "source": [
    "## Load the monitoring module and set the default project\n",
    "\n",
    "If there is no default project set already, you must do so using 'set_datalab_project_id'. Note, the project you set here must be the [hosting project](https://cloud.google.com/monitoring/accounts/#account-project) for a Stackdriver account, otherwise you will see the following error while loading the groups in the next cell:\n",
    "\n",
    "    `BadRequest: 400 The project 'my-project-id' is not a Stackdriver account project.`"
   ]
  },
  {
   "cell_type": "code",
   "execution_count": 1,
   "metadata": {},
   "outputs": [],
   "source": [
    "%load_ext google.datalab.kernel"
   ]
  },
  {
   "cell_type": "code",
   "execution_count": 2,
   "metadata": {},
   "outputs": [],
   "source": [
    "set_datalab_project_id('ajhamilton-scratch')"
   ]
  },
  {
   "cell_type": "markdown",
   "metadata": {},
   "source": [
    "## List the Stackdriver groups\n",
    "\n",
    "Load the Stackdriver groups in the default project, and get the dataframe containing all the information."
   ]
  },
  {
   "cell_type": "code",
   "execution_count": 3,
   "metadata": {},
   "outputs": [
    {
     "data": {
      "text/html": [
       "<div>\n",
       "<style scoped>\n",
       "    .dataframe tbody tr th:only-of-type {\n",
       "        vertical-align: middle;\n",
       "    }\n",
       "\n",
       "    .dataframe tbody tr th {\n",
       "        vertical-align: top;\n",
       "    }\n",
       "\n",
       "    .dataframe thead th {\n",
       "        text-align: right;\n",
       "    }\n",
       "</style>\n",
       "<table border=\"1\" class=\"dataframe\">\n",
       "  <thead>\n",
       "    <tr style=\"text-align: right;\">\n",
       "      <th></th>\n",
       "      <th>Group ID</th>\n",
       "      <th>Group name</th>\n",
       "      <th>Parent ID</th>\n",
       "      <th>Parent name</th>\n",
       "      <th>Is cluster</th>\n",
       "      <th>Filter</th>\n",
       "    </tr>\n",
       "  </thead>\n",
       "  <tbody>\n",
       "    <tr>\n",
       "      <th>0</th>\n",
       "      <td>568180527848949515</td>\n",
       "      <td>Bingo</td>\n",
       "      <td>None</td>\n",
       "      <td></td>\n",
       "      <td>False</td>\n",
       "      <td>resource.metadata.cloud_account=\"ajhamilton-sc...</td>\n",
       "    </tr>\n",
       "  </tbody>\n",
       "</table>\n",
       "</div>"
      ],
      "text/plain": [
       "             Group ID Group name Parent ID Parent name  Is cluster  \\\n",
       "0  568180527848949515      Bingo      None                   False   \n",
       "\n",
       "                                              Filter  \n",
       "0  resource.metadata.cloud_account=\"ajhamilton-sc...  "
      ]
     },
     "execution_count": 3,
     "metadata": {},
     "output_type": "execute_result"
    }
   ],
   "source": [
    "from google.datalab.stackdriver import monitoring as gcm\n",
    "\n",
    "groups_dataframe = gcm.Groups().as_dataframe()\n",
    "\n",
    "# Sort the dataframe by the group name, and reset the index.\n",
    "groups_dataframe = groups_dataframe.sort_values(by='Group name').reset_index(drop=True)\n",
    "groups_dataframe.head(5)"
   ]
  },
  {
   "cell_type": "markdown",
   "metadata": {},
   "source": [
    "## Extract the first group\n",
    "\n",
    "Now we initialize `first_group_id` from the list of Stackdriver groups. Please note:\n",
    "\n",
    "* If you don't have any groups so far, please create one via the Stackdriver dashboard.\n",
    "* Further, if the first group does not contain any GCE instances, please explicitly set `first_group_id` to the ID of a group that does have an instance."
   ]
  },
  {
   "cell_type": "code",
   "execution_count": 4,
   "metadata": {},
   "outputs": [
    {
     "name": "stdout",
     "output_type": "stream",
     "text": [
      "First group ID: 568180527848949515\n"
     ]
    }
   ],
   "source": [
    "import sys\n",
    "\n",
    "if groups_dataframe.empty:\n",
    "  sys.stderr.write('This project has no Stackdriver groups. The remaining notebook '\n",
    "                   'will raise errors!')\n",
    "else:\n",
    "  first_group_id = groups_dataframe['Group ID'][0]\n",
    "  print('First group ID: %s' % first_group_id)"
   ]
  },
  {
   "cell_type": "markdown",
   "metadata": {},
   "source": [
    "## Load the CPU metric data for the instances a given group\n",
    "\n",
    "Load the `CPU Utilization` for last 2 hours for the group with the ID `first_group_id`. The time series is further aggregated as follows:\n",
    "* The data is `aligned` to 5 minute intervals using the `'ALIGN_MEAN'` method.\n",
    "* The data per `zone` and `instance_name` pair is combined or `reduced` into a single time series. This is useful to combine the time series of instances that might be restarted / redeployed continuously."
   ]
  },
  {
   "cell_type": "code",
   "execution_count": 5,
   "metadata": {
    "scrolled": false
   },
   "outputs": [
    {
     "data": {
      "text/html": [
       "<div>\n",
       "<style scoped>\n",
       "    .dataframe tbody tr th:only-of-type {\n",
       "        vertical-align: middle;\n",
       "    }\n",
       "\n",
       "    .dataframe tbody tr th {\n",
       "        vertical-align: top;\n",
       "    }\n",
       "\n",
       "    .dataframe thead tr th {\n",
       "        text-align: left;\n",
       "    }\n",
       "</style>\n",
       "<table border=\"1\" class=\"dataframe\">\n",
       "  <thead>\n",
       "    <tr>\n",
       "      <th>zone</th>\n",
       "      <th>us-west1-b</th>\n",
       "    </tr>\n",
       "    <tr>\n",
       "      <th>instance_name</th>\n",
       "      <th>foofoo</th>\n",
       "    </tr>\n",
       "  </thead>\n",
       "  <tbody>\n",
       "    <tr>\n",
       "      <th>2018-12-18 22:50:00</th>\n",
       "      <td>0.060132</td>\n",
       "    </tr>\n",
       "  </tbody>\n",
       "</table>\n",
       "</div>"
      ],
      "text/plain": [
       "zone                us-west1-b\n",
       "instance_name           foofoo\n",
       "2018-12-18 22:50:00   0.060132"
      ]
     },
     "execution_count": 5,
     "metadata": {},
     "output_type": "execute_result"
    }
   ],
   "source": [
    "# Initialize the query for the CPU Utilization metric over the last 2 hours.\n",
    "query_group = gcm.Query('compute.googleapis.com/instance/cpu/utilization', hours=2)\n",
    "\n",
    "# Filter the instances to the members of the first group.\n",
    "query_group = query_group.select_group(first_group_id)\n",
    "\n",
    "# Aggregate the time series.\n",
    "query_group = query_group.align(gcm.Aligner.ALIGN_MEAN, minutes=5)\n",
    "query_group = query_group.reduce(gcm.Reducer.REDUCE_MEAN, 'resource.zone', 'metric.instance_name')\n",
    "\n",
    "# Create a dataframe with zone and instance name in the headers.\n",
    "cpu_group_dataframe = query_group.as_dataframe(labels=['zone', 'instance_name'])\n",
    "cpu_group_dataframe.tail(5)"
   ]
  },
  {
   "cell_type": "markdown",
   "metadata": {},
   "source": [
    "### Plot the the mean of the CPU Utilization per zone"
   ]
  },
  {
   "cell_type": "code",
   "execution_count": 6,
   "metadata": {},
   "outputs": [],
   "source": [
    "cpu_group_dataframe_per_zone = cpu_group_dataframe.groupby(level=0, axis=1).mean()\n",
    "_ = cpu_group_dataframe_per_zone.plot().legend(loc='center left', bbox_to_anchor=(1.0, 0.8))"
   ]
  },
  {
   "cell_type": "markdown",
   "metadata": {},
   "source": [
    "### Plot the CPU Utilization of instances\n",
    "\n",
    "Now, we plot the chart at the instance level. However, instances in each zone are displayed in a separate chart."
   ]
  },
  {
   "cell_type": "code",
   "execution_count": 7,
   "metadata": {},
   "outputs": [
    {
     "name": "stderr",
     "output_type": "stream",
     "text": [
      "/Users/ajhamilton/notebooks/venv/lib/python3.6/site-packages/pandas/plotting/_core.py:447: UserWarning: Attempting to set identical bottom==top results\n",
      "in singular transformations; automatically expanding.\n",
      "bottom=0.060132051645647756, top=0.060132051645647756\n",
      "  ax.set_ylim(self.ylim)\n"
     ]
    }
   ],
   "source": [
    "# Find all unique zones and sort them.\n",
    "all_zones = sorted(set(cpu_group_dataframe.columns.get_level_values('zone')))\n",
    "\n",
    "# Find the global min and max so we can set the same range for all y-axes.\n",
    "min_cpu = cpu_group_dataframe.min().min()\n",
    "max_cpu = cpu_group_dataframe.max().max()\n",
    "\n",
    "for zone in all_zones:\n",
    "  zone_plot = cpu_group_dataframe[zone].plot(title=zone, ylim=(min_cpu, max_cpu))\n",
    "  zone_plot.legend(loc='center left', bbox_to_anchor=(1.0, 0.8))"
   ]
  }
 ],
 "metadata": {
  "extensions": {
   "jupyter_dashboards": {
    "activeView": "report_default",
    "version": 1,
    "views": {
     "grid_default": {
      "cellMargin": 10,
      "defaultCellHeight": 20,
      "maxColumns": 12,
      "name": "grid",
      "type": "grid"
     },
     "report_default": {
      "name": "report",
      "type": "report"
     }
    }
   }
  },
  "kernelspec": {
   "display_name": "datalab-notebooks",
   "language": "python",
   "name": "datalab-notebooks"
  },
  "language_info": {
   "codemirror_mode": {
    "name": "ipython",
    "version": 3
   },
   "file_extension": ".py",
   "mimetype": "text/x-python",
   "name": "python",
   "nbconvert_exporter": "python",
   "pygments_lexer": "ipython3",
   "version": "3.6.4"
  },
  "widgets": {
   "state": {},
   "version": "1.1.2"
  }
 },
 "nbformat": 4,
 "nbformat_minor": 1
}
