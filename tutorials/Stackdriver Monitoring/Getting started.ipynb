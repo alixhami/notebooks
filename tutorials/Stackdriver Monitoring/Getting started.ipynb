{
 "cells": [
  {
   "cell_type": "markdown",
   "metadata": {},
   "source": [
    "# Getting started with the Stackdriver Monitoring API\n",
    "\n",
    "Cloud Datalab provides an environment for working with your data. This includes data that is being managed within the [Stackdriver Monitoring API](https://cloud.google.com/monitoring/api/v3/). This notebook introduces some of the APIs that Cloud Datalab provides for working with the monitoring data, and allows you to try them out on your own project.\n",
    "\n",
    "The main focus of this API is to allow you to query time series data for your monitored resources. The time series, and it's metadata are returned as [pandas DataFrame](http://pandas.pydata.org/pandas-docs/stable/generated/pandas.DataFrame.html) objects. `pandas` is a widely used library for data manipulation, and is well suited to working with time series data.\n",
    "\n",
    "**Note**: This notebook will show you how to use this API with your own project. The charts included here are from a sample project that you will not have access to. For all cells to run without errors, the following must hold:\n",
    "* The default project must be set\n",
    "* This project must have at least one GCE Instance. You can create an instance at the following link: https://console.cloud.google.com/compute/instances"
   ]
  },
  {
   "cell_type": "markdown",
   "metadata": {},
   "source": [
    "## Importing the API and setting up the default project\n",
    "\n",
    "The Monitoring functionality is contained within the `datalab.stackdriver.monitoring` module.\n",
    "\n",
    "If the default project is not already set via the environment variable `$PROJECT_ID`, you must do so using `'set_datalab_project_id'`, or using the `%datalab config` magic."
   ]
  },
  {
   "cell_type": "code",
   "execution_count": 1,
   "metadata": {},
   "outputs": [],
   "source": [
    "%load_ext google.datalab.kernel"
   ]
  },
  {
   "cell_type": "code",
   "execution_count": 2,
   "metadata": {},
   "outputs": [],
   "source": [
    "set_datalab_project_id('ajhamilton-scratch')"
   ]
  },
  {
   "cell_type": "markdown",
   "metadata": {},
   "source": [
    "First, list supported options on the Stackdriver magic `%sd`:"
   ]
  },
  {
   "cell_type": "code",
   "execution_count": 3,
   "metadata": {},
   "outputs": [
    {
     "name": "stdout",
     "output_type": "stream",
     "text": [
      "usage: %sd [-h] {monitoring} ...\n",
      "\n",
      "Execute various Stackdriver related operations. Use \"%sd <stackdriver_product>\n",
      "-h\" for help on a specific Stackdriver product.\n",
      "\n",
      "positional arguments:\n",
      "  {monitoring}  commands\n",
      "    monitoring  Execute Stackdriver monitoring related operations. Use \"sd\n",
      "                monitoring <command> -h\" for help on a specific command\n",
      "\n",
      "optional arguments:\n",
      "  -h, --help    show this help message and exit\n"
     ]
    }
   ],
   "source": [
    "%sd -h"
   ]
  },
  {
   "cell_type": "markdown",
   "metadata": {},
   "source": [
    "Let's see what we can do with the monitoring command:"
   ]
  },
  {
   "cell_type": "code",
   "execution_count": 4,
   "metadata": {},
   "outputs": [
    {
     "name": "stdout",
     "output_type": "stream",
     "text": [
      "usage: %sd monitoring [-h] {metrics,resource_types,groups} ...\n",
      "\n",
      "Execute Stackdriver monitoring related operations. Use \"sd monitoring\n",
      "<command> -h\" for help on a specific command\n",
      "\n",
      "positional arguments:\n",
      "  {metrics,resource_types,groups}\n",
      "                        commands\n",
      "    metrics             Operations on Stackdriver Monitoring metrics\n",
      "    resource_types      Operations on Stackdriver Monitoring resource types\n",
      "    groups              Operations on Stackdriver groups\n",
      "\n",
      "optional arguments:\n",
      "  -h, --help            show this help message and exit\n"
     ]
    }
   ],
   "source": [
    "%sd monitoring -h"
   ]
  },
  {
   "cell_type": "markdown",
   "metadata": {},
   "source": [
    "## List names of Compute Engine CPU metrics\n",
    "\n",
    "Here we use IPython [cell magics](http://ipython.readthedocs.io/en/stable/interactive/magics.html) to list the CPU metrics. The `Labels` column shows that `instance_name` is a metric label."
   ]
  },
  {
   "cell_type": "code",
   "execution_count": 5,
   "metadata": {},
   "outputs": [
    {
     "data": {
      "text/html": [
       "<table><tr><th>Metric type</th><th>Display name</th><th>Kind</th><th>Value</th><th>Unit</th><th>Labels</th></tr><tr><td>compute.googleapis.com/instance/cpu/reserved_cores</td><td>Reserved cores</td><td>GAUGE</td><td>DOUBLE</td><td>1</td><td>instance_name</td></tr><tr><td>compute.googleapis.com/instance/cpu/usage_time</td><td>CPU usage</td><td>DELTA</td><td>DOUBLE</td><td>s</td><td>instance_name</td></tr><tr><td>compute.googleapis.com/instance/cpu/utilization</td><td>CPU utilization</td><td>GAUGE</td><td>DOUBLE</td><td>1</td><td>instance_name</td></tr></table>"
      ],
      "text/plain": [
       "<IPython.core.display.HTML object>"
      ]
     },
     "execution_count": 5,
     "metadata": {},
     "output_type": "execute_result"
    }
   ],
   "source": [
    "%sd monitoring metrics list --type compute*/cpu/*"
   ]
  },
  {
   "cell_type": "markdown",
   "metadata": {},
   "source": [
    "## List monitored resource types related to GCE"
   ]
  },
  {
   "cell_type": "code",
   "execution_count": 6,
   "metadata": {},
   "outputs": [
    {
     "data": {
      "text/html": [
       "<table><tr><th>Resource type</th><th>Display name</th><th>Labels</th></tr><tr><td>gce_disk</td><td>GCE Disk</td><td>project_id, disk_id, zone</td></tr><tr><td>gce_instance</td><td>GCE VM Instance</td><td>project_id, instance_id, zone</td></tr><tr><td>gce_node_group</td><td>GCE Node Group</td><td>project_id, node_group_id, zone</td></tr><tr><td>gce_node_template</td><td>GCE Node Template</td><td>project_id, node_template_id, region</td></tr><tr><td>gce_router</td><td>Cloud Router</td><td>project_id, router_id, region</td></tr><tr><td>gce_subnetwork</td><td>GCE Subnetwork</td><td>project_id, subnetwork_id, subnetwork_name, location</td></tr></table>"
      ],
      "text/plain": [
       "<IPython.core.display.HTML object>"
      ]
     },
     "execution_count": 6,
     "metadata": {},
     "output_type": "execute_result"
    }
   ],
   "source": [
    "%sd monitoring resource_types list --type gce*"
   ]
  },
  {
   "cell_type": "markdown",
   "metadata": {},
   "source": [
    "# Querying time series data\n",
    "\n",
    "The `Query` class allows users to query and access the monitoring time series data.\n",
    "\n",
    "Many useful methods of the `Query` class are actually defined by the base class, which is provided by the `google-cloud-python` library. These methods include:\n",
    "* `select_metrics`:  filters the query based on metric labels.\n",
    "* `select_resources`: filters the query based on resource type and labels.\n",
    "* `align`: aligns the query along the specified time intervals.\n",
    "* `reduce`: applies aggregation to the query.\n",
    "* `as_dataframe`: returns the time series data as a `pandas` DataFrame object.\n",
    "\n",
    "Reference documentation for the `Query` base class is available [here](http://gcloud-python.readthedocs.org/en/latest/monitoring-query.html). You can also get help from inside the notebook by calling the `help` function on any class, object or method."
   ]
  },
  {
   "cell_type": "code",
   "execution_count": 7,
   "metadata": {},
   "outputs": [
    {
     "name": "stdout",
     "output_type": "stream",
     "text": [
      "Help on function select_interval in module google.cloud.monitoring.query:\n",
      "\n",
      "select_interval(self, end_time, start_time=None)\n",
      "    Copy the query and set the query time interval.\n",
      "    \n",
      "    Example::\n",
      "    \n",
      "        import datetime\n",
      "    \n",
      "        now = datetime.datetime.utcnow()\n",
      "        query = query.select_interval(\n",
      "            end_time=now,\n",
      "            start_time=now - datetime.timedelta(minutes=5))\n",
      "    \n",
      "    As a convenience, you can alternatively specify the end time and\n",
      "    an interval duration when you create the query initially.\n",
      "    \n",
      "    :type end_time: :class:`datetime.datetime`\n",
      "    :param end_time: The end time (inclusive) of the time interval\n",
      "        for which results should be returned, as a datetime object.\n",
      "    \n",
      "    :type start_time: :class:`datetime.datetime`\n",
      "    :param start_time:\n",
      "        (Optional) The start time (exclusive) of the time interval\n",
      "        for which results should be returned, as a datetime object.\n",
      "        If not specified, the interval is a point in time.\n",
      "    \n",
      "    :rtype: :class:`Query`\n",
      "    :returns: The new query object.\n",
      "\n"
     ]
    }
   ],
   "source": [
    "from google.datalab.stackdriver import monitoring as gcm\n",
    "help(gcm.Query.select_interval)"
   ]
  },
  {
   "cell_type": "markdown",
   "metadata": {},
   "source": [
    "## Initializing the query\n",
    "\n",
    "During intialization, the metric type and the time interval need to be specified. For interactive use, the metric type has a default value. The simplest way to specify the time interval that ends `now` is to use the arguments `days`, `hours`, and `minutes`.\n",
    "\n",
    "In the cell below, we initialize the query to load the time series for `CPU Utilization` for the last two hours."
   ]
  },
  {
   "cell_type": "code",
   "execution_count": 8,
   "metadata": {},
   "outputs": [],
   "source": [
    "query_cpu = gcm.Query('compute.googleapis.com/instance/cpu/utilization', hours=2)"
   ]
  },
  {
   "cell_type": "markdown",
   "metadata": {},
   "source": [
    "## Getting the metadata\n",
    "\n",
    "The method `metadata()` returns a `QueryMetadata` object. It contains the following information about the time series matching the query:\n",
    "* resource types\n",
    "* resource labels and their values\n",
    "* metric labels and their values\n",
    "\n",
    "This helps you understand the structure of the time series data, and makes it easier to modify the query."
   ]
  },
  {
   "cell_type": "code",
   "execution_count": 9,
   "metadata": {},
   "outputs": [
    {
     "data": {
      "text/html": [
       "<div>\n",
       "<style scoped>\n",
       "    .dataframe tbody tr th:only-of-type {\n",
       "        vertical-align: middle;\n",
       "    }\n",
       "\n",
       "    .dataframe tbody tr th {\n",
       "        vertical-align: top;\n",
       "    }\n",
       "\n",
       "    .dataframe thead tr th {\n",
       "        text-align: left;\n",
       "    }\n",
       "</style>\n",
       "<table border=\"1\" class=\"dataframe\">\n",
       "  <thead>\n",
       "    <tr>\n",
       "      <th></th>\n",
       "      <th>resource.type</th>\n",
       "      <th colspan=\"3\" halign=\"left\">resource.labels</th>\n",
       "      <th>metric.labels</th>\n",
       "    </tr>\n",
       "    <tr>\n",
       "      <th></th>\n",
       "      <th></th>\n",
       "      <th>project_id</th>\n",
       "      <th>zone</th>\n",
       "      <th>instance_id</th>\n",
       "      <th>instance_name</th>\n",
       "    </tr>\n",
       "  </thead>\n",
       "  <tbody>\n",
       "    <tr>\n",
       "      <th>0</th>\n",
       "      <td>gce_instance</td>\n",
       "      <td>ajhamilton-scratch</td>\n",
       "      <td>us-west1-b</td>\n",
       "      <td>1559827146510062338</td>\n",
       "      <td>foofoo</td>\n",
       "    </tr>\n",
       "  </tbody>\n",
       "</table>\n",
       "</div>"
      ],
      "text/plain": [
       "  resource.type     resource.labels                                   \\\n",
       "                         project_id        zone          instance_id   \n",
       "0  gce_instance  ajhamilton-scratch  us-west1-b  1559827146510062338   \n",
       "\n",
       "  metric.labels  \n",
       "  instance_name  \n",
       "0        foofoo  "
      ]
     },
     "execution_count": 9,
     "metadata": {},
     "output_type": "execute_result"
    }
   ],
   "source": [
    "metadata_cpu = query_cpu.metadata().as_dataframe()\n",
    "metadata_cpu.head(5)"
   ]
  },
  {
   "cell_type": "markdown",
   "metadata": {},
   "source": [
    "### Reading the instance names from the metadata\n",
    "Next, we read in the instance names from the metadata, and use it in filtering the time series data below. If there are no GCE instances in this project, the cells below will raise errors."
   ]
  },
  {
   "cell_type": "code",
   "execution_count": 10,
   "metadata": {},
   "outputs": [
    {
     "name": "stdout",
     "output_type": "stream",
     "text": [
      "First 5 instance names: ['foofoo']\n"
     ]
    }
   ],
   "source": [
    "import sys\n",
    "\n",
    "if metadata_cpu.empty:\n",
    "  sys.stderr.write('This project has no GCE instances. The remaining notebook '\n",
    "                   'will raise errors!')\n",
    "else:\n",
    "  instance_names = sorted(list(metadata_cpu['metric.labels']['instance_name']))\n",
    "  print('First 5 instance names: %s' % ([str(name) for name in instance_names[:5]],))"
   ]
  },
  {
   "cell_type": "markdown",
   "metadata": {},
   "source": [
    "## Filtering by metric label\n",
    "\n",
    "We first filter `query_cpu` defined earlier to include only the first instance. Next, calling `as_dataframe` gets the results from the monitoring API, and converts them into a `pandas` DataFrame."
   ]
  },
  {
   "cell_type": "code",
   "execution_count": 11,
   "metadata": {},
   "outputs": [
    {
     "data": {
      "text/html": [
       "<div>\n",
       "<style scoped>\n",
       "    .dataframe tbody tr th:only-of-type {\n",
       "        vertical-align: middle;\n",
       "    }\n",
       "\n",
       "    .dataframe tbody tr th {\n",
       "        vertical-align: top;\n",
       "    }\n",
       "\n",
       "    .dataframe thead tr th {\n",
       "        text-align: left;\n",
       "    }\n",
       "</style>\n",
       "<table border=\"1\" class=\"dataframe\">\n",
       "  <thead>\n",
       "    <tr>\n",
       "      <th></th>\n",
       "      <th>foofoo</th>\n",
       "    </tr>\n",
       "  </thead>\n",
       "  <tbody>\n",
       "    <tr>\n",
       "      <th>2018-12-18 22:34:00</th>\n",
       "      <td>0.070209</td>\n",
       "    </tr>\n",
       "    <tr>\n",
       "      <th>2018-12-18 22:35:00</th>\n",
       "      <td>0.064760</td>\n",
       "    </tr>\n",
       "    <tr>\n",
       "      <th>2018-12-18 22:36:00</th>\n",
       "      <td>0.069706</td>\n",
       "    </tr>\n",
       "    <tr>\n",
       "      <th>2018-12-18 22:37:00</th>\n",
       "      <td>0.063704</td>\n",
       "    </tr>\n",
       "    <tr>\n",
       "      <th>2018-12-18 22:38:00</th>\n",
       "      <td>0.070338</td>\n",
       "    </tr>\n",
       "  </tbody>\n",
       "</table>\n",
       "</div>"
      ],
      "text/plain": [
       "                       foofoo\n",
       "2018-12-18 22:34:00  0.070209\n",
       "2018-12-18 22:35:00  0.064760\n",
       "2018-12-18 22:36:00  0.069706\n",
       "2018-12-18 22:37:00  0.063704\n",
       "2018-12-18 22:38:00  0.070338"
      ]
     },
     "execution_count": 11,
     "metadata": {},
     "output_type": "execute_result"
    }
   ],
   "source": [
    "query_cpu_single_instance = query_cpu.select_metrics(instance_name=instance_names[0])\n",
    "\n",
    "# Get the query results as a pandas DataFrame and look at the last 5 rows.\n",
    "data_single_instance = query_cpu_single_instance.as_dataframe(label='instance_name')\n",
    "data_single_instance.tail(5)"
   ]
  },
  {
   "cell_type": "markdown",
   "metadata": {},
   "source": [
    "## Displaying the time series as a linechart\n",
    "\n",
    "We can plot the time series data by calling the plot method of the dataframe. The `pandas` library uses `matplotlib` for plotting, so you can learn more about it [here](http://matplotlib.org/users/pyplot_tutorial.html)."
   ]
  },
  {
   "cell_type": "code",
   "execution_count": 12,
   "metadata": {},
   "outputs": [],
   "source": [
    "# N.B. A useful trick is to assign the return value of plot to _ \n",
    "# so that you don't get text printed before the plot itself.\n",
    "\n",
    "_ = data_single_instance.plot()"
   ]
  },
  {
   "cell_type": "markdown",
   "metadata": {},
   "source": [
    "## Aggregating the query\n",
    "\n",
    "You can aggregate or summarize time series data along various dimensions.\n",
    "* In the first stage, data in a time series is [aligned](https://cloud.google.com/monitoring/api/ref_v3/rest/v3/projects.timeSeries/list#Aligner) to a specified period.\n",
    "* In the second stage, data from multiple time series is combined, or [reduced](https://cloud.google.com/monitoring/api/ref_v3/rest/v3/projects.timeSeries/list#Reducer), into one time series. \n",
    "\n",
    "Not all alignment and reduction options are applicable to all time series, depending on their metric type and value type. Alignment and reduction may change the metric type or value type of a time series."
   ]
  },
  {
   "cell_type": "markdown",
   "metadata": {},
   "source": [
    "### Aligning the query\n",
    "\n",
    "For multiple time series, aligning the data is recommended. Aligned data is more compact to read from the Monitoring API, and lends itself better to visualizations.\n",
    "\n",
    "The alignment period can be specified using the arguments `hours`, `minutes`, and `seconds`. In the cell below, we do the following:\n",
    "* select a subset of the instances by using a prefix of the first instance name\n",
    "* align the time series to 5 minute intervals using an `'ALIGN_MEAN'` method.\n",
    "* plot the time series, and adjust the legend to be outside the plot. You can learn more about legend placement [here]( http://matplotlib.org/users/legend_guide.html)."
   ]
  },
  {
   "cell_type": "code",
   "execution_count": 13,
   "metadata": {},
   "outputs": [],
   "source": [
    "# Filter the query by a common instance name prefix.\n",
    "common_prefix = instance_names[0].split('-')[0]\n",
    "query_cpu_aligned = query_cpu.select_metrics(instance_name_prefix=common_prefix)\n",
    "\n",
    "# Align the query to have data every 5 minutes.\n",
    "query_cpu_aligned = query_cpu_aligned.align(gcm.Aligner.ALIGN_MEAN, minutes=5)\n",
    "data_multiple_instances = query_cpu_aligned.as_dataframe(label='instance_name')\n",
    "\n",
    "# Display the data as a linechart, and move the legend to the right of it.\n",
    "_ = data_multiple_instances.plot().legend(loc=\"upper left\", bbox_to_anchor=(1,1))"
   ]
  },
  {
   "cell_type": "markdown",
   "metadata": {},
   "source": [
    "### Reducing the query\n",
    "\n",
    "In order to combine the data across multiple time series, the `reduce()` method can be used. The fields to be retained after aggregation must be specified in the method.\n",
    "\n",
    "For example, to aggregate the results by the zone, `'resource.zone'` can be specified."
   ]
  },
  {
   "cell_type": "code",
   "execution_count": 14,
   "metadata": {},
   "outputs": [
    {
     "data": {
      "text/html": [
       "<div>\n",
       "<style scoped>\n",
       "    .dataframe tbody tr th:only-of-type {\n",
       "        vertical-align: middle;\n",
       "    }\n",
       "\n",
       "    .dataframe tbody tr th {\n",
       "        vertical-align: top;\n",
       "    }\n",
       "\n",
       "    .dataframe thead tr th {\n",
       "        text-align: left;\n",
       "    }\n",
       "</style>\n",
       "<table border=\"1\" class=\"dataframe\">\n",
       "  <thead>\n",
       "    <tr>\n",
       "      <th></th>\n",
       "      <th>us-west1-b</th>\n",
       "    </tr>\n",
       "  </thead>\n",
       "  <tbody>\n",
       "    <tr>\n",
       "      <th>2018-12-18 22:20:00</th>\n",
       "      <td>0.067036</td>\n",
       "    </tr>\n",
       "    <tr>\n",
       "      <th>2018-12-18 22:25:00</th>\n",
       "      <td>0.065621</td>\n",
       "    </tr>\n",
       "    <tr>\n",
       "      <th>2018-12-18 22:30:00</th>\n",
       "      <td>0.066358</td>\n",
       "    </tr>\n",
       "    <tr>\n",
       "      <th>2018-12-18 22:35:00</th>\n",
       "      <td>0.066040</td>\n",
       "    </tr>\n",
       "    <tr>\n",
       "      <th>2018-12-18 22:40:00</th>\n",
       "      <td>0.067916</td>\n",
       "    </tr>\n",
       "  </tbody>\n",
       "</table>\n",
       "</div>"
      ],
      "text/plain": [
       "                    us-west1-b\n",
       "2018-12-18 22:20:00   0.067036\n",
       "2018-12-18 22:25:00   0.065621\n",
       "2018-12-18 22:30:00   0.066358\n",
       "2018-12-18 22:35:00   0.066040\n",
       "2018-12-18 22:40:00   0.067916"
      ]
     },
     "execution_count": 14,
     "metadata": {},
     "output_type": "execute_result"
    }
   ],
   "source": [
    "query_cpu_reduced = query_cpu_aligned.reduce(gcm.Reducer.REDUCE_MEAN, 'resource.zone')\n",
    "data_per_zone = query_cpu_reduced.as_dataframe('zone')\n",
    "data_per_zone.tail(5)"
   ]
  },
  {
   "cell_type": "markdown",
   "metadata": {},
   "source": [
    "## Displaying the time series as a heatmap\n",
    "\n",
    "Let us look at the time series at the instance level as a heatmap. A heatmap is a compact representation of the data, and can often highlight patterns.\n",
    "\n",
    "The diagram below shows the instances along rows, and the timestamps along columns."
   ]
  },
  {
   "cell_type": "code",
   "execution_count": 15,
   "metadata": {},
   "outputs": [],
   "source": [
    "import matplotlib\n",
    "import seaborn\n",
    "\n",
    "# Set the size of the heatmap to have a better aspect ratio.\n",
    "div_ratio = 1 if len(data_multiple_instances.columns) == 1 else 2.0\n",
    "width, height = (size/div_ratio for size in data_multiple_instances.shape)\n",
    "matplotlib.pyplot.figure(figsize=(width, height))\n",
    "\n",
    "# Display the data as a heatmap. The timestamps are converted to strings\n",
    "# for better readbility.\n",
    "_ = seaborn.heatmap(data_multiple_instances.T,\n",
    "                    xticklabels=data_multiple_instances.index.map(str),\n",
    "                    cmap='YlGnBu')"
   ]
  },
  {
   "cell_type": "markdown",
   "metadata": {},
   "source": [
    "## Multi-level headers\n",
    "\n",
    "If you don't provide any labels to `as_dataframe`, it returns all the resource and metric labels present in the time series as a multi-level header.\n",
    "\n",
    "This allows you to filter, and aggregate the data more easily."
   ]
  },
  {
   "cell_type": "code",
   "execution_count": 16,
   "metadata": {},
   "outputs": [
    {
     "data": {
      "text/html": [
       "<div>\n",
       "<style scoped>\n",
       "    .dataframe tbody tr th:only-of-type {\n",
       "        vertical-align: middle;\n",
       "    }\n",
       "\n",
       "    .dataframe tbody tr th {\n",
       "        vertical-align: top;\n",
       "    }\n",
       "\n",
       "    .dataframe thead tr th {\n",
       "        text-align: left;\n",
       "    }\n",
       "</style>\n",
       "<table border=\"1\" class=\"dataframe\">\n",
       "  <thead>\n",
       "    <tr>\n",
       "      <th>resource_type</th>\n",
       "      <th>gce_instance</th>\n",
       "    </tr>\n",
       "    <tr>\n",
       "      <th>project_id</th>\n",
       "      <th>ajhamilton-scratch</th>\n",
       "    </tr>\n",
       "    <tr>\n",
       "      <th>zone</th>\n",
       "      <th>us-west1-b</th>\n",
       "    </tr>\n",
       "    <tr>\n",
       "      <th>instance_id</th>\n",
       "      <th>1559827146510062338</th>\n",
       "    </tr>\n",
       "    <tr>\n",
       "      <th>instance_name</th>\n",
       "      <th>foofoo</th>\n",
       "    </tr>\n",
       "  </thead>\n",
       "  <tbody>\n",
       "    <tr>\n",
       "      <th>2018-12-18 22:20:00</th>\n",
       "      <td>0.067036</td>\n",
       "    </tr>\n",
       "    <tr>\n",
       "      <th>2018-12-18 22:25:00</th>\n",
       "      <td>0.065621</td>\n",
       "    </tr>\n",
       "    <tr>\n",
       "      <th>2018-12-18 22:30:00</th>\n",
       "      <td>0.066358</td>\n",
       "    </tr>\n",
       "    <tr>\n",
       "      <th>2018-12-18 22:35:00</th>\n",
       "      <td>0.066040</td>\n",
       "    </tr>\n",
       "    <tr>\n",
       "      <th>2018-12-18 22:40:00</th>\n",
       "      <td>0.067916</td>\n",
       "    </tr>\n",
       "  </tbody>\n",
       "</table>\n",
       "</div>"
      ],
      "text/plain": [
       "resource_type              gce_instance\n",
       "project_id           ajhamilton-scratch\n",
       "zone                         us-west1-b\n",
       "instance_id         1559827146510062338\n",
       "instance_name                    foofoo\n",
       "2018-12-18 22:20:00            0.067036\n",
       "2018-12-18 22:25:00            0.065621\n",
       "2018-12-18 22:30:00            0.066358\n",
       "2018-12-18 22:35:00            0.066040\n",
       "2018-12-18 22:40:00            0.067916"
      ]
     },
     "execution_count": 16,
     "metadata": {},
     "output_type": "execute_result"
    }
   ],
   "source": [
    "data_multi_level = query_cpu_aligned.as_dataframe()\n",
    "data_multi_level.tail(5)"
   ]
  },
  {
   "cell_type": "markdown",
   "metadata": {},
   "source": [
    "### Filter the dataframe\n",
    "\n",
    "Let us filter the multi-level dataframe based on the common prefix. Applying the filter will look across all column headers."
   ]
  },
  {
   "cell_type": "code",
   "execution_count": 17,
   "metadata": {},
   "outputs": [
    {
     "name": "stdout",
     "output_type": "stream",
     "text": [
      "Finding pattern \"foofoo\" in the dataframe headers\n"
     ]
    }
   ],
   "source": [
    "print('Finding pattern \"%s\" in the dataframe headers' % (common_prefix,))"
   ]
  },
  {
   "cell_type": "code",
   "execution_count": 18,
   "metadata": {},
   "outputs": [
    {
     "data": {
      "text/html": [
       "<div>\n",
       "<style scoped>\n",
       "    .dataframe tbody tr th:only-of-type {\n",
       "        vertical-align: middle;\n",
       "    }\n",
       "\n",
       "    .dataframe tbody tr th {\n",
       "        vertical-align: top;\n",
       "    }\n",
       "\n",
       "    .dataframe thead tr th {\n",
       "        text-align: left;\n",
       "    }\n",
       "</style>\n",
       "<table border=\"1\" class=\"dataframe\">\n",
       "  <thead>\n",
       "    <tr>\n",
       "      <th>resource_type</th>\n",
       "      <th>gce_instance</th>\n",
       "    </tr>\n",
       "    <tr>\n",
       "      <th>project_id</th>\n",
       "      <th>ajhamilton-scratch</th>\n",
       "    </tr>\n",
       "    <tr>\n",
       "      <th>zone</th>\n",
       "      <th>us-west1-b</th>\n",
       "    </tr>\n",
       "    <tr>\n",
       "      <th>instance_id</th>\n",
       "      <th>1559827146510062338</th>\n",
       "    </tr>\n",
       "    <tr>\n",
       "      <th>instance_name</th>\n",
       "      <th>foofoo</th>\n",
       "    </tr>\n",
       "  </thead>\n",
       "  <tbody>\n",
       "    <tr>\n",
       "      <th>2018-12-18 22:20:00</th>\n",
       "      <td>0.067036</td>\n",
       "    </tr>\n",
       "    <tr>\n",
       "      <th>2018-12-18 22:25:00</th>\n",
       "      <td>0.065621</td>\n",
       "    </tr>\n",
       "    <tr>\n",
       "      <th>2018-12-18 22:30:00</th>\n",
       "      <td>0.066358</td>\n",
       "    </tr>\n",
       "    <tr>\n",
       "      <th>2018-12-18 22:35:00</th>\n",
       "      <td>0.066040</td>\n",
       "    </tr>\n",
       "    <tr>\n",
       "      <th>2018-12-18 22:40:00</th>\n",
       "      <td>0.067916</td>\n",
       "    </tr>\n",
       "  </tbody>\n",
       "</table>\n",
       "</div>"
      ],
      "text/plain": [
       "resource_type              gce_instance\n",
       "project_id           ajhamilton-scratch\n",
       "zone                         us-west1-b\n",
       "instance_id         1559827146510062338\n",
       "instance_name                    foofoo\n",
       "2018-12-18 22:20:00            0.067036\n",
       "2018-12-18 22:25:00            0.065621\n",
       "2018-12-18 22:30:00            0.066358\n",
       "2018-12-18 22:35:00            0.066040\n",
       "2018-12-18 22:40:00            0.067916"
      ]
     },
     "execution_count": 18,
     "metadata": {},
     "output_type": "execute_result"
    }
   ],
   "source": [
    "data_multi_level.filter(regex=common_prefix).tail(5)"
   ]
  },
  {
   "cell_type": "markdown",
   "metadata": {},
   "source": [
    "### Aggregate columns in the dataframe\n",
    "\n",
    "Here, we aggregate the multi-level dataframe at the `zone` level. This is similar to applying reduction using `'REDUCE_MEAN'` on the field `'resource.zone'`."
   ]
  },
  {
   "cell_type": "code",
   "execution_count": 19,
   "metadata": {},
   "outputs": [
    {
     "data": {
      "text/html": [
       "<div>\n",
       "<style scoped>\n",
       "    .dataframe tbody tr th:only-of-type {\n",
       "        vertical-align: middle;\n",
       "    }\n",
       "\n",
       "    .dataframe tbody tr th {\n",
       "        vertical-align: top;\n",
       "    }\n",
       "\n",
       "    .dataframe thead th {\n",
       "        text-align: right;\n",
       "    }\n",
       "</style>\n",
       "<table border=\"1\" class=\"dataframe\">\n",
       "  <thead>\n",
       "    <tr style=\"text-align: right;\">\n",
       "      <th>zone</th>\n",
       "      <th>us-west1-b</th>\n",
       "    </tr>\n",
       "  </thead>\n",
       "  <tbody>\n",
       "    <tr>\n",
       "      <th>2018-12-18 22:20:00</th>\n",
       "      <td>0.067036</td>\n",
       "    </tr>\n",
       "    <tr>\n",
       "      <th>2018-12-18 22:25:00</th>\n",
       "      <td>0.065621</td>\n",
       "    </tr>\n",
       "    <tr>\n",
       "      <th>2018-12-18 22:30:00</th>\n",
       "      <td>0.066358</td>\n",
       "    </tr>\n",
       "    <tr>\n",
       "      <th>2018-12-18 22:35:00</th>\n",
       "      <td>0.066040</td>\n",
       "    </tr>\n",
       "    <tr>\n",
       "      <th>2018-12-18 22:40:00</th>\n",
       "      <td>0.067916</td>\n",
       "    </tr>\n",
       "  </tbody>\n",
       "</table>\n",
       "</div>"
      ],
      "text/plain": [
       "zone                 us-west1-b\n",
       "2018-12-18 22:20:00    0.067036\n",
       "2018-12-18 22:25:00    0.065621\n",
       "2018-12-18 22:30:00    0.066358\n",
       "2018-12-18 22:35:00    0.066040\n",
       "2018-12-18 22:40:00    0.067916"
      ]
     },
     "execution_count": 19,
     "metadata": {},
     "output_type": "execute_result"
    }
   ],
   "source": [
    "data_multi_level.groupby(level='zone', axis=1).mean().tail(5)"
   ]
  }
 ],
 "metadata": {
  "kernelspec": {
   "display_name": "datalab-notebooks",
   "language": "python",
   "name": "datalab-notebooks"
  },
  "language_info": {
   "codemirror_mode": {
    "name": "ipython",
    "version": 3
   },
   "file_extension": ".py",
   "mimetype": "text/x-python",
   "name": "python",
   "nbconvert_exporter": "python",
   "pygments_lexer": "ipython3",
   "version": "3.6.4"
  }
 },
 "nbformat": 4,
 "nbformat_minor": 1
}
